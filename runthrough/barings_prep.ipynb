{
 "cells": [
  {
   "cell_type": "code",
   "execution_count": 63,
   "metadata": {},
   "outputs": [],
   "source": [
    "# Basic imports\n",
    "import pandas as pd\n",
    "import numpy as np\n",
    "\n",
    "\n",
    "import sqlalchemy as sa\n",
    "\n",
    "import warnings\n",
    "warnings.filterwarnings('ignore')\n",
    "import os\n",
    "from dotenv import load_dotenv\n",
    "load_dotenv()\n",
    "\n",
    "engine = sa.create_engine(\"mysql+pymysql://{user}:{pw}@{host}/{db}\"\n",
    "    .format(host=os.getenv('host'), db=os.getenv('db'), user=os.getenv('uname'), pw=os.getenv('password')))\n",
    "\n",
    "engine2 = sa.create_engine(\"mysql+pymysql://{user}:{pw}@{host}/{db}\"\n",
    "    .format(host=os.getenv('host'), db=os.getenv('db2'), user=os.getenv('uname'), pw=os.getenv('password')))\n",
    "\n"
   ]
  },
  {
   "cell_type": "code",
   "execution_count": 64,
   "metadata": {},
   "outputs": [
    {
     "data": {
      "text/html": [
       "<div>\n",
       "<style scoped>\n",
       "    .dataframe tbody tr th:only-of-type {\n",
       "        vertical-align: middle;\n",
       "    }\n",
       "\n",
       "    .dataframe tbody tr th {\n",
       "        vertical-align: top;\n",
       "    }\n",
       "\n",
       "    .dataframe thead th {\n",
       "        text-align: right;\n",
       "    }\n",
       "</style>\n",
       "<table border=\"1\" class=\"dataframe\">\n",
       "  <thead>\n",
       "    <tr style=\"text-align: right;\">\n",
       "      <th></th>\n",
       "      <th>GP</th>\n",
       "      <th>Note_Yr</th>\n",
       "      <th>Note_Mth</th>\n",
       "      <th>NoteDt</th>\n",
       "      <th>LoanAmt</th>\n",
       "      <th>MaturityDt</th>\n",
       "      <th>MaturityMthsQty</th>\n",
       "      <th>PrepayDt</th>\n",
       "      <th>PrepayMthsQty</th>\n",
       "      <th>DefaultDt</th>\n",
       "      <th>...</th>\n",
       "      <th>state_abbreviation</th>\n",
       "      <th>state_name</th>\n",
       "      <th>BusinessOrgCd</th>\n",
       "      <th>WomanOwnerInd</th>\n",
       "      <th>VetCd</th>\n",
       "      <th>UseOfProceedCountyCd</th>\n",
       "      <th>UrbanRuralInd</th>\n",
       "      <th>Gty Pct</th>\n",
       "      <th>Lender Rate</th>\n",
       "      <th>EmployeesExistingQty</th>\n",
       "    </tr>\n",
       "  </thead>\n",
       "  <tbody>\n",
       "    <tr>\n",
       "      <th>0</th>\n",
       "      <td>423883</td>\n",
       "      <td>2000</td>\n",
       "      <td>3</td>\n",
       "      <td>2000-03-31</td>\n",
       "      <td>25000.0</td>\n",
       "      <td>2007-03-31</td>\n",
       "      <td>84</td>\n",
       "      <td>None</td>\n",
       "      <td>NaN</td>\n",
       "      <td>None</td>\n",
       "      <td>...</td>\n",
       "      <td>CA</td>\n",
       "      <td>California</td>\n",
       "      <td>1.0</td>\n",
       "      <td>2</td>\n",
       "      <td>1.0</td>\n",
       "      <td>037</td>\n",
       "      <td>0.0</td>\n",
       "      <td>0.5</td>\n",
       "      <td>0.13</td>\n",
       "      <td>1.0</td>\n",
       "    </tr>\n",
       "    <tr>\n",
       "      <th>1</th>\n",
       "      <td>423886</td>\n",
       "      <td>2000</td>\n",
       "      <td>5</td>\n",
       "      <td>2000-05-31</td>\n",
       "      <td>20000.0</td>\n",
       "      <td>2007-05-31</td>\n",
       "      <td>84</td>\n",
       "      <td>2000-06-30</td>\n",
       "      <td>0.0</td>\n",
       "      <td>None</td>\n",
       "      <td>...</td>\n",
       "      <td>PA</td>\n",
       "      <td>Pennsylvania</td>\n",
       "      <td>1.0</td>\n",
       "      <td>2</td>\n",
       "      <td>1.0</td>\n",
       "      <td>003</td>\n",
       "      <td>0.0</td>\n",
       "      <td>0.5</td>\n",
       "      <td>0.13</td>\n",
       "      <td>2.0</td>\n",
       "    </tr>\n",
       "    <tr>\n",
       "      <th>2</th>\n",
       "      <td>423917</td>\n",
       "      <td>2000</td>\n",
       "      <td>7</td>\n",
       "      <td>2000-07-31</td>\n",
       "      <td>10000.0</td>\n",
       "      <td>2001-07-31</td>\n",
       "      <td>12</td>\n",
       "      <td>None</td>\n",
       "      <td>NaN</td>\n",
       "      <td>None</td>\n",
       "      <td>...</td>\n",
       "      <td>MA</td>\n",
       "      <td>Massachusetts</td>\n",
       "      <td>3.0</td>\n",
       "      <td>1</td>\n",
       "      <td>1.0</td>\n",
       "      <td>017</td>\n",
       "      <td>0.0</td>\n",
       "      <td>0.5</td>\n",
       "      <td>0.12</td>\n",
       "      <td>3.0</td>\n",
       "    </tr>\n",
       "    <tr>\n",
       "      <th>3</th>\n",
       "      <td>423941</td>\n",
       "      <td>2000</td>\n",
       "      <td>7</td>\n",
       "      <td>2000-07-31</td>\n",
       "      <td>100000.0</td>\n",
       "      <td>2001-07-31</td>\n",
       "      <td>12</td>\n",
       "      <td>None</td>\n",
       "      <td>NaN</td>\n",
       "      <td>None</td>\n",
       "      <td>...</td>\n",
       "      <td>MA</td>\n",
       "      <td>Massachusetts</td>\n",
       "      <td>3.0</td>\n",
       "      <td>2</td>\n",
       "      <td>1.0</td>\n",
       "      <td>017</td>\n",
       "      <td>0.0</td>\n",
       "      <td>0.5</td>\n",
       "      <td>0.10</td>\n",
       "      <td>1.0</td>\n",
       "    </tr>\n",
       "    <tr>\n",
       "      <th>4</th>\n",
       "      <td>423946</td>\n",
       "      <td>2002</td>\n",
       "      <td>5</td>\n",
       "      <td>2002-05-31</td>\n",
       "      <td>65000.0</td>\n",
       "      <td>2007-05-31</td>\n",
       "      <td>60</td>\n",
       "      <td>2002-06-30</td>\n",
       "      <td>0.0</td>\n",
       "      <td>None</td>\n",
       "      <td>...</td>\n",
       "      <td>NC</td>\n",
       "      <td>North Carolina</td>\n",
       "      <td>3.0</td>\n",
       "      <td>1</td>\n",
       "      <td>1.0</td>\n",
       "      <td>119</td>\n",
       "      <td>0.0</td>\n",
       "      <td>0.8</td>\n",
       "      <td>0.10</td>\n",
       "      <td>7.0</td>\n",
       "    </tr>\n",
       "  </tbody>\n",
       "</table>\n",
       "<p>5 rows × 25 columns</p>\n",
       "</div>"
      ],
      "text/plain": [
       "       GP  Note_Yr  Note_Mth      NoteDt   LoanAmt  MaturityDt   \n",
       "0  423883     2000         3  2000-03-31   25000.0  2007-03-31  \\\n",
       "1  423886     2000         5  2000-05-31   20000.0  2007-05-31   \n",
       "2  423917     2000         7  2000-07-31   10000.0  2001-07-31   \n",
       "3  423941     2000         7  2000-07-31  100000.0  2001-07-31   \n",
       "4  423946     2002         5  2002-05-31   65000.0  2007-05-31   \n",
       "\n",
       "   MaturityMthsQty    PrepayDt  PrepayMthsQty DefaultDt  ...   \n",
       "0               84        None            NaN      None  ...  \\\n",
       "1               84  2000-06-30            0.0      None  ...   \n",
       "2               12        None            NaN      None  ...   \n",
       "3               12        None            NaN      None  ...   \n",
       "4               60  2002-06-30            0.0      None  ...   \n",
       "\n",
       "   state_abbreviation      state_name  BusinessOrgCd WomanOwnerInd  VetCd   \n",
       "0                  CA      California            1.0             2    1.0  \\\n",
       "1                  PA    Pennsylvania            1.0             2    1.0   \n",
       "2                  MA   Massachusetts            3.0             1    1.0   \n",
       "3                  MA   Massachusetts            3.0             2    1.0   \n",
       "4                  NC  North Carolina            3.0             1    1.0   \n",
       "\n",
       "  UseOfProceedCountyCd UrbanRuralInd  Gty Pct  Lender Rate   \n",
       "0                  037           0.0      0.5         0.13  \\\n",
       "1                  003           0.0      0.5         0.13   \n",
       "2                  017           0.0      0.5         0.12   \n",
       "3                  017           0.0      0.5         0.10   \n",
       "4                  119           0.0      0.8         0.10   \n",
       "\n",
       "   EmployeesExistingQty  \n",
       "0                   1.0  \n",
       "1                   2.0  \n",
       "2                   3.0  \n",
       "3                   1.0  \n",
       "4                   7.0  \n",
       "\n",
       "[5 rows x 25 columns]"
      ]
     },
     "execution_count": 64,
     "metadata": {},
     "output_type": "execute_result"
    }
   ],
   "source": [
    "def add_zeros(arr):\n",
    "    return np.array([s.zfill(3) for s in arr])\n",
    "\n",
    "q = \"\"\"SELECT barings_data.*, borrower7afoia.BusinessOrgCd, borrower7afoia.WomanOwnerInd, borrower7afoia.VetCd, borrower7afoia.UseOfProceedCountyCd, borrower7afoia.UrbanRuralInd,\n",
    "round(1-loantbl7afoia.BankParticipationPct,2) as `Gty Pct`, round(loantbl7afoia.BankInterestPct,2) as `Lender Rate`,\n",
    "elipsmisc7afoia.EmployeesExistingQty FROM barings_data\n",
    "LEFT JOIN borrower7afoia on borrower7afoia.ObservationNmb = barings_data.GP\n",
    "LEFT JOIN loantbl7afoia on loantbl7afoia.ObservationNmb = barings_data.GP\n",
    "LEFT JOIN elipsmisc7afoia on elipsmisc7afoia.ObservationNmb  = barings_data.GP;\"\"\"\n",
    "\n",
    "df = pd.read_sql(q,con=engine)\n",
    "df['UseOfProceedCountyCd'] = df['UseOfProceedCountyCd'].astype(str)\n",
    "df['UseOfProceedCountyCd'] = add_zeros(df['UseOfProceedCountyCd'])\n",
    "\n",
    "df.head()"
   ]
  },
  {
   "cell_type": "code",
   "execution_count": 82,
   "metadata": {},
   "outputs": [],
   "source": [
    "df = df.rename(columns={'CodeText':'IndustryDesc','Code':'NAICS'})"
   ]
  },
  {
   "cell_type": "code",
   "execution_count": 87,
   "metadata": {},
   "outputs": [],
   "source": [
    "df = df.rename(columns={'PP_qty':'MoB'})"
   ]
  },
  {
   "cell_type": "markdown",
   "metadata": {},
   "source": [
    "1. Resolve County Codes"
   ]
  },
  {
   "cell_type": "code",
   "execution_count": 65,
   "metadata": {},
   "outputs": [
    {
     "data": {
      "text/plain": [
       "CountyName\n",
       "LOS ANGELES     34492\n",
       "ORANGE          15306\n",
       "MARICOPA        12256\n",
       "HARRIS          11866\n",
       "COOK            11043\n",
       "                ...  \n",
       "HARTLEY             1\n",
       "TREASURE            1\n",
       "THROCKMORTON        1\n",
       "Eastern             1\n",
       "FOARD               1\n",
       "Name: count, Length: 1918, dtype: int64"
      ]
     },
     "execution_count": 65,
     "metadata": {},
     "output_type": "execute_result"
    }
   ],
   "source": [
    "df['use_of']=df['state_abbreviation']+df['UseOfProceedCountyCd']\n",
    "state_q=\"\"\"SELECT * FROM STATE_COUNTY_CODES\"\"\"\n",
    "state_county = pd.read_sql(state_q,con=engine2)\n",
    "state_county['use_of'] = state_county['StateAbbreviation'] + state_county['CountyCode']\n",
    "df['use_of'] = df['use_of'].str.strip()\n",
    "county_map = state_county[['use_of','CountyName']].set_index('use_of').to_dict()\n",
    "\n",
    "df['CountyName'] = df['use_of'].map(county_map['CountyName'])\n",
    "\n",
    "df['CountyName'].value_counts()"
   ]
  },
  {
   "cell_type": "markdown",
   "metadata": {},
   "source": [
    "2. Resolve Woman Codes"
   ]
  },
  {
   "cell_type": "code",
   "execution_count": 66,
   "metadata": {},
   "outputs": [],
   "source": [
    "woman = pd.read_sql(sql=\"\"\"SELECT * FROM womancode_f75tbl\"\"\", con=engine2)\n",
    "\n",
    "woman.set_index('WomanCode',inplace=True)\n",
    "\n",
    "woman_map = woman.to_dict()['WomanCodeDesc']\n",
    "\n",
    "df['WomanOwnerInd'] = df['WomanOwnerInd'].astype(int).astype(str)\n",
    "\n",
    "df['WomanDesc'] = df['WomanOwnerInd'].map(woman_map)\n"
   ]
  },
  {
   "cell_type": "markdown",
   "metadata": {},
   "source": [
    "3. Resolve Vet Codes"
   ]
  },
  {
   "cell_type": "code",
   "execution_count": 67,
   "metadata": {},
   "outputs": [],
   "source": [
    "veteran = pd.read_sql(sql=\"\"\"SELECT * FROM veteranloan_f76tbl\"\"\", con=engine2)\n",
    "\n",
    "veteran.set_index('VetCode',inplace=True)\n",
    "\n",
    "veteran_map = veteran.to_dict()['VetCodeDesc']\n",
    "\n",
    "df['VetCd'] = df['VetCd'].fillna(1)\n",
    "\n",
    "df['VetCd'] = df['VetCd'].astype(int).astype(str)\n",
    "\n",
    "df['veteranDesc'] = df['VetCd'].map(veteran_map)"
   ]
  },
  {
   "cell_type": "code",
   "execution_count": 68,
   "metadata": {},
   "outputs": [
    {
     "data": {
      "text/plain": [
       "veteranDesc\n",
       "Non-Veteran            738226\n",
       "Other Veteran           38435\n",
       "Vietnam Era Veteran     11027\n",
       "Name: count, dtype: int64"
      ]
     },
     "execution_count": 68,
     "metadata": {},
     "output_type": "execute_result"
    }
   ],
   "source": [
    "df['veteranDesc'].value_counts()"
   ]
  },
  {
   "cell_type": "markdown",
   "metadata": {},
   "source": [
    "4. Resolve Business Org Codes"
   ]
  },
  {
   "cell_type": "code",
   "execution_count": 72,
   "metadata": {},
   "outputs": [],
   "source": [
    "bus_org = pd.read_sql(sql=\"\"\"SELECT * FROM busiorgcode_f68tbl\"\"\", con=engine2)\n",
    "\n",
    "bus_org.set_index('OrgCode',inplace=True)\n",
    "\n",
    "busi_org_map = bus_org.to_dict()['OrgCodeDescription']\n",
    "\n",
    "df['BusinessOrgCd'] = df['BusinessOrgCd'].fillna(1)\n",
    "\n",
    "df['BusinessOrgCd'] = df['BusinessOrgCd'].astype(int).astype(str)\n",
    "\n",
    "df['BusinessOrgDesc'] = df['BusinessOrgCd'].map(busi_org_map)"
   ]
  },
  {
   "cell_type": "code",
   "execution_count": 86,
   "metadata": {},
   "outputs": [
    {
     "name": "stdout",
     "output_type": "stream",
     "text": [
      "['GP', 'Note_Yr', 'Note_Mth', 'NoteDt', 'LoanAmt', 'MaturityDt', 'MaturityMthsQty', 'PrepayDt', 'PrepayMthsQty', 'DefaultDt', 'DefaultMthsQty', 'PP_qty', 'NAICS', 'IndustryDesc', 'Margin', 'state_abbreviation', 'state_name', 'BusinessOrgCd', 'WomanOwnerInd', 'VetCd', 'UseOfProceedCountyCd', 'UrbanRuralInd', 'Gty Pct', 'Lender Rate', 'EmployeesExistingQty', 'use_of', 'CountyName', 'WomanDesc', 'veteranDesc', 'BusinessOrgDesc']\n"
     ]
    }
   ],
   "source": [
    "print((df.columns).to_list())"
   ]
  },
  {
   "cell_type": "code",
   "execution_count": 93,
   "metadata": {},
   "outputs": [],
   "source": [
    "df = df[['GP', 'Note_Yr', 'Note_Mth', 'NoteDt', 'MaturityDt', 'MaturityMthsQty', 'LoanAmt', 'Margin', 'Lender Rate', 'Gty Pct', 'PrepayDt', 'PrepayMthsQty', 'DefaultDt', 'DefaultMthsQty', 'MoB', 'NAICS', 'IndustryDesc', 'state_abbreviation', 'state_name', 'BusinessOrgCd', 'WomanOwnerInd', 'WomanDesc', 'VetCd', 'veteranDesc', 'use_of', 'UseOfProceedCountyCd', 'CountyName', 'EmployeesExistingQty', 'BusinessOrgDesc']]"
   ]
  },
  {
   "cell_type": "code",
   "execution_count": 96,
   "metadata": {},
   "outputs": [
    {
     "data": {
      "text/plain": [
       "795113"
      ]
     },
     "execution_count": 96,
     "metadata": {},
     "output_type": "execute_result"
    }
   ],
   "source": [
    "df.to_sql('barings_data_v2', con=engine, index=False, if_exists='replace')"
   ]
  },
  {
   "cell_type": "code",
   "execution_count": 98,
   "metadata": {},
   "outputs": [],
   "source": [
    "q=\"\"\"SELECT * FROM barings_data_v2\"\"\"\n",
    "\n",
    "df1 = pd.read_sql(sql=q, con=engine)"
   ]
  },
  {
   "cell_type": "code",
   "execution_count": 99,
   "metadata": {},
   "outputs": [],
   "source": [
    "df1.to_csv('presentable_loantapes/barings_SBA7(a)_data.csv')"
   ]
  },
  {
   "cell_type": "code",
   "execution_count": null,
   "metadata": {},
   "outputs": [],
   "source": []
  }
 ],
 "metadata": {
  "kernelspec": {
   "display_name": "venv",
   "language": "python",
   "name": "python3"
  },
  "language_info": {
   "codemirror_mode": {
    "name": "ipython",
    "version": 3
   },
   "file_extension": ".py",
   "mimetype": "text/x-python",
   "name": "python",
   "nbconvert_exporter": "python",
   "pygments_lexer": "ipython3",
   "version": "3.11.3"
  },
  "orig_nbformat": 4
 },
 "nbformat": 4,
 "nbformat_minor": 2
}
