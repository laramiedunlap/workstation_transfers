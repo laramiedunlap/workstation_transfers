{
 "cells": [
  {
   "attachments": {},
   "cell_type": "markdown",
   "metadata": {},
   "source": [
    "### Basic imports"
   ]
  },
  {
   "cell_type": "code",
   "execution_count": 179,
   "metadata": {},
   "outputs": [],
   "source": [
    "import pandas as pd\n",
    "import sqlalchemy as sa\n",
    "import numpy as np\n",
    "import warnings\n",
    "warnings.filterwarnings('ignore')\n",
    "import os\n",
    "from dotenv import load_dotenv\n",
    "load_dotenv()\n",
    "\n",
    "engine = sa.create_engine(\"mysql+pymysql://{user}:{pw}@{host}/{db}\"\n",
    "    .format(host=os.getenv('host'), db=os.getenv('db'), user=os.getenv('uname'), pw=os.getenv('password')))\n"
   ]
  },
  {
   "attachments": {},
   "cell_type": "markdown",
   "metadata": {},
   "source": [
    "### 1. Read in Data from csv --> could also use pd.read_sql and use .env to load auth info"
   ]
  },
  {
   "cell_type": "code",
   "execution_count": 180,
   "metadata": {},
   "outputs": [],
   "source": [
    "loan_data = pd.read_csv(\"raw_data/loans_v2.csv\")\n",
    "# format date columns to datetime data types\n",
    "date_cols = [c for c in loan_data.columns if str(c)[-2:]=='Dt']\n",
    "for col in date_cols:\n",
    "    loan_data[col] = pd.to_datetime(loan_data[col])\n"
   ]
  },
  {
   "cell_type": "code",
   "execution_count": 181,
   "metadata": {},
   "outputs": [],
   "source": [
    "def subset_dataframe(df, conditions, inverse=False):\n",
    "    \"\"\"return a subset of a dataframe based on multiple columns and conditions\"\"\"\n",
    "    if not inverse:\n",
    "        mask = pd.Series(True, index=df.index)\n",
    "        for col, cond in conditions.items():\n",
    "            mask &= df[col].isin(cond)\n",
    "    else:\n",
    "        mask = pd.Series(True, index=df.index)\n",
    "        for col, cond in conditions.items():\n",
    "            mask &= ~df[col].isin(cond)\n",
    "    return df[mask]"
   ]
  },
  {
   "cell_type": "code",
   "execution_count": 200,
   "metadata": {},
   "outputs": [
    {
     "data": {
      "text/html": [
       "<div>\n",
       "<style scoped>\n",
       "    .dataframe tbody tr th:only-of-type {\n",
       "        vertical-align: middle;\n",
       "    }\n",
       "\n",
       "    .dataframe tbody tr th {\n",
       "        vertical-align: top;\n",
       "    }\n",
       "\n",
       "    .dataframe thead th {\n",
       "        text-align: right;\n",
       "    }\n",
       "</style>\n",
       "<table border=\"1\" class=\"dataframe\">\n",
       "  <thead>\n",
       "    <tr style=\"text-align: right;\">\n",
       "      <th></th>\n",
       "      <th>GP</th>\n",
       "      <th>Note_Yr</th>\n",
       "      <th>Note_Mth</th>\n",
       "      <th>NoteDt</th>\n",
       "      <th>LoanAmt</th>\n",
       "      <th>MaturityDt</th>\n",
       "      <th>MaturityMthsQty</th>\n",
       "      <th>PrepayDt</th>\n",
       "      <th>PrepayMthsQty</th>\n",
       "      <th>DefaultDt</th>\n",
       "      <th>DefaultMthsQty</th>\n",
       "      <th>PP_qty</th>\n",
       "      <th>MatBucket</th>\n",
       "      <th>Code</th>\n",
       "      <th>CodeText</th>\n",
       "      <th>Margin</th>\n",
       "      <th>MarginBucket</th>\n",
       "      <th>state_abbreviation</th>\n",
       "      <th>state_name</th>\n",
       "      <th>yr</th>\n",
       "    </tr>\n",
       "  </thead>\n",
       "  <tbody>\n",
       "    <tr>\n",
       "      <th>190</th>\n",
       "      <td>4435462</td>\n",
       "      <td>2008</td>\n",
       "      <td>4</td>\n",
       "      <td>2008-04-30</td>\n",
       "      <td>378000.00</td>\n",
       "      <td>2031-03-30</td>\n",
       "      <td>275</td>\n",
       "      <td>2019-12-11</td>\n",
       "      <td>139.0</td>\n",
       "      <td>2019-08-23</td>\n",
       "      <td>135.0</td>\n",
       "      <td>135.0</td>\n",
       "      <td>21+</td>\n",
       "      <td>811198.0</td>\n",
       "      <td>All Other Automotive Repair and Maintenance</td>\n",
       "      <td>0.0200</td>\n",
       "      <td>0.0175 - 0.02</td>\n",
       "      <td>GA</td>\n",
       "      <td>Georgia</td>\n",
       "      <td>2008.0</td>\n",
       "    </tr>\n",
       "    <tr>\n",
       "      <th>221</th>\n",
       "      <td>1483193</td>\n",
       "      <td>2000</td>\n",
       "      <td>2</td>\n",
       "      <td>2000-02-29</td>\n",
       "      <td>1000000.00</td>\n",
       "      <td>2025-01-27</td>\n",
       "      <td>298</td>\n",
       "      <td>2002-10-22</td>\n",
       "      <td>31.0</td>\n",
       "      <td>2000-12-20</td>\n",
       "      <td>9.0</td>\n",
       "      <td>9.0</td>\n",
       "      <td>21+</td>\n",
       "      <td>722511.0</td>\n",
       "      <td>Full-Service Restaurants</td>\n",
       "      <td>0.0175</td>\n",
       "      <td>0.015 - 0.0175</td>\n",
       "      <td>IN</td>\n",
       "      <td>Indiana</td>\n",
       "      <td>2000.0</td>\n",
       "    </tr>\n",
       "    <tr>\n",
       "      <th>228</th>\n",
       "      <td>1477340</td>\n",
       "      <td>2000</td>\n",
       "      <td>1</td>\n",
       "      <td>2000-01-31</td>\n",
       "      <td>1500000.00</td>\n",
       "      <td>2022-01-31</td>\n",
       "      <td>264</td>\n",
       "      <td>2009-05-27</td>\n",
       "      <td>111.0</td>\n",
       "      <td>2000-09-22</td>\n",
       "      <td>7.0</td>\n",
       "      <td>7.0</td>\n",
       "      <td>21+</td>\n",
       "      <td>441222.0</td>\n",
       "      <td>Boat Dealers</td>\n",
       "      <td>0.0125</td>\n",
       "      <td>0.01 - 0.0125</td>\n",
       "      <td>NY</td>\n",
       "      <td>New York</td>\n",
       "      <td>2000.0</td>\n",
       "    </tr>\n",
       "    <tr>\n",
       "      <th>235</th>\n",
       "      <td>1478838</td>\n",
       "      <td>2000</td>\n",
       "      <td>3</td>\n",
       "      <td>2000-03-31</td>\n",
       "      <td>1000000.00</td>\n",
       "      <td>2025-03-31</td>\n",
       "      <td>300</td>\n",
       "      <td>2007-07-16</td>\n",
       "      <td>87.0</td>\n",
       "      <td>2001-01-18</td>\n",
       "      <td>9.0</td>\n",
       "      <td>9.0</td>\n",
       "      <td>21+</td>\n",
       "      <td>457120.0</td>\n",
       "      <td>Other Gasoline Stations</td>\n",
       "      <td>0.0275</td>\n",
       "      <td>0.025 - 0.0275</td>\n",
       "      <td>TX</td>\n",
       "      <td>Texas</td>\n",
       "      <td>2000.0</td>\n",
       "    </tr>\n",
       "    <tr>\n",
       "      <th>358</th>\n",
       "      <td>4417863</td>\n",
       "      <td>2008</td>\n",
       "      <td>1</td>\n",
       "      <td>2008-01-31</td>\n",
       "      <td>1910922.62</td>\n",
       "      <td>2031-03-15</td>\n",
       "      <td>277</td>\n",
       "      <td>2018-10-24</td>\n",
       "      <td>128.0</td>\n",
       "      <td>2009-10-26</td>\n",
       "      <td>20.0</td>\n",
       "      <td>20.0</td>\n",
       "      <td>21+</td>\n",
       "      <td>812910.0</td>\n",
       "      <td>Pet Care (except Veterinary) Services</td>\n",
       "      <td>0.0000</td>\n",
       "      <td>NaN</td>\n",
       "      <td>CO</td>\n",
       "      <td>Colorado</td>\n",
       "      <td>2008.0</td>\n",
       "    </tr>\n",
       "    <tr>\n",
       "      <th>...</th>\n",
       "      <td>...</td>\n",
       "      <td>...</td>\n",
       "      <td>...</td>\n",
       "      <td>...</td>\n",
       "      <td>...</td>\n",
       "      <td>...</td>\n",
       "      <td>...</td>\n",
       "      <td>...</td>\n",
       "      <td>...</td>\n",
       "      <td>...</td>\n",
       "      <td>...</td>\n",
       "      <td>...</td>\n",
       "      <td>...</td>\n",
       "      <td>...</td>\n",
       "      <td>...</td>\n",
       "      <td>...</td>\n",
       "      <td>...</td>\n",
       "      <td>...</td>\n",
       "      <td>...</td>\n",
       "      <td>...</td>\n",
       "    </tr>\n",
       "    <tr>\n",
       "      <th>820396</th>\n",
       "      <td>17982124</td>\n",
       "      <td>2021</td>\n",
       "      <td>9</td>\n",
       "      <td>2021-09-30</td>\n",
       "      <td>215000.00</td>\n",
       "      <td>2046-09-21</td>\n",
       "      <td>299</td>\n",
       "      <td>NaT</td>\n",
       "      <td>NaN</td>\n",
       "      <td>NaT</td>\n",
       "      <td>NaN</td>\n",
       "      <td>NaN</td>\n",
       "      <td>21+</td>\n",
       "      <td>NaN</td>\n",
       "      <td>NaN</td>\n",
       "      <td>0.0275</td>\n",
       "      <td>0.025 - 0.0275</td>\n",
       "      <td>AZ</td>\n",
       "      <td>Arizona</td>\n",
       "      <td>NaN</td>\n",
       "    </tr>\n",
       "    <tr>\n",
       "      <th>820404</th>\n",
       "      <td>17985370</td>\n",
       "      <td>2021</td>\n",
       "      <td>9</td>\n",
       "      <td>2021-09-30</td>\n",
       "      <td>499948.12</td>\n",
       "      <td>2046-09-27</td>\n",
       "      <td>299</td>\n",
       "      <td>NaT</td>\n",
       "      <td>NaN</td>\n",
       "      <td>NaT</td>\n",
       "      <td>NaN</td>\n",
       "      <td>NaN</td>\n",
       "      <td>21+</td>\n",
       "      <td>NaN</td>\n",
       "      <td>NaN</td>\n",
       "      <td>0.0250</td>\n",
       "      <td>0.0225 - 0.025</td>\n",
       "      <td>TX</td>\n",
       "      <td>Texas</td>\n",
       "      <td>NaN</td>\n",
       "    </tr>\n",
       "    <tr>\n",
       "      <th>820422</th>\n",
       "      <td>17992033</td>\n",
       "      <td>2021</td>\n",
       "      <td>12</td>\n",
       "      <td>2021-12-16</td>\n",
       "      <td>1007700.00</td>\n",
       "      <td>2046-12-09</td>\n",
       "      <td>299</td>\n",
       "      <td>NaT</td>\n",
       "      <td>NaN</td>\n",
       "      <td>NaT</td>\n",
       "      <td>NaN</td>\n",
       "      <td>NaN</td>\n",
       "      <td>21+</td>\n",
       "      <td>NaN</td>\n",
       "      <td>NaN</td>\n",
       "      <td>0.0160</td>\n",
       "      <td>0.015 - 0.0175</td>\n",
       "      <td>OH</td>\n",
       "      <td>Ohio</td>\n",
       "      <td>NaN</td>\n",
       "    </tr>\n",
       "    <tr>\n",
       "      <th>820423</th>\n",
       "      <td>17993054</td>\n",
       "      <td>2021</td>\n",
       "      <td>12</td>\n",
       "      <td>2021-12-16</td>\n",
       "      <td>441891.16</td>\n",
       "      <td>2046-12-08</td>\n",
       "      <td>299</td>\n",
       "      <td>NaT</td>\n",
       "      <td>NaN</td>\n",
       "      <td>NaT</td>\n",
       "      <td>NaN</td>\n",
       "      <td>NaN</td>\n",
       "      <td>21+</td>\n",
       "      <td>NaN</td>\n",
       "      <td>NaN</td>\n",
       "      <td>0.0000</td>\n",
       "      <td>NaN</td>\n",
       "      <td>TX</td>\n",
       "      <td>Texas</td>\n",
       "      <td>NaN</td>\n",
       "    </tr>\n",
       "    <tr>\n",
       "      <th>820426</th>\n",
       "      <td>17994055</td>\n",
       "      <td>2021</td>\n",
       "      <td>12</td>\n",
       "      <td>2021-12-30</td>\n",
       "      <td>2445298.50</td>\n",
       "      <td>2047-12-28</td>\n",
       "      <td>311</td>\n",
       "      <td>NaT</td>\n",
       "      <td>NaN</td>\n",
       "      <td>NaT</td>\n",
       "      <td>NaN</td>\n",
       "      <td>NaN</td>\n",
       "      <td>21+</td>\n",
       "      <td>NaN</td>\n",
       "      <td>NaN</td>\n",
       "      <td>0.0225</td>\n",
       "      <td>0.02 - 0.0225</td>\n",
       "      <td>FL</td>\n",
       "      <td>Florida</td>\n",
       "      <td>NaN</td>\n",
       "    </tr>\n",
       "  </tbody>\n",
       "</table>\n",
       "<p>100663 rows × 20 columns</p>\n",
       "</div>"
      ],
      "text/plain": [
       "              GP  Note_Yr  Note_Mth     NoteDt     LoanAmt MaturityDt  \\\n",
       "190      4435462     2008         4 2008-04-30   378000.00 2031-03-30   \n",
       "221      1483193     2000         2 2000-02-29  1000000.00 2025-01-27   \n",
       "228      1477340     2000         1 2000-01-31  1500000.00 2022-01-31   \n",
       "235      1478838     2000         3 2000-03-31  1000000.00 2025-03-31   \n",
       "358      4417863     2008         1 2008-01-31  1910922.62 2031-03-15   \n",
       "...          ...      ...       ...        ...         ...        ...   \n",
       "820396  17982124     2021         9 2021-09-30   215000.00 2046-09-21   \n",
       "820404  17985370     2021         9 2021-09-30   499948.12 2046-09-27   \n",
       "820422  17992033     2021        12 2021-12-16  1007700.00 2046-12-09   \n",
       "820423  17993054     2021        12 2021-12-16   441891.16 2046-12-08   \n",
       "820426  17994055     2021        12 2021-12-30  2445298.50 2047-12-28   \n",
       "\n",
       "        MaturityMthsQty   PrepayDt  PrepayMthsQty  DefaultDt  DefaultMthsQty  \\\n",
       "190                 275 2019-12-11          139.0 2019-08-23           135.0   \n",
       "221                 298 2002-10-22           31.0 2000-12-20             9.0   \n",
       "228                 264 2009-05-27          111.0 2000-09-22             7.0   \n",
       "235                 300 2007-07-16           87.0 2001-01-18             9.0   \n",
       "358                 277 2018-10-24          128.0 2009-10-26            20.0   \n",
       "...                 ...        ...            ...        ...             ...   \n",
       "820396              299        NaT            NaN        NaT             NaN   \n",
       "820404              299        NaT            NaN        NaT             NaN   \n",
       "820422              299        NaT            NaN        NaT             NaN   \n",
       "820423              299        NaT            NaN        NaT             NaN   \n",
       "820426              311        NaT            NaN        NaT             NaN   \n",
       "\n",
       "        PP_qty MatBucket      Code  \\\n",
       "190      135.0       21+  811198.0   \n",
       "221        9.0       21+  722511.0   \n",
       "228        7.0       21+  441222.0   \n",
       "235        9.0       21+  457120.0   \n",
       "358       20.0       21+  812910.0   \n",
       "...        ...       ...       ...   \n",
       "820396     NaN       21+       NaN   \n",
       "820404     NaN       21+       NaN   \n",
       "820422     NaN       21+       NaN   \n",
       "820423     NaN       21+       NaN   \n",
       "820426     NaN       21+       NaN   \n",
       "\n",
       "                                           CodeText  Margin    MarginBucket  \\\n",
       "190     All Other Automotive Repair and Maintenance  0.0200   0.0175 - 0.02   \n",
       "221                        Full-Service Restaurants  0.0175  0.015 - 0.0175   \n",
       "228                                    Boat Dealers  0.0125   0.01 - 0.0125   \n",
       "235                         Other Gasoline Stations  0.0275  0.025 - 0.0275   \n",
       "358           Pet Care (except Veterinary) Services  0.0000             NaN   \n",
       "...                                             ...     ...             ...   \n",
       "820396                                          NaN  0.0275  0.025 - 0.0275   \n",
       "820404                                          NaN  0.0250  0.0225 - 0.025   \n",
       "820422                                          NaN  0.0160  0.015 - 0.0175   \n",
       "820423                                          NaN  0.0000             NaN   \n",
       "820426                                          NaN  0.0225   0.02 - 0.0225   \n",
       "\n",
       "       state_abbreviation state_name      yr  \n",
       "190                    GA    Georgia  2008.0  \n",
       "221                    IN    Indiana  2000.0  \n",
       "228                    NY   New York  2000.0  \n",
       "235                    TX      Texas  2000.0  \n",
       "358                    CO   Colorado  2008.0  \n",
       "...                   ...        ...     ...  \n",
       "820396                 AZ    Arizona     NaN  \n",
       "820404                 TX      Texas     NaN  \n",
       "820422                 OH       Ohio     NaN  \n",
       "820423                 TX      Texas     NaN  \n",
       "820426                 FL    Florida     NaN  \n",
       "\n",
       "[100663 rows x 20 columns]"
      ]
     },
     "execution_count": 200,
     "metadata": {},
     "output_type": "execute_result"
    }
   ],
   "source": [
    "test_slice = loan_data[loan_data['MatBucket']=='21+']\n",
    "test_slice = test_slice[test_slice['Note_Yr']<=2021]\n",
    "conditions = {'Code':[721110]}\n",
    "\n",
    "test1 = subset_dataframe(test_slice,conditions, inverse=True)\n",
    "test1[test1['LoanAmt']<=2500000]\n"
   ]
  },
  {
   "cell_type": "code",
   "execution_count": 39,
   "metadata": {},
   "outputs": [],
   "source": [
    "# Slice the data frame to only 21+ year maturity loans\n",
    "data_slice = loan_data[loan_data['MatBucket']=='21+']"
   ]
  },
  {
   "attachments": {},
   "cell_type": "markdown",
   "metadata": {},
   "source": [
    "### 2. Use pool.py to organize cohorts --> loans are split into yyyy.mm cohorts"
   ]
  },
  {
   "cell_type": "code",
   "execution_count": 183,
   "metadata": {},
   "outputs": [],
   "source": [
    "from pooler import pool\n",
    "\n",
    "# Define a function to create static pools of Loans from the DataFrame\n",
    "def create_pooler(in_df:pd.DataFrame)-> pool.Pooler:\n",
    "    temp = in_df.set_index('GP')\n",
    "    temp = temp.to_dict()\n",
    "    loans_dict = {}\n",
    "    for gp in temp['NoteDt'].keys():\n",
    "        loans_dict[str(gp)] = pool.Loan(gp, pd.to_datetime(temp['NoteDt'][gp]))\n",
    "        loans_dict[str(gp)].maturity_dt = temp['MaturityDt'][gp]\n",
    "        loans_dict[str(gp)].maturity_mths_qty = temp['MaturityMthsQty'][gp]\n",
    "        loans_dict[str(gp)].default_dt = temp['DefaultDt'][gp]\n",
    "        loans_dict[str(gp)].default_mths_qty = temp['DefaultMthsQty'][gp]\n",
    "        loans_dict[str(gp)].prepay_dt = temp['PrepayDt'][gp]\n",
    "        loans_dict[str(gp)].prepay_mths_qty = temp['PrepayMthsQty'][gp]\n",
    "\n",
    "    return pool.Pooler(loans_dict)\n",
    "\n",
    "data_slice = loan_data[loan_data['MatBucket']=='21+']\n",
    "data_slice = data_slice[(data_slice['LoanAmt']>0)&(data_slice['LoanAmt']<=2_500_000)]\n",
    "data_slice = data_slice[data_slice['Code']!=721110]\n",
    "my_pooler = create_pooler(data_slice)\n",
    "my_pooler.build_triangles_counts()\n",
    "\n",
    "pool_dict = {}\n",
    "for k, v in my_pooler.triangles.items():\n",
    "    pool_dict[k] = dict(outstanding=v[0], prepayments=v[1], defaults=v[2])\n"
   ]
  },
  {
   "attachments": {},
   "cell_type": "markdown",
   "metadata": {},
   "source": [
    "### 3. Convert Pool dictionaries into Dataframe"
   ]
  },
  {
   "cell_type": "code",
   "execution_count": 184,
   "metadata": {},
   "outputs": [
    {
     "data": {
      "text/html": [
       "<div>\n",
       "<style scoped>\n",
       "    .dataframe tbody tr th:only-of-type {\n",
       "        vertical-align: middle;\n",
       "    }\n",
       "\n",
       "    .dataframe tbody tr th {\n",
       "        vertical-align: top;\n",
       "    }\n",
       "\n",
       "    .dataframe thead th {\n",
       "        text-align: right;\n",
       "    }\n",
       "</style>\n",
       "<table border=\"1\" class=\"dataframe\">\n",
       "  <thead>\n",
       "    <tr style=\"text-align: right;\">\n",
       "      <th></th>\n",
       "      <th>outstanding</th>\n",
       "      <th>prepayments</th>\n",
       "      <th>defaults</th>\n",
       "    </tr>\n",
       "  </thead>\n",
       "  <tbody>\n",
       "    <tr>\n",
       "      <th>2000.01</th>\n",
       "      <td>[411, 411, 411, 411, 410, 409, 409, 409, 406, ...</td>\n",
       "      <td>[0, 0, 0, 0, 1, 0, 0, 1, 0, 6, 0, 2, 7, 0, 4, ...</td>\n",
       "      <td>[0, 0, 0, 1, 0, 0, 0, 2, 0, 0, 2, 0, 2, 2, 1, ...</td>\n",
       "    </tr>\n",
       "    <tr>\n",
       "      <th>2000.02</th>\n",
       "      <td>[310, 310, 310, 310, 310, 309, 309, 308, 308, ...</td>\n",
       "      <td>[0, 0, 0, 0, 0, 0, 1, 0, 0, 0, 0, 3, 0, 0, 1, ...</td>\n",
       "      <td>[0, 0, 0, 0, 1, 0, 0, 0, 0, 2, 2, 0, 1, 0, 1, ...</td>\n",
       "    </tr>\n",
       "    <tr>\n",
       "      <th>2000.03</th>\n",
       "      <td>[421, 421, 421, 421, 421, 419, 417, 417, 415, ...</td>\n",
       "      <td>[0, 0, 0, 0, 2, 1, 0, 2, 0, 3, 1, 1, 4, 0, 7, ...</td>\n",
       "      <td>[0, 0, 0, 0, 0, 1, 0, 0, 0, 2, 1, 0, 3, 0, 1, ...</td>\n",
       "    </tr>\n",
       "    <tr>\n",
       "      <th>2000.04</th>\n",
       "      <td>[389, 389, 389, 389, 389, 389, 386, 385, 383, ...</td>\n",
       "      <td>[0, 0, 0, 0, 0, 3, 1, 1, 1, 3, 0, 1, 4, 2, 3, ...</td>\n",
       "      <td>[0, 0, 0, 0, 0, 0, 0, 1, 0, 0, 0, 0, 1, 2, 1, ...</td>\n",
       "    </tr>\n",
       "    <tr>\n",
       "      <th>2000.05</th>\n",
       "      <td>[439, 439, 439, 439, 438, 438, 438, 437, 436, ...</td>\n",
       "      <td>[0, 0, 0, 1, 0, 0, 0, 1, 2, 0, 6, 0, 5, 0, 2, ...</td>\n",
       "      <td>[0, 0, 0, 0, 0, 0, 1, 0, 0, 2, 2, 0, 2, 0, 2, ...</td>\n",
       "    </tr>\n",
       "  </tbody>\n",
       "</table>\n",
       "</div>"
      ],
      "text/plain": [
       "                                               outstanding  \\\n",
       "2000.01  [411, 411, 411, 411, 410, 409, 409, 409, 406, ...   \n",
       "2000.02  [310, 310, 310, 310, 310, 309, 309, 308, 308, ...   \n",
       "2000.03  [421, 421, 421, 421, 421, 419, 417, 417, 415, ...   \n",
       "2000.04  [389, 389, 389, 389, 389, 389, 386, 385, 383, ...   \n",
       "2000.05  [439, 439, 439, 439, 438, 438, 438, 437, 436, ...   \n",
       "\n",
       "                                               prepayments  \\\n",
       "2000.01  [0, 0, 0, 0, 1, 0, 0, 1, 0, 6, 0, 2, 7, 0, 4, ...   \n",
       "2000.02  [0, 0, 0, 0, 0, 0, 1, 0, 0, 0, 0, 3, 0, 0, 1, ...   \n",
       "2000.03  [0, 0, 0, 0, 2, 1, 0, 2, 0, 3, 1, 1, 4, 0, 7, ...   \n",
       "2000.04  [0, 0, 0, 0, 0, 3, 1, 1, 1, 3, 0, 1, 4, 2, 3, ...   \n",
       "2000.05  [0, 0, 0, 1, 0, 0, 0, 1, 2, 0, 6, 0, 5, 0, 2, ...   \n",
       "\n",
       "                                                  defaults  \n",
       "2000.01  [0, 0, 0, 1, 0, 0, 0, 2, 0, 0, 2, 0, 2, 2, 1, ...  \n",
       "2000.02  [0, 0, 0, 0, 1, 0, 0, 0, 0, 2, 2, 0, 1, 0, 1, ...  \n",
       "2000.03  [0, 0, 0, 0, 0, 1, 0, 0, 0, 2, 1, 0, 3, 0, 1, ...  \n",
       "2000.04  [0, 0, 0, 0, 0, 0, 0, 1, 0, 0, 0, 0, 1, 2, 1, ...  \n",
       "2000.05  [0, 0, 0, 0, 0, 0, 1, 0, 0, 2, 2, 0, 2, 0, 2, ...  "
      ]
     },
     "execution_count": 184,
     "metadata": {},
     "output_type": "execute_result"
    }
   ],
   "source": [
    "# Create Pool Dataframe\n",
    "df_pool = pd.DataFrame.from_dict( pool_dict, orient='index')\n",
    "df_pool.index = [float(e) for e in df_pool.index.to_list()]\n",
    "df_pool = df_pool.sort_index()\n",
    "# Show the dataframe here\n",
    "df_pool.head()"
   ]
  },
  {
   "cell_type": "code",
   "execution_count": 186,
   "metadata": {},
   "outputs": [],
   "source": [
    "# Format array lengths\n",
    "max_row_length = df_pool.shape[0]\n",
    "count = -1\n",
    "for i, row in df_pool.iterrows():\n",
    "    count+=1\n",
    "    for col in df_pool.columns:\n",
    "        # ----------------------------------------------------------------------------------------------\n",
    "        #Method 1: This line will simply truncate the array to the right length:\n",
    "        # ----------------------------------------------------------------------------------------------\n",
    "        # df_pool.at[i,col] = row[col][:(max_row_length-count)]\n",
    "        # ----------------------------------------------------------------------------------------------\n",
    "        #Method 2: Pad arrays with NaNs --> this will truncate the array then fill it back in with NaNs\n",
    "        # ----------------------------------------------------------------------------------------------\n",
    "        arr = row[col][:(max_row_length-count)].astype(float)\n",
    "        padded_arr = np.pad(arr, (0, max_row_length - (max_row_length-count) ), mode='constant', constant_values=np.nan)\n",
    "        df_pool.at[i,col] = padded_arr\n"
   ]
  },
  {
   "attachments": {},
   "cell_type": "markdown",
   "metadata": {},
   "source": [
    "### 4. Group into Annual cohorts and calculate SMM and CPR"
   ]
  },
  {
   "attachments": {},
   "cell_type": "markdown",
   "metadata": {},
   "source": [
    "### Reshape the Yearly cohorts data from Months on Book to Year on Book  \n",
    "`[i,...........,n=MoB] ---> applymap(aggregate_method)`  \n",
    " \n",
    "`[[i,...]`  \n",
    "`[i,...]`  \n",
    "`[i,...]`  \n",
    "`[i,...]`  \n",
    "`[i,...]...n_years=YoB]`"
   ]
  },
  {
   "cell_type": "code",
   "execution_count": 187,
   "metadata": {},
   "outputs": [],
   "source": [
    "\n",
    "# First try here\n",
    "# def aggregate_annual_sums(in_arr):\n",
    "#     n_years = len(in_arr) // 12\n",
    "#     arr_2d = in_arr[:n_years*12].reshape(n_years,12)\n",
    "#     return np.nansum(arr_2d, axis=1)\n",
    "\n",
    "def outstanding_annual_rundown(in_arr):\n",
    "    return in_arr[::11]\n",
    "\n",
    "def aggregate_annual_sums(in_arr):\n",
    "    remainder = len(in_arr) % 11\n",
    "    if remainder != 0:\n",
    "        padding = np.zeros(11 - remainder)\n",
    "        subsections = np.concatenate([in_arr, padding])\n",
    "    else:\n",
    "        subsections = in_arr\n",
    "    subsections = np.split(subsections, len(subsections) // 11)\n",
    "    return (np.sum(subsections, axis=1))\n",
    "\n",
    "def aggregate_annual_averages(in_arr):\n",
    "    n_years = len(in_arr) // 11\n",
    "    arr_2d = in_arr[:n_years*11].reshape(n_years,11)\n",
    "    return np.nanmean(arr_2d, axis=1)\n",
    "\n",
    "def aggregate_annual_median(in_arr):\n",
    "    n_years = len(in_arr) // 11\n",
    "    arr_2d = in_arr[:n_years*11].reshape(n_years,11)\n",
    "    return np.nanmedian(arr_2d, axis=1)\n",
    "\n",
    "\n"
   ]
  },
  {
   "cell_type": "code",
   "execution_count": 188,
   "metadata": {},
   "outputs": [],
   "source": [
    "# This is where we start abstracting away from the Data --> you're now looking at Annual Cohorts grouped together\n",
    "df_pool['Year'] = df_pool.index.astype(int)\n",
    "# Filter out years without 12 months of history\n",
    "vals = df_pool['Year'].value_counts().to_dict()\n",
    "\n",
    "yr_range = []\n",
    "for k, v in vals.items():\n",
    "    if v == 12:\n",
    "        yr_range.append(k)\n",
    "\n",
    "df_pool = df_pool[df_pool['Year'].isin(yr_range)]\n",
    "\n",
    "# Switch to year group\n",
    "year_grouped = df_pool.groupby('Year')\n",
    "year_grouped = year_grouped.agg(np.nansum)\n"
   ]
  },
  {
   "cell_type": "code",
   "execution_count": 189,
   "metadata": {},
   "outputs": [
    {
     "data": {
      "text/plain": [
       "Year\n",
       "2000    [97.0, 340.0, 401.0, 425.0, 409.0, 499.0, 431....\n",
       "2001    [23.0, 138.0, 311.0, 454.0, 536.0, 510.0, 280....\n",
       "2002    [42.0, 180.0, 399.0, 1008.0, 782.0, 517.0, 178...\n",
       "2003    [51.0, 226.0, 736.0, 1010.0, 552.0, 234.0, 48....\n",
       "2004    [70.0, 373.0, 839.0, 791.0, 269.0, 83.0, 50.0,...\n",
       "2005    [64.0, 368.0, 511.0, 310.0, 88.0, 53.0, 55.0, ...\n",
       "2006    [48.0, 185.0, 160.0, 62.0, 42.0, 59.0, 72.0, 1...\n",
       "2007    [21.0, 49.0, 36.0, 43.0, 48.0, 77.0, 77.0, 77....\n",
       "2008    [17.0, 11.0, 30.0, 54.0, 101.0, 135.0, 149.0, ...\n",
       "2009    [7.0, 18.0, 39.0, 211.0, 202.0, 187.0, 192.0, ...\n",
       "2010    [7.0, 44.0, 155.0, 364.0, 343.0, 323.0, 315.0,...\n",
       "2011    [21.0, 64.0, 230.0, 401.0, 399.0, 363.0, 347.0...\n",
       "2012    [23.0, 83.0, 198.0, 400.0, 381.0, 387.0, 373.0...\n",
       "2013    [34.0, 113.0, 249.0, 473.0, 502.0, 429.0, 376....\n",
       "2014    [18.0, 108.0, 328.0, 599.0, 603.0, 544.0, 342....\n",
       "2015    [38.0, 173.0, 427.0, 662.0, 693.0, 441.0, 511....\n",
       "2016    [40.0, 175.0, 443.0, 687.0, 464.0, 604.0, 255....\n",
       "2017    [53.0, 236.0, 472.0, 484.0, 762.0, 208.0, 0.0,...\n",
       "2018    [36.0, 155.0, 265.0, 720.0, 134.0, 0.0, 0.0, 0...\n",
       "2019    [29.0, 110.0, 339.0, 24.0, 0.0, 0.0, 0.0, 0.0,...\n",
       "2020    [24.0, 210.0, 0.0, 0.0, 0.0, 0.0, 0.0, 0.0, 0....\n",
       "2021    [77.0, 0.0, 0.0, 0.0, 0.0, 0.0, 0.0, 0.0, 0.0,...\n",
       "Name: prepayments, dtype: object"
      ]
     },
     "execution_count": 189,
     "metadata": {},
     "output_type": "execute_result"
    }
   ],
   "source": [
    "def aggregate_annual_sums(in_arr):\n",
    "    remainder = len(in_arr) % 11\n",
    "    if remainder != 0:\n",
    "        padding = np.zeros(11 - remainder)\n",
    "        subsections = np.concatenate([in_arr, padding])\n",
    "    else:\n",
    "        subsections = in_arr\n",
    "    subsections = np.split(subsections, len(subsections) // 11)\n",
    "    return (np.nansum(subsections, axis=1))\n",
    "\n",
    "year_grouped['outstanding'] = year_grouped['outstanding'].apply(outstanding_annual_rundown)\n",
    "year_grouped[['prepayments','defaults']] = year_grouped[['prepayments','defaults']].applymap(aggregate_annual_sums)\n",
    "year_grouped['cpr'] = (year_grouped['prepayments']+year_grouped['defaults'])/year_grouped['outstanding']\n",
    "# year_grouped['cpr'] = (1-(1-year_grouped['smm'])**12)\n",
    "def enforce_shape(in_df:pd.DataFrame)->pd.DataFrame:\n",
    "    data = in_df.copy(deep=True)\n",
    "    last_year = data.index.max()+1\n",
    "    for i in range(len(data)):\n",
    "        max_col = last_year - data.index[i]\n",
    "        data.iloc[i,(max_col):] = np.NaN\n",
    "    return data\n",
    "\n",
    "def generate_lifetime(cpr_df:pd.DataFrame)-> pd.DataFrame:\n",
    "    # get the cumulative sum of each row WHILE ignoring NaN values (otherwise the denominator is off)\n",
    "    cumulative_sum = np.nancumsum(cpr_df.values, axis=1)\n",
    "    # compute the number of non-NaN values in each row\n",
    "    num_non_nan = (~np.isnan(cpr_df.values)).cumsum(axis=1)\n",
    "    # get ROW-WISE average up until the first NaN value is encountered\n",
    "    row_avg = np.where(np.isnan(cpr_df), np.nan, cumulative_sum / num_non_nan)\n",
    "    # create new dataframe with row-wise averages\n",
    "    lifetime_df = pd.DataFrame(row_avg, columns=cpr_df.columns, index=cpr_df.index)\n",
    "    return lifetime_df\n",
    "\n",
    "cpr_heat = pd.DataFrame.from_dict(year_grouped['cpr'].to_dict(), orient='index')\n",
    "\n",
    "cpr_heat = enforce_shape(cpr_heat)\n",
    "lifetime_cprs = generate_lifetime(cpr_heat)\n",
    "totals = year_grouped[['outstanding']].to_dict()\n",
    "prepays = year_grouped[['prepayments']].to_dict()\n",
    "defaults = year_grouped[['defaults']].to_dict()\n",
    "totals = totals['outstanding']\n",
    "prepays = prepays['prepayments']\n",
    "defaults = defaults['defaults']\n",
    "totals = (pd.DataFrame.from_dict(totals, orient='index'))\n",
    "prepays = (pd.DataFrame.from_dict(prepays, orient='index'))\n",
    "defaults = (pd.DataFrame.from_dict(defaults, orient='index'))\n",
    "totals = enforce_shape(totals)\n",
    "prepays = enforce_shape(prepays)\n",
    "defaults = enforce_shape(defaults)\n",
    "triangles = [totals,prepays,defaults]\n",
    "totals = pd.concat(triangles,axis=0)\n",
    "min_max_median = pd.DataFrame.from_dict({'max': cpr_heat.max(axis=0), 'median': cpr_heat.median(axis=0), 'avg': cpr_heat.mean(axis=0),\\\n",
    "                                          'min': cpr_heat.min(axis=0)}).transpose().to_csv('811_mids.csv')\n",
    "cpr_heat.to_csv('manual_outputs/cpr_heat.csv')\n",
    "lifetime_cprs.to_csv('manual_outputs/lifetime.csv')\n",
    "min_max_median.to_csv('manual_outputs/min_max_mids.csv')\n",
    "totals.to_csv('manual_outputs/totals.csv')"
   ]
  },
  {
   "attachments": {},
   "cell_type": "markdown",
   "metadata": {},
   "source": [
    "### 5. Create basic triangles"
   ]
  },
  {
   "attachments": {},
   "cell_type": "markdown",
   "metadata": {},
   "source": [
    "### 6. Get Line Plots (or just the data for line plots)"
   ]
  },
  {
   "cell_type": "code",
   "execution_count": 33,
   "metadata": {},
   "outputs": [
    {
     "data": {
      "text/html": [
       "<div>\n",
       "<style scoped>\n",
       "    .dataframe tbody tr th:only-of-type {\n",
       "        vertical-align: middle;\n",
       "    }\n",
       "\n",
       "    .dataframe tbody tr th {\n",
       "        vertical-align: top;\n",
       "    }\n",
       "\n",
       "    .dataframe thead th {\n",
       "        text-align: right;\n",
       "    }\n",
       "</style>\n",
       "<table border=\"1\" class=\"dataframe\">\n",
       "  <thead>\n",
       "    <tr style=\"text-align: right;\">\n",
       "      <th></th>\n",
       "      <th>0</th>\n",
       "      <th>1</th>\n",
       "      <th>2</th>\n",
       "      <th>3</th>\n",
       "      <th>4</th>\n",
       "      <th>5</th>\n",
       "      <th>6</th>\n",
       "      <th>7</th>\n",
       "      <th>8</th>\n",
       "      <th>9</th>\n",
       "      <th>...</th>\n",
       "      <th>15</th>\n",
       "      <th>16</th>\n",
       "      <th>17</th>\n",
       "      <th>18</th>\n",
       "      <th>19</th>\n",
       "      <th>20</th>\n",
       "      <th>21</th>\n",
       "      <th>22</th>\n",
       "      <th>23</th>\n",
       "      <th>24</th>\n",
       "    </tr>\n",
       "  </thead>\n",
       "  <tbody>\n",
       "    <tr>\n",
       "      <th>2000</th>\n",
       "      <td>0.028908</td>\n",
       "      <td>0.067926</td>\n",
       "      <td>0.095588</td>\n",
       "      <td>0.109065</td>\n",
       "      <td>0.119703</td>\n",
       "      <td>0.135512</td>\n",
       "      <td>0.152552</td>\n",
       "      <td>0.165773</td>\n",
       "      <td>0.166687</td>\n",
       "      <td>0.159305</td>\n",
       "      <td>...</td>\n",
       "      <td>0.133122</td>\n",
       "      <td>0.131684</td>\n",
       "      <td>0.130753</td>\n",
       "      <td>0.130462</td>\n",
       "      <td>0.12858</td>\n",
       "      <td>0.128371</td>\n",
       "      <td>0.128942</td>\n",
       "      <td>0.128907</td>\n",
       "      <td>0.129513</td>\n",
       "      <td></td>\n",
       "    </tr>\n",
       "    <tr>\n",
       "      <th>2001</th>\n",
       "      <td>0.011315</td>\n",
       "      <td>0.036692</td>\n",
       "      <td>0.065382</td>\n",
       "      <td>0.094292</td>\n",
       "      <td>0.12091</td>\n",
       "      <td>0.152553</td>\n",
       "      <td>0.161985</td>\n",
       "      <td>0.166114</td>\n",
       "      <td>0.159212</td>\n",
       "      <td>0.151749</td>\n",
       "      <td>...</td>\n",
       "      <td>0.133065</td>\n",
       "      <td>0.130472</td>\n",
       "      <td>0.129956</td>\n",
       "      <td>0.129552</td>\n",
       "      <td>0.13082</td>\n",
       "      <td>0.12836</td>\n",
       "      <td>0.129758</td>\n",
       "      <td>0.130564</td>\n",
       "      <td></td>\n",
       "      <td></td>\n",
       "    </tr>\n",
       "    <tr>\n",
       "      <th>2002</th>\n",
       "      <td>0.014560</td>\n",
       "      <td>0.032773</td>\n",
       "      <td>0.065331</td>\n",
       "      <td>0.121369</td>\n",
       "      <td>0.170796</td>\n",
       "      <td>0.197208</td>\n",
       "      <td>0.197018</td>\n",
       "      <td>0.185433</td>\n",
       "      <td>0.173238</td>\n",
       "      <td>0.16325</td>\n",
       "      <td>...</td>\n",
       "      <td>0.141801</td>\n",
       "      <td>0.142</td>\n",
       "      <td>0.140098</td>\n",
       "      <td>0.140672</td>\n",
       "      <td>0.143116</td>\n",
       "      <td>0.140337</td>\n",
       "      <td>0.14496</td>\n",
       "      <td></td>\n",
       "      <td></td>\n",
       "      <td></td>\n",
       "    </tr>\n",
       "    <tr>\n",
       "      <th>2003</th>\n",
       "      <td>0.014679</td>\n",
       "      <td>0.042629</td>\n",
       "      <td>0.10217</td>\n",
       "      <td>0.16289</td>\n",
       "      <td>0.186757</td>\n",
       "      <td>0.186395</td>\n",
       "      <td>0.171398</td>\n",
       "      <td>0.158603</td>\n",
       "      <td>0.150871</td>\n",
       "      <td>0.143025</td>\n",
       "      <td>...</td>\n",
       "      <td>0.133326</td>\n",
       "      <td>0.132512</td>\n",
       "      <td>0.132195</td>\n",
       "      <td>0.131106</td>\n",
       "      <td>0.130857</td>\n",
       "      <td>0.130011</td>\n",
       "      <td></td>\n",
       "      <td></td>\n",
       "      <td></td>\n",
       "      <td></td>\n",
       "    </tr>\n",
       "    <tr>\n",
       "      <th>2004</th>\n",
       "      <td>0.017335</td>\n",
       "      <td>0.060835</td>\n",
       "      <td>0.138176</td>\n",
       "      <td>0.182227</td>\n",
       "      <td>0.181021</td>\n",
       "      <td>0.166228</td>\n",
       "      <td>0.156359</td>\n",
       "      <td>0.147618</td>\n",
       "      <td>0.14191</td>\n",
       "      <td>0.138658</td>\n",
       "      <td>...</td>\n",
       "      <td>0.13095</td>\n",
       "      <td>0.132926</td>\n",
       "      <td>0.129882</td>\n",
       "      <td>0.130437</td>\n",
       "      <td>0.131372</td>\n",
       "      <td></td>\n",
       "      <td></td>\n",
       "      <td></td>\n",
       "      <td></td>\n",
       "      <td></td>\n",
       "    </tr>\n",
       "    <tr>\n",
       "      <th>2005</th>\n",
       "      <td>0.015571</td>\n",
       "      <td>0.065601</td>\n",
       "      <td>0.095944</td>\n",
       "      <td>0.110743</td>\n",
       "      <td>0.109712</td>\n",
       "      <td>0.105464</td>\n",
       "      <td>0.101661</td>\n",
       "      <td>0.099709</td>\n",
       "      <td>0.101247</td>\n",
       "      <td>0.100301</td>\n",
       "      <td>...</td>\n",
       "      <td>0.110234</td>\n",
       "      <td>0.10961</td>\n",
       "      <td>0.112706</td>\n",
       "      <td>0.116785</td>\n",
       "      <td></td>\n",
       "      <td></td>\n",
       "      <td></td>\n",
       "      <td></td>\n",
       "      <td></td>\n",
       "      <td></td>\n",
       "    </tr>\n",
       "    <tr>\n",
       "      <th>2006</th>\n",
       "      <td>0.016346</td>\n",
       "      <td>0.059518</td>\n",
       "      <td>0.083044</td>\n",
       "      <td>0.091608</td>\n",
       "      <td>0.093937</td>\n",
       "      <td>0.094837</td>\n",
       "      <td>0.096415</td>\n",
       "      <td>0.098166</td>\n",
       "      <td>0.096982</td>\n",
       "      <td>0.095589</td>\n",
       "      <td>...</td>\n",
       "      <td>0.10784</td>\n",
       "      <td>0.109396</td>\n",
       "      <td>0.11035</td>\n",
       "      <td></td>\n",
       "      <td></td>\n",
       "      <td></td>\n",
       "      <td></td>\n",
       "      <td></td>\n",
       "      <td></td>\n",
       "      <td></td>\n",
       "    </tr>\n",
       "    <tr>\n",
       "      <th>2007</th>\n",
       "      <td>0.015645</td>\n",
       "      <td>0.049623</td>\n",
       "      <td>0.065859</td>\n",
       "      <td>0.076817</td>\n",
       "      <td>0.080279</td>\n",
       "      <td>0.086406</td>\n",
       "      <td>0.086577</td>\n",
       "      <td>0.085639</td>\n",
       "      <td>0.086938</td>\n",
       "      <td>0.087446</td>\n",
       "      <td>...</td>\n",
       "      <td>0.105726</td>\n",
       "      <td>0.108164</td>\n",
       "      <td></td>\n",
       "      <td></td>\n",
       "      <td></td>\n",
       "      <td></td>\n",
       "      <td></td>\n",
       "      <td></td>\n",
       "      <td></td>\n",
       "      <td></td>\n",
       "    </tr>\n",
       "    <tr>\n",
       "      <th>2008</th>\n",
       "      <td>0.007463</td>\n",
       "      <td>0.033527</td>\n",
       "      <td>0.047035</td>\n",
       "      <td>0.052094</td>\n",
       "      <td>0.060996</td>\n",
       "      <td>0.067995</td>\n",
       "      <td>0.073182</td>\n",
       "      <td>0.079423</td>\n",
       "      <td>0.08271</td>\n",
       "      <td>0.084806</td>\n",
       "      <td>...</td>\n",
       "      <td>0.104132</td>\n",
       "      <td></td>\n",
       "      <td></td>\n",
       "      <td></td>\n",
       "      <td></td>\n",
       "      <td></td>\n",
       "      <td></td>\n",
       "      <td></td>\n",
       "      <td></td>\n",
       "      <td></td>\n",
       "    </tr>\n",
       "    <tr>\n",
       "      <th>2009</th>\n",
       "      <td>0.007841</td>\n",
       "      <td>0.015908</td>\n",
       "      <td>0.025247</td>\n",
       "      <td>0.051343</td>\n",
       "      <td>0.066114</td>\n",
       "      <td>0.074524</td>\n",
       "      <td>0.080168</td>\n",
       "      <td>0.089195</td>\n",
       "      <td>0.095134</td>\n",
       "      <td>0.103715</td>\n",
       "      <td>...</td>\n",
       "      <td></td>\n",
       "      <td></td>\n",
       "      <td></td>\n",
       "      <td></td>\n",
       "      <td></td>\n",
       "      <td></td>\n",
       "      <td></td>\n",
       "      <td></td>\n",
       "      <td></td>\n",
       "      <td></td>\n",
       "    </tr>\n",
       "    <tr>\n",
       "      <th>2010</th>\n",
       "      <td>0.002983</td>\n",
       "      <td>0.013360</td>\n",
       "      <td>0.032109</td>\n",
       "      <td>0.05956</td>\n",
       "      <td>0.075498</td>\n",
       "      <td>0.088264</td>\n",
       "      <td>0.098565</td>\n",
       "      <td>0.107649</td>\n",
       "      <td>0.115712</td>\n",
       "      <td>0.122771</td>\n",
       "      <td>...</td>\n",
       "      <td></td>\n",
       "      <td></td>\n",
       "      <td></td>\n",
       "      <td></td>\n",
       "      <td></td>\n",
       "      <td></td>\n",
       "      <td></td>\n",
       "      <td></td>\n",
       "      <td></td>\n",
       "      <td></td>\n",
       "    </tr>\n",
       "    <tr>\n",
       "      <th>2011</th>\n",
       "      <td>0.005107</td>\n",
       "      <td>0.014263</td>\n",
       "      <td>0.036043</td>\n",
       "      <td>0.066143</td>\n",
       "      <td>0.084052</td>\n",
       "      <td>0.096827</td>\n",
       "      <td>0.108959</td>\n",
       "      <td>0.120834</td>\n",
       "      <td>0.127578</td>\n",
       "      <td>0.126687</td>\n",
       "      <td>...</td>\n",
       "      <td></td>\n",
       "      <td></td>\n",
       "      <td></td>\n",
       "      <td></td>\n",
       "      <td></td>\n",
       "      <td></td>\n",
       "      <td></td>\n",
       "      <td></td>\n",
       "      <td></td>\n",
       "      <td></td>\n",
       "    </tr>\n",
       "    <tr>\n",
       "      <th>2012</th>\n",
       "      <td>0.005134</td>\n",
       "      <td>0.018231</td>\n",
       "      <td>0.035774</td>\n",
       "      <td>0.065816</td>\n",
       "      <td>0.080508</td>\n",
       "      <td>0.094812</td>\n",
       "      <td>0.108031</td>\n",
       "      <td>0.116062</td>\n",
       "      <td>0.121031</td>\n",
       "      <td>0.124325</td>\n",
       "      <td>...</td>\n",
       "      <td></td>\n",
       "      <td></td>\n",
       "      <td></td>\n",
       "      <td></td>\n",
       "      <td></td>\n",
       "      <td></td>\n",
       "      <td></td>\n",
       "      <td></td>\n",
       "      <td></td>\n",
       "      <td></td>\n",
       "    </tr>\n",
       "    <tr>\n",
       "      <th>2013</th>\n",
       "      <td>0.010713</td>\n",
       "      <td>0.020570</td>\n",
       "      <td>0.039171</td>\n",
       "      <td>0.067595</td>\n",
       "      <td>0.087105</td>\n",
       "      <td>0.100843</td>\n",
       "      <td>0.110797</td>\n",
       "      <td>0.114293</td>\n",
       "      <td>0.118529</td>\n",
       "      <td>0.124034</td>\n",
       "      <td>...</td>\n",
       "      <td></td>\n",
       "      <td></td>\n",
       "      <td></td>\n",
       "      <td></td>\n",
       "      <td></td>\n",
       "      <td></td>\n",
       "      <td></td>\n",
       "      <td></td>\n",
       "      <td></td>\n",
       "      <td></td>\n",
       "    </tr>\n",
       "    <tr>\n",
       "      <th>2014</th>\n",
       "      <td>0.003716</td>\n",
       "      <td>0.019505</td>\n",
       "      <td>0.042732</td>\n",
       "      <td>0.073214</td>\n",
       "      <td>0.093363</td>\n",
       "      <td>0.10848</td>\n",
       "      <td>0.112633</td>\n",
       "      <td>0.119711</td>\n",
       "      <td>0.127484</td>\n",
       "      <td></td>\n",
       "      <td>...</td>\n",
       "      <td></td>\n",
       "      <td></td>\n",
       "      <td></td>\n",
       "      <td></td>\n",
       "      <td></td>\n",
       "      <td></td>\n",
       "      <td></td>\n",
       "      <td></td>\n",
       "      <td></td>\n",
       "      <td></td>\n",
       "    </tr>\n",
       "    <tr>\n",
       "      <th>2015</th>\n",
       "      <td>0.008302</td>\n",
       "      <td>0.023119</td>\n",
       "      <td>0.048808</td>\n",
       "      <td>0.081924</td>\n",
       "      <td>0.102421</td>\n",
       "      <td>0.107111</td>\n",
       "      <td>0.118471</td>\n",
       "      <td>0.126014</td>\n",
       "      <td></td>\n",
       "      <td></td>\n",
       "      <td>...</td>\n",
       "      <td></td>\n",
       "      <td></td>\n",
       "      <td></td>\n",
       "      <td></td>\n",
       "      <td></td>\n",
       "      <td></td>\n",
       "      <td></td>\n",
       "      <td></td>\n",
       "      <td></td>\n",
       "      <td></td>\n",
       "    </tr>\n",
       "    <tr>\n",
       "      <th>2016</th>\n",
       "      <td>0.006231</td>\n",
       "      <td>0.023312</td>\n",
       "      <td>0.052429</td>\n",
       "      <td>0.079214</td>\n",
       "      <td>0.087308</td>\n",
       "      <td>0.099977</td>\n",
       "      <td>0.113735</td>\n",
       "      <td></td>\n",
       "      <td></td>\n",
       "      <td></td>\n",
       "      <td>...</td>\n",
       "      <td></td>\n",
       "      <td></td>\n",
       "      <td></td>\n",
       "      <td></td>\n",
       "      <td></td>\n",
       "      <td></td>\n",
       "      <td></td>\n",
       "      <td></td>\n",
       "      <td></td>\n",
       "      <td></td>\n",
       "    </tr>\n",
       "    <tr>\n",
       "      <th>2017</th>\n",
       "      <td>0.012092</td>\n",
       "      <td>0.030008</td>\n",
       "      <td>0.059398</td>\n",
       "      <td>0.070072</td>\n",
       "      <td>0.092569</td>\n",
       "      <td>0.111959</td>\n",
       "      <td></td>\n",
       "      <td></td>\n",
       "      <td></td>\n",
       "      <td></td>\n",
       "      <td>...</td>\n",
       "      <td></td>\n",
       "      <td></td>\n",
       "      <td></td>\n",
       "      <td></td>\n",
       "      <td></td>\n",
       "      <td></td>\n",
       "      <td></td>\n",
       "      <td></td>\n",
       "      <td></td>\n",
       "      <td></td>\n",
       "    </tr>\n",
       "    <tr>\n",
       "      <th>2018</th>\n",
       "      <td>0.008674</td>\n",
       "      <td>0.025930</td>\n",
       "      <td>0.036386</td>\n",
       "      <td>0.074423</td>\n",
       "      <td>0.098563</td>\n",
       "      <td></td>\n",
       "      <td></td>\n",
       "      <td></td>\n",
       "      <td></td>\n",
       "      <td></td>\n",
       "      <td>...</td>\n",
       "      <td></td>\n",
       "      <td></td>\n",
       "      <td></td>\n",
       "      <td></td>\n",
       "      <td></td>\n",
       "      <td></td>\n",
       "      <td></td>\n",
       "      <td></td>\n",
       "      <td></td>\n",
       "      <td></td>\n",
       "    </tr>\n",
       "    <tr>\n",
       "      <th>2019</th>\n",
       "      <td>0.008208</td>\n",
       "      <td>0.020524</td>\n",
       "      <td>0.045149</td>\n",
       "      <td>0.055537</td>\n",
       "      <td></td>\n",
       "      <td></td>\n",
       "      <td></td>\n",
       "      <td></td>\n",
       "      <td></td>\n",
       "      <td></td>\n",
       "      <td>...</td>\n",
       "      <td></td>\n",
       "      <td></td>\n",
       "      <td></td>\n",
       "      <td></td>\n",
       "      <td></td>\n",
       "      <td></td>\n",
       "      <td></td>\n",
       "      <td></td>\n",
       "      <td></td>\n",
       "      <td></td>\n",
       "    </tr>\n",
       "    <tr>\n",
       "      <th>2020</th>\n",
       "      <td>0.004142</td>\n",
       "      <td>0.028163</td>\n",
       "      <td>0.038364</td>\n",
       "      <td></td>\n",
       "      <td></td>\n",
       "      <td></td>\n",
       "      <td></td>\n",
       "      <td></td>\n",
       "      <td></td>\n",
       "      <td></td>\n",
       "      <td>...</td>\n",
       "      <td></td>\n",
       "      <td></td>\n",
       "      <td></td>\n",
       "      <td></td>\n",
       "      <td></td>\n",
       "      <td></td>\n",
       "      <td></td>\n",
       "      <td></td>\n",
       "      <td></td>\n",
       "      <td></td>\n",
       "    </tr>\n",
       "    <tr>\n",
       "      <th>2021</th>\n",
       "      <td>0.013703</td>\n",
       "      <td>0.015907</td>\n",
       "      <td></td>\n",
       "      <td></td>\n",
       "      <td></td>\n",
       "      <td></td>\n",
       "      <td></td>\n",
       "      <td></td>\n",
       "      <td></td>\n",
       "      <td></td>\n",
       "      <td>...</td>\n",
       "      <td></td>\n",
       "      <td></td>\n",
       "      <td></td>\n",
       "      <td></td>\n",
       "      <td></td>\n",
       "      <td></td>\n",
       "      <td></td>\n",
       "      <td></td>\n",
       "      <td></td>\n",
       "      <td></td>\n",
       "    </tr>\n",
       "  </tbody>\n",
       "</table>\n",
       "<p>22 rows × 25 columns</p>\n",
       "</div>"
      ],
      "text/plain": [
       "            0         1         2         3         4         5         6   \\\n",
       "2000  0.028908  0.067926  0.095588  0.109065  0.119703  0.135512  0.152552   \n",
       "2001  0.011315  0.036692  0.065382  0.094292   0.12091  0.152553  0.161985   \n",
       "2002  0.014560  0.032773  0.065331  0.121369  0.170796  0.197208  0.197018   \n",
       "2003  0.014679  0.042629   0.10217   0.16289  0.186757  0.186395  0.171398   \n",
       "2004  0.017335  0.060835  0.138176  0.182227  0.181021  0.166228  0.156359   \n",
       "2005  0.015571  0.065601  0.095944  0.110743  0.109712  0.105464  0.101661   \n",
       "2006  0.016346  0.059518  0.083044  0.091608  0.093937  0.094837  0.096415   \n",
       "2007  0.015645  0.049623  0.065859  0.076817  0.080279  0.086406  0.086577   \n",
       "2008  0.007463  0.033527  0.047035  0.052094  0.060996  0.067995  0.073182   \n",
       "2009  0.007841  0.015908  0.025247  0.051343  0.066114  0.074524  0.080168   \n",
       "2010  0.002983  0.013360  0.032109   0.05956  0.075498  0.088264  0.098565   \n",
       "2011  0.005107  0.014263  0.036043  0.066143  0.084052  0.096827  0.108959   \n",
       "2012  0.005134  0.018231  0.035774  0.065816  0.080508  0.094812  0.108031   \n",
       "2013  0.010713  0.020570  0.039171  0.067595  0.087105  0.100843  0.110797   \n",
       "2014  0.003716  0.019505  0.042732  0.073214  0.093363   0.10848  0.112633   \n",
       "2015  0.008302  0.023119  0.048808  0.081924  0.102421  0.107111  0.118471   \n",
       "2016  0.006231  0.023312  0.052429  0.079214  0.087308  0.099977  0.113735   \n",
       "2017  0.012092  0.030008  0.059398  0.070072  0.092569  0.111959             \n",
       "2018  0.008674  0.025930  0.036386  0.074423  0.098563                       \n",
       "2019  0.008208  0.020524  0.045149  0.055537                                 \n",
       "2020  0.004142  0.028163  0.038364                                           \n",
       "2021  0.013703  0.015907                                                     \n",
       "\n",
       "            7         8         9   ...        15        16        17  \\\n",
       "2000  0.165773  0.166687  0.159305  ...  0.133122  0.131684  0.130753   \n",
       "2001  0.166114  0.159212  0.151749  ...  0.133065  0.130472  0.129956   \n",
       "2002  0.185433  0.173238   0.16325  ...  0.141801     0.142  0.140098   \n",
       "2003  0.158603  0.150871  0.143025  ...  0.133326  0.132512  0.132195   \n",
       "2004  0.147618   0.14191  0.138658  ...   0.13095  0.132926  0.129882   \n",
       "2005  0.099709  0.101247  0.100301  ...  0.110234   0.10961  0.112706   \n",
       "2006  0.098166  0.096982  0.095589  ...   0.10784  0.109396   0.11035   \n",
       "2007  0.085639  0.086938  0.087446  ...  0.105726  0.108164             \n",
       "2008  0.079423   0.08271  0.084806  ...  0.104132                       \n",
       "2009  0.089195  0.095134  0.103715  ...                                 \n",
       "2010  0.107649  0.115712  0.122771  ...                                 \n",
       "2011  0.120834  0.127578  0.126687  ...                                 \n",
       "2012  0.116062  0.121031  0.124325  ...                                 \n",
       "2013  0.114293  0.118529  0.124034  ...                                 \n",
       "2014  0.119711  0.127484            ...                                 \n",
       "2015  0.126014                      ...                                 \n",
       "2016                                ...                                 \n",
       "2017                                ...                                 \n",
       "2018                                ...                                 \n",
       "2019                                ...                                 \n",
       "2020                                ...                                 \n",
       "2021                                ...                                 \n",
       "\n",
       "            18        19        20        21        22        23 24  \n",
       "2000  0.130462   0.12858  0.128371  0.128942  0.128907  0.129513     \n",
       "2001  0.129552   0.13082   0.12836  0.129758  0.130564               \n",
       "2002  0.140672  0.143116  0.140337   0.14496                         \n",
       "2003  0.131106  0.130857  0.130011                                   \n",
       "2004  0.130437  0.131372                                             \n",
       "2005  0.116785                                                       \n",
       "2006                                                                 \n",
       "2007                                                                 \n",
       "2008                                                                 \n",
       "2009                                                                 \n",
       "2010                                                                 \n",
       "2011                                                                 \n",
       "2012                                                                 \n",
       "2013                                                                 \n",
       "2014                                                                 \n",
       "2015                                                                 \n",
       "2016                                                                 \n",
       "2017                                                                 \n",
       "2018                                                                 \n",
       "2019                                                                 \n",
       "2020                                                                 \n",
       "2021                                                                 \n",
       "\n",
       "[22 rows x 25 columns]"
      ]
     },
     "execution_count": 33,
     "metadata": {},
     "output_type": "execute_result"
    }
   ],
   "source": [
    "def generate_lifetime(cpr_df:pd.DataFrame)-> pd.DataFrame:\n",
    "    # get the cumulative sum of each row WHILE ignoring NaN values (otherwise the denominator is off)\n",
    "    cumulative_sum = np.nancumsum(cpr_df.values, axis=1)\n",
    "    # compute the number of non-NaN values in each row\n",
    "    num_non_nan = (~np.isnan(cpr_df.values)).cumsum(axis=1)\n",
    "    # get ROW-WISE average up until the first NaN value is encountered\n",
    "    row_avg = np.where(np.isnan(cpr_df), np.nan, cumulative_sum / num_non_nan)\n",
    "    # create new dataframe with row-wise averages\n",
    "    lifetime_df = pd.DataFrame(row_avg, columns=cpr_df.columns, index=cpr_df.index)\n",
    "    return lifetime_df\n",
    "\n",
    "lifetime_cprs = generate_lifetime(cpr_heat)\n",
    "\n",
    "lifetime_cprs.fillna('')\n"
   ]
  },
  {
   "cell_type": "code",
   "execution_count": 34,
   "metadata": {},
   "outputs": [
    {
     "data": {
      "application/vnd.plotly.v1+json": {
       "config": {
        "plotlyServerURL": "https://plot.ly"
       },
       "data": [
        {
         "hovertemplate": "variable=2000<br>index=%{x}<br>value=%{y}<extra></extra>",
         "legendgroup": "2000",
         "line": {
          "color": "#636efa",
          "dash": "solid",
          "shape": "spline"
         },
         "marker": {
          "symbol": "circle"
         },
         "mode": "markers+lines",
         "name": "2000",
         "orientation": "v",
         "showlegend": true,
         "type": "scatter",
         "x": [
          0,
          1,
          2,
          3,
          4,
          5,
          6,
          7,
          8,
          9,
          10,
          11,
          12,
          13,
          14,
          15,
          16,
          17,
          18,
          19,
          20,
          21,
          22,
          23,
          24
         ],
         "xaxis": "x",
         "y": [
          0.028907828761618015,
          0.06792625903867444,
          0.09558792684246153,
          0.10906507503264207,
          0.11970276719866439,
          0.1355123904905416,
          0.152551944208628,
          0.16577333023530766,
          0.16668685206153244,
          0.15930452779897392,
          0.15161597489771597,
          0.1445876607564709,
          0.1398645509357473,
          0.1376937942024238,
          0.13556612457442457,
          0.13312214600436972,
          0.13168446943901796,
          0.13075306527888658,
          0.13046174988745857,
          0.12858034736120377,
          0.12837094654221828,
          0.12894165220610915,
          0.1289074774834213,
          0.12951335425799698,
          null
         ],
         "yaxis": "y"
        },
        {
         "hovertemplate": "variable=2001<br>index=%{x}<br>value=%{y}<extra></extra>",
         "legendgroup": "2001",
         "line": {
          "color": "#EF553B",
          "dash": "solid",
          "shape": "spline"
         },
         "marker": {
          "symbol": "circle"
         },
         "mode": "markers+lines",
         "name": "2001",
         "orientation": "v",
         "showlegend": true,
         "type": "scatter",
         "x": [
          0,
          1,
          2,
          3,
          4,
          5,
          6,
          7,
          8,
          9,
          10,
          11,
          12,
          13,
          14,
          15,
          16,
          17,
          18,
          19,
          20,
          21,
          22,
          23,
          24
         ],
         "xaxis": "x",
         "y": [
          0.011315296679540565,
          0.03669164594193319,
          0.06538219894659132,
          0.09429181845046242,
          0.12091032673247715,
          0.15255303800168743,
          0.16198482609976309,
          0.16611371272488065,
          0.1592119697279378,
          0.15174901410691338,
          0.14608478221408905,
          0.1410834837209702,
          0.1382450738040046,
          0.13675771656925242,
          0.13405077253497039,
          0.13306479871415164,
          0.13047232143337922,
          0.1299559455574147,
          0.12955233757581627,
          0.13081994840110042,
          0.1283601950740004,
          0.12975767595138024,
          0.13056435124633134,
          null,
          null
         ],
         "yaxis": "y"
        },
        {
         "hovertemplate": "variable=2002<br>index=%{x}<br>value=%{y}<extra></extra>",
         "legendgroup": "2002",
         "line": {
          "color": "#00cc96",
          "dash": "solid",
          "shape": "spline"
         },
         "marker": {
          "symbol": "circle"
         },
         "mode": "markers+lines",
         "name": "2002",
         "orientation": "v",
         "showlegend": true,
         "type": "scatter",
         "x": [
          0,
          1,
          2,
          3,
          4,
          5,
          6,
          7,
          8,
          9,
          10,
          11,
          12,
          13,
          14,
          15,
          16,
          17,
          18,
          19,
          20,
          21,
          22,
          23,
          24
         ],
         "xaxis": "x",
         "y": [
          0.014559904470575313,
          0.032772652943178215,
          0.0653306187785088,
          0.12136854542436054,
          0.1707957265601741,
          0.19720762770043088,
          0.19701806771914196,
          0.18543322074960583,
          0.1732375824040069,
          0.1632498791861627,
          0.15638730841469875,
          0.15231456809522814,
          0.15058635902518824,
          0.14600602564238588,
          0.1438347134033193,
          0.14180126564143514,
          0.14200004591137416,
          0.1400975725595268,
          0.1406721541720959,
          0.14311593947943355,
          0.1403367511351671,
          0.14496044991956625,
          null,
          null,
          null
         ],
         "yaxis": "y"
        },
        {
         "hovertemplate": "variable=2003<br>index=%{x}<br>value=%{y}<extra></extra>",
         "legendgroup": "2003",
         "line": {
          "color": "#ab63fa",
          "dash": "solid",
          "shape": "spline"
         },
         "marker": {
          "symbol": "circle"
         },
         "mode": "markers+lines",
         "name": "2003",
         "orientation": "v",
         "showlegend": true,
         "type": "scatter",
         "x": [
          0,
          1,
          2,
          3,
          4,
          5,
          6,
          7,
          8,
          9,
          10,
          11,
          12,
          13,
          14,
          15,
          16,
          17,
          18,
          19,
          20,
          21,
          22,
          23,
          24
         ],
         "xaxis": "x",
         "y": [
          0.014678635411396468,
          0.04262908535350646,
          0.10217017936794515,
          0.16289009267331117,
          0.1867566363134456,
          0.18639493641023916,
          0.17139848607181696,
          0.15860324090464328,
          0.15087077060087822,
          0.14302493256664675,
          0.14256463273161418,
          0.13731046677215059,
          0.13755063427538797,
          0.13705362115378153,
          0.13383421017313665,
          0.13332571537930754,
          0.13251188317937052,
          0.1321947508041553,
          0.13110587727058642,
          0.1308574864075924,
          0.130011079983867,
          null,
          null,
          null,
          null
         ],
         "yaxis": "y"
        },
        {
         "hovertemplate": "variable=2004<br>index=%{x}<br>value=%{y}<extra></extra>",
         "legendgroup": "2004",
         "line": {
          "color": "#FFA15A",
          "dash": "solid",
          "shape": "spline"
         },
         "marker": {
          "symbol": "circle"
         },
         "mode": "markers+lines",
         "name": "2004",
         "orientation": "v",
         "showlegend": true,
         "type": "scatter",
         "x": [
          0,
          1,
          2,
          3,
          4,
          5,
          6,
          7,
          8,
          9,
          10,
          11,
          12,
          13,
          14,
          15,
          16,
          17,
          18,
          19,
          20,
          21,
          22,
          23,
          24
         ],
         "xaxis": "x",
         "y": [
          0.01733523738054077,
          0.060835106872984046,
          0.13817604407176035,
          0.1822265164467967,
          0.18102136886818979,
          0.16622833010071905,
          0.15635890687425977,
          0.1476178654521006,
          0.14190959716035026,
          0.13865772606218046,
          0.13519632626657233,
          0.13324809080890573,
          0.13108757563489631,
          0.13113457210354587,
          0.13148535626956676,
          0.13094957066444712,
          0.1329257650688337,
          0.1298818212234711,
          0.13043712770193247,
          0.13137236338860442,
          null,
          null,
          null,
          null,
          null
         ],
         "yaxis": "y"
        },
        {
         "hovertemplate": "variable=2005<br>index=%{x}<br>value=%{y}<extra></extra>",
         "legendgroup": "2005",
         "line": {
          "color": "#19d3f3",
          "dash": "solid",
          "shape": "spline"
         },
         "marker": {
          "symbol": "circle"
         },
         "mode": "markers+lines",
         "name": "2005",
         "orientation": "v",
         "showlegend": true,
         "type": "scatter",
         "x": [
          0,
          1,
          2,
          3,
          4,
          5,
          6,
          7,
          8,
          9,
          10,
          11,
          12,
          13,
          14,
          15,
          16,
          17,
          18,
          19,
          20,
          21,
          22,
          23,
          24
         ],
         "xaxis": "x",
         "y": [
          0.015570619394081553,
          0.0656012806123703,
          0.09594360024513442,
          0.11074335346553188,
          0.10971200204818983,
          0.10546409560094981,
          0.10166068735537999,
          0.09970853934852067,
          0.10124743594304098,
          0.10030132347519607,
          0.101426905745774,
          0.10348984740803518,
          0.10672385547399443,
          0.10696590099484352,
          0.10816535261024599,
          0.11023361926205522,
          0.10961027143411725,
          0.11270615809646653,
          0.11678543587408513,
          null,
          null,
          null,
          null,
          null,
          null
         ],
         "yaxis": "y"
        },
        {
         "hovertemplate": "variable=2006<br>index=%{x}<br>value=%{y}<extra></extra>",
         "legendgroup": "2006",
         "line": {
          "color": "#FF6692",
          "dash": "solid",
          "shape": "spline"
         },
         "marker": {
          "symbol": "circle"
         },
         "mode": "markers+lines",
         "name": "2006",
         "orientation": "v",
         "showlegend": true,
         "type": "scatter",
         "x": [
          0,
          1,
          2,
          3,
          4,
          5,
          6,
          7,
          8,
          9,
          10,
          11,
          12,
          13,
          14,
          15,
          16,
          17,
          18,
          19,
          20,
          21,
          22,
          23,
          24
         ],
         "xaxis": "x",
         "y": [
          0.016346182354569416,
          0.059517642718235675,
          0.08304433328017573,
          0.09160806324260107,
          0.09393749166317397,
          0.0948370032618147,
          0.09641490952671836,
          0.09816608404871094,
          0.09698191843681764,
          0.0955885020039223,
          0.09538178206237773,
          0.09899923195157982,
          0.10290944576843299,
          0.1075832852777148,
          0.10817820886342927,
          0.1078397154098753,
          0.10939573899066796,
          0.11035047068395941,
          null,
          null,
          null,
          null,
          null,
          null,
          null
         ],
         "yaxis": "y"
        },
        {
         "hovertemplate": "variable=2007<br>index=%{x}<br>value=%{y}<extra></extra>",
         "legendgroup": "2007",
         "line": {
          "color": "#B6E880",
          "dash": "solid",
          "shape": "spline"
         },
         "marker": {
          "symbol": "circle"
         },
         "mode": "markers+lines",
         "name": "2007",
         "orientation": "v",
         "showlegend": true,
         "type": "scatter",
         "x": [
          0,
          1,
          2,
          3,
          4,
          5,
          6,
          7,
          8,
          9,
          10,
          11,
          12,
          13,
          14,
          15,
          16,
          17,
          18,
          19,
          20,
          21,
          22,
          23,
          24
         ],
         "xaxis": "x",
         "y": [
          0.015645052166451512,
          0.049622992868813,
          0.0658587915672848,
          0.07681690783390929,
          0.08027896883352408,
          0.08640594210984354,
          0.08657749492315692,
          0.08563910045833627,
          0.08693790671534586,
          0.08744558048357737,
          0.09239314357184086,
          0.09442086412931598,
          0.0967698495982825,
          0.09909928376878951,
          0.10070785712778078,
          0.10572614845480038,
          0.10816446404659323,
          null,
          null,
          null,
          null,
          null,
          null,
          null,
          null
         ],
         "yaxis": "y"
        },
        {
         "hovertemplate": "variable=2008<br>index=%{x}<br>value=%{y}<extra></extra>",
         "legendgroup": "2008",
         "line": {
          "color": "#FF97FF",
          "dash": "solid",
          "shape": "spline"
         },
         "marker": {
          "symbol": "circle"
         },
         "mode": "markers+lines",
         "name": "2008",
         "orientation": "v",
         "showlegend": true,
         "type": "scatter",
         "x": [
          0,
          1,
          2,
          3,
          4,
          5,
          6,
          7,
          8,
          9,
          10,
          11,
          12,
          13,
          14,
          15,
          16,
          17,
          18,
          19,
          20,
          21,
          22,
          23,
          24
         ],
         "xaxis": "x",
         "y": [
          0.007462652044919027,
          0.03352670482808667,
          0.04703486415685546,
          0.052094021305148286,
          0.06099579014576169,
          0.06799533916154533,
          0.07318158026950077,
          0.07942283374590489,
          0.08271033868165215,
          0.08480633909978956,
          0.08995526946459867,
          0.09346555694034704,
          0.09875641722106468,
          0.09913260476812764,
          0.1032893061333219,
          0.1041318487084062,
          null,
          null,
          null,
          null,
          null,
          null,
          null,
          null,
          null
         ],
         "yaxis": "y"
        },
        {
         "hovertemplate": "variable=2009<br>index=%{x}<br>value=%{y}<extra></extra>",
         "legendgroup": "2009",
         "line": {
          "color": "#FECB52",
          "dash": "solid",
          "shape": "spline"
         },
         "marker": {
          "symbol": "circle"
         },
         "mode": "markers+lines",
         "name": "2009",
         "orientation": "v",
         "showlegend": true,
         "type": "scatter",
         "x": [
          0,
          1,
          2,
          3,
          4,
          5,
          6,
          7,
          8,
          9,
          10,
          11,
          12,
          13,
          14,
          15,
          16,
          17,
          18,
          19,
          20,
          21,
          22,
          23,
          24
         ],
         "xaxis": "x",
         "y": [
          0.007840534931328746,
          0.015907702279983393,
          0.025247443151062976,
          0.05134308327342338,
          0.06611435403534316,
          0.07452385557512771,
          0.08016823235786376,
          0.0891945672414257,
          0.09513379822376533,
          0.10371528865040366,
          0.11095419767288274,
          0.11576383997292121,
          0.11658738353754801,
          0.12059480766748518,
          0.12123548378412208,
          null,
          null,
          null,
          null,
          null,
          null,
          null,
          null,
          null,
          null
         ],
         "yaxis": "y"
        },
        {
         "hovertemplate": "variable=2010<br>index=%{x}<br>value=%{y}<extra></extra>",
         "legendgroup": "2010",
         "line": {
          "color": "#636efa",
          "dash": "solid",
          "shape": "spline"
         },
         "marker": {
          "symbol": "circle"
         },
         "mode": "markers+lines",
         "name": "2010",
         "orientation": "v",
         "showlegend": true,
         "type": "scatter",
         "x": [
          0,
          1,
          2,
          3,
          4,
          5,
          6,
          7,
          8,
          9,
          10,
          11,
          12,
          13,
          14,
          15,
          16,
          17,
          18,
          19,
          20,
          21,
          22,
          23,
          24
         ],
         "xaxis": "x",
         "y": [
          0.0029832171905558313,
          0.01336048464792039,
          0.032109151778271526,
          0.05956009099746509,
          0.0754978505726613,
          0.08826372058019427,
          0.09856521511687662,
          0.10764889859439783,
          0.11571211065485043,
          0.12277070332854323,
          0.1247445250433204,
          0.12458236497348818,
          0.12734680469122972,
          0.12566477011581284,
          null,
          null,
          null,
          null,
          null,
          null,
          null,
          null,
          null,
          null,
          null
         ],
         "yaxis": "y"
        },
        {
         "hovertemplate": "variable=2011<br>index=%{x}<br>value=%{y}<extra></extra>",
         "legendgroup": "2011",
         "line": {
          "color": "#EF553B",
          "dash": "solid",
          "shape": "spline"
         },
         "marker": {
          "symbol": "circle"
         },
         "mode": "markers+lines",
         "name": "2011",
         "orientation": "v",
         "showlegend": true,
         "type": "scatter",
         "x": [
          0,
          1,
          2,
          3,
          4,
          5,
          6,
          7,
          8,
          9,
          10,
          11,
          12,
          13,
          14,
          15,
          16,
          17,
          18,
          19,
          20,
          21,
          22,
          23,
          24
         ],
         "xaxis": "x",
         "y": [
          0.005107458620409511,
          0.01426304733302386,
          0.036042865506122936,
          0.06614291219278076,
          0.08405236941345326,
          0.09682676820559023,
          0.10895893253683184,
          0.12083433925490197,
          0.12757786823167358,
          0.12668653560000798,
          0.1278082360757516,
          0.13293664921229384,
          null,
          null,
          null,
          null,
          null,
          null,
          null,
          null,
          null,
          null,
          null,
          null,
          null
         ],
         "yaxis": "y"
        },
        {
         "hovertemplate": "variable=2012<br>index=%{x}<br>value=%{y}<extra></extra>",
         "legendgroup": "2012",
         "line": {
          "color": "#00cc96",
          "dash": "solid",
          "shape": "spline"
         },
         "marker": {
          "symbol": "circle"
         },
         "mode": "markers+lines",
         "name": "2012",
         "orientation": "v",
         "showlegend": true,
         "type": "scatter",
         "x": [
          0,
          1,
          2,
          3,
          4,
          5,
          6,
          7,
          8,
          9,
          10,
          11,
          12,
          13,
          14,
          15,
          16,
          17,
          18,
          19,
          20,
          21,
          22,
          23,
          24
         ],
         "xaxis": "x",
         "y": [
          0.0051336786143169055,
          0.018231342873149203,
          0.03577384569320722,
          0.06581608275118395,
          0.0805076713819276,
          0.0948120694356029,
          0.10803075349667232,
          0.11606182612739638,
          0.1210314289396992,
          0.12432500454023002,
          0.13167040904354319,
          null,
          null,
          null,
          null,
          null,
          null,
          null,
          null,
          null,
          null,
          null,
          null,
          null,
          null
         ],
         "yaxis": "y"
        },
        {
         "hovertemplate": "variable=2013<br>index=%{x}<br>value=%{y}<extra></extra>",
         "legendgroup": "2013",
         "line": {
          "color": "#ab63fa",
          "dash": "solid",
          "shape": "spline"
         },
         "marker": {
          "symbol": "circle"
         },
         "mode": "markers+lines",
         "name": "2013",
         "orientation": "v",
         "showlegend": true,
         "type": "scatter",
         "x": [
          0,
          1,
          2,
          3,
          4,
          5,
          6,
          7,
          8,
          9,
          10,
          11,
          12,
          13,
          14,
          15,
          16,
          17,
          18,
          19,
          20,
          21,
          22,
          23,
          24
         ],
         "xaxis": "x",
         "y": [
          0.01071322686287668,
          0.020570064725442316,
          0.039171342215108505,
          0.0675948294231814,
          0.08710516481967305,
          0.1008432448146482,
          0.11079704200104391,
          0.11429328831382854,
          0.11852937767211125,
          0.12403412231385649,
          null,
          null,
          null,
          null,
          null,
          null,
          null,
          null,
          null,
          null,
          null,
          null,
          null,
          null,
          null
         ],
         "yaxis": "y"
        },
        {
         "hovertemplate": "variable=2014<br>index=%{x}<br>value=%{y}<extra></extra>",
         "legendgroup": "2014",
         "line": {
          "color": "#FFA15A",
          "dash": "solid",
          "shape": "spline"
         },
         "marker": {
          "symbol": "circle"
         },
         "mode": "markers+lines",
         "name": "2014",
         "orientation": "v",
         "showlegend": true,
         "type": "scatter",
         "x": [
          0,
          1,
          2,
          3,
          4,
          5,
          6,
          7,
          8,
          9,
          10,
          11,
          12,
          13,
          14,
          15,
          16,
          17,
          18,
          19,
          20,
          21,
          22,
          23,
          24
         ],
         "xaxis": "x",
         "y": [
          0.0037163165869797954,
          0.019504731061990355,
          0.042732252559058916,
          0.07321355532292798,
          0.09336286421022835,
          0.10847997369178915,
          0.11263272491568414,
          0.11971069238238927,
          0.1274844472628958,
          null,
          null,
          null,
          null,
          null,
          null,
          null,
          null,
          null,
          null,
          null,
          null,
          null,
          null,
          null,
          null
         ],
         "yaxis": "y"
        },
        {
         "hovertemplate": "variable=2015<br>index=%{x}<br>value=%{y}<extra></extra>",
         "legendgroup": "2015",
         "line": {
          "color": "#19d3f3",
          "dash": "solid",
          "shape": "spline"
         },
         "marker": {
          "symbol": "circle"
         },
         "mode": "markers+lines",
         "name": "2015",
         "orientation": "v",
         "showlegend": true,
         "type": "scatter",
         "x": [
          0,
          1,
          2,
          3,
          4,
          5,
          6,
          7,
          8,
          9,
          10,
          11,
          12,
          13,
          14,
          15,
          16,
          17,
          18,
          19,
          20,
          21,
          22,
          23,
          24
         ],
         "xaxis": "x",
         "y": [
          0.008301578192191128,
          0.023118861850647043,
          0.04880790402629084,
          0.08192418739255261,
          0.1024209656136891,
          0.10711128749089661,
          0.11847094093649067,
          0.12601434271451512,
          null,
          null,
          null,
          null,
          null,
          null,
          null,
          null,
          null,
          null,
          null,
          null,
          null,
          null,
          null,
          null,
          null
         ],
         "yaxis": "y"
        },
        {
         "hovertemplate": "variable=2016<br>index=%{x}<br>value=%{y}<extra></extra>",
         "legendgroup": "2016",
         "line": {
          "color": "#FF6692",
          "dash": "solid",
          "shape": "spline"
         },
         "marker": {
          "symbol": "circle"
         },
         "mode": "markers+lines",
         "name": "2016",
         "orientation": "v",
         "showlegend": true,
         "type": "scatter",
         "x": [
          0,
          1,
          2,
          3,
          4,
          5,
          6,
          7,
          8,
          9,
          10,
          11,
          12,
          13,
          14,
          15,
          16,
          17,
          18,
          19,
          20,
          21,
          22,
          23,
          24
         ],
         "xaxis": "x",
         "y": [
          0.00623050951701043,
          0.02331187520409339,
          0.05242891493232168,
          0.07921388897534257,
          0.08730780221860335,
          0.09997698345314092,
          0.11373545610948217,
          null,
          null,
          null,
          null,
          null,
          null,
          null,
          null,
          null,
          null,
          null,
          null,
          null,
          null,
          null,
          null,
          null,
          null
         ],
         "yaxis": "y"
        },
        {
         "hovertemplate": "variable=2017<br>index=%{x}<br>value=%{y}<extra></extra>",
         "legendgroup": "2017",
         "line": {
          "color": "#B6E880",
          "dash": "solid",
          "shape": "spline"
         },
         "marker": {
          "symbol": "circle"
         },
         "mode": "markers+lines",
         "name": "2017",
         "orientation": "v",
         "showlegend": true,
         "type": "scatter",
         "x": [
          0,
          1,
          2,
          3,
          4,
          5,
          6,
          7,
          8,
          9,
          10,
          11,
          12,
          13,
          14,
          15,
          16,
          17,
          18,
          19,
          20,
          21,
          22,
          23,
          24
         ],
         "xaxis": "x",
         "y": [
          0.01209205583867956,
          0.03000840524400944,
          0.059397911920872924,
          0.0700721038259827,
          0.09256861174457312,
          0.11195894450433184,
          null,
          null,
          null,
          null,
          null,
          null,
          null,
          null,
          null,
          null,
          null,
          null,
          null,
          null,
          null,
          null,
          null,
          null,
          null
         ],
         "yaxis": "y"
        },
        {
         "hovertemplate": "variable=2018<br>index=%{x}<br>value=%{y}<extra></extra>",
         "legendgroup": "2018",
         "line": {
          "color": "#FF97FF",
          "dash": "solid",
          "shape": "spline"
         },
         "marker": {
          "symbol": "circle"
         },
         "mode": "markers+lines",
         "name": "2018",
         "orientation": "v",
         "showlegend": true,
         "type": "scatter",
         "x": [
          0,
          1,
          2,
          3,
          4,
          5,
          6,
          7,
          8,
          9,
          10,
          11,
          12,
          13,
          14,
          15,
          16,
          17,
          18,
          19,
          20,
          21,
          22,
          23,
          24
         ],
         "xaxis": "x",
         "y": [
          0.008673599541252464,
          0.025930109730312123,
          0.0363858727540447,
          0.07442328110988303,
          0.09856319412733297,
          null,
          null,
          null,
          null,
          null,
          null,
          null,
          null,
          null,
          null,
          null,
          null,
          null,
          null,
          null,
          null,
          null,
          null,
          null,
          null
         ],
         "yaxis": "y"
        },
        {
         "hovertemplate": "variable=2019<br>index=%{x}<br>value=%{y}<extra></extra>",
         "legendgroup": "2019",
         "line": {
          "color": "#FECB52",
          "dash": "solid",
          "shape": "spline"
         },
         "marker": {
          "symbol": "circle"
         },
         "mode": "markers+lines",
         "name": "2019",
         "orientation": "v",
         "showlegend": true,
         "type": "scatter",
         "x": [
          0,
          1,
          2,
          3,
          4,
          5,
          6,
          7,
          8,
          9,
          10,
          11,
          12,
          13,
          14,
          15,
          16,
          17,
          18,
          19,
          20,
          21,
          22,
          23,
          24
         ],
         "xaxis": "x",
         "y": [
          0.008207888387425477,
          0.020523938808380326,
          0.04514890971730242,
          0.055537068272716705,
          null,
          null,
          null,
          null,
          null,
          null,
          null,
          null,
          null,
          null,
          null,
          null,
          null,
          null,
          null,
          null,
          null,
          null,
          null,
          null,
          null
         ],
         "yaxis": "y"
        },
        {
         "hovertemplate": "variable=2020<br>index=%{x}<br>value=%{y}<extra></extra>",
         "legendgroup": "2020",
         "line": {
          "color": "#636efa",
          "dash": "solid",
          "shape": "spline"
         },
         "marker": {
          "symbol": "circle"
         },
         "mode": "markers+lines",
         "name": "2020",
         "orientation": "v",
         "showlegend": true,
         "type": "scatter",
         "x": [
          0,
          1,
          2,
          3,
          4,
          5,
          6,
          7,
          8,
          9,
          10,
          11,
          12,
          13,
          14,
          15,
          16,
          17,
          18,
          19,
          20,
          21,
          22,
          23,
          24
         ],
         "xaxis": "x",
         "y": [
          0.004142210191875884,
          0.028163368479108164,
          0.0383635561251921,
          null,
          null,
          null,
          null,
          null,
          null,
          null,
          null,
          null,
          null,
          null,
          null,
          null,
          null,
          null,
          null,
          null,
          null,
          null,
          null,
          null,
          null
         ],
         "yaxis": "y"
        },
        {
         "hovertemplate": "variable=2021<br>index=%{x}<br>value=%{y}<extra></extra>",
         "legendgroup": "2021",
         "line": {
          "color": "#EF553B",
          "dash": "solid",
          "shape": "spline"
         },
         "marker": {
          "symbol": "circle"
         },
         "mode": "markers+lines",
         "name": "2021",
         "orientation": "v",
         "showlegend": true,
         "type": "scatter",
         "x": [
          0,
          1,
          2,
          3,
          4,
          5,
          6,
          7,
          8,
          9,
          10,
          11,
          12,
          13,
          14,
          15,
          16,
          17,
          18,
          19,
          20,
          21,
          22,
          23,
          24
         ],
         "xaxis": "x",
         "y": [
          0.013702627194173589,
          0.015906865236949008,
          null,
          null,
          null,
          null,
          null,
          null,
          null,
          null,
          null,
          null,
          null,
          null,
          null,
          null,
          null,
          null,
          null,
          null,
          null,
          null,
          null,
          null,
          null
         ],
         "yaxis": "y"
        }
       ],
       "layout": {
        "legend": {
         "title": {
          "text": "variable"
         },
         "tracegroupgap": 0
        },
        "template": {
         "data": {
          "bar": [
           {
            "error_x": {
             "color": "#2a3f5f"
            },
            "error_y": {
             "color": "#2a3f5f"
            },
            "marker": {
             "line": {
              "color": "#E5ECF6",
              "width": 0.5
             },
             "pattern": {
              "fillmode": "overlay",
              "size": 10,
              "solidity": 0.2
             }
            },
            "type": "bar"
           }
          ],
          "barpolar": [
           {
            "marker": {
             "line": {
              "color": "#E5ECF6",
              "width": 0.5
             },
             "pattern": {
              "fillmode": "overlay",
              "size": 10,
              "solidity": 0.2
             }
            },
            "type": "barpolar"
           }
          ],
          "carpet": [
           {
            "aaxis": {
             "endlinecolor": "#2a3f5f",
             "gridcolor": "white",
             "linecolor": "white",
             "minorgridcolor": "white",
             "startlinecolor": "#2a3f5f"
            },
            "baxis": {
             "endlinecolor": "#2a3f5f",
             "gridcolor": "white",
             "linecolor": "white",
             "minorgridcolor": "white",
             "startlinecolor": "#2a3f5f"
            },
            "type": "carpet"
           }
          ],
          "choropleth": [
           {
            "colorbar": {
             "outlinewidth": 0,
             "ticks": ""
            },
            "type": "choropleth"
           }
          ],
          "contour": [
           {
            "colorbar": {
             "outlinewidth": 0,
             "ticks": ""
            },
            "colorscale": [
             [
              0,
              "#0d0887"
             ],
             [
              0.1111111111111111,
              "#46039f"
             ],
             [
              0.2222222222222222,
              "#7201a8"
             ],
             [
              0.3333333333333333,
              "#9c179e"
             ],
             [
              0.4444444444444444,
              "#bd3786"
             ],
             [
              0.5555555555555556,
              "#d8576b"
             ],
             [
              0.6666666666666666,
              "#ed7953"
             ],
             [
              0.7777777777777778,
              "#fb9f3a"
             ],
             [
              0.8888888888888888,
              "#fdca26"
             ],
             [
              1,
              "#f0f921"
             ]
            ],
            "type": "contour"
           }
          ],
          "contourcarpet": [
           {
            "colorbar": {
             "outlinewidth": 0,
             "ticks": ""
            },
            "type": "contourcarpet"
           }
          ],
          "heatmap": [
           {
            "colorbar": {
             "outlinewidth": 0,
             "ticks": ""
            },
            "colorscale": [
             [
              0,
              "#0d0887"
             ],
             [
              0.1111111111111111,
              "#46039f"
             ],
             [
              0.2222222222222222,
              "#7201a8"
             ],
             [
              0.3333333333333333,
              "#9c179e"
             ],
             [
              0.4444444444444444,
              "#bd3786"
             ],
             [
              0.5555555555555556,
              "#d8576b"
             ],
             [
              0.6666666666666666,
              "#ed7953"
             ],
             [
              0.7777777777777778,
              "#fb9f3a"
             ],
             [
              0.8888888888888888,
              "#fdca26"
             ],
             [
              1,
              "#f0f921"
             ]
            ],
            "type": "heatmap"
           }
          ],
          "heatmapgl": [
           {
            "colorbar": {
             "outlinewidth": 0,
             "ticks": ""
            },
            "colorscale": [
             [
              0,
              "#0d0887"
             ],
             [
              0.1111111111111111,
              "#46039f"
             ],
             [
              0.2222222222222222,
              "#7201a8"
             ],
             [
              0.3333333333333333,
              "#9c179e"
             ],
             [
              0.4444444444444444,
              "#bd3786"
             ],
             [
              0.5555555555555556,
              "#d8576b"
             ],
             [
              0.6666666666666666,
              "#ed7953"
             ],
             [
              0.7777777777777778,
              "#fb9f3a"
             ],
             [
              0.8888888888888888,
              "#fdca26"
             ],
             [
              1,
              "#f0f921"
             ]
            ],
            "type": "heatmapgl"
           }
          ],
          "histogram": [
           {
            "marker": {
             "pattern": {
              "fillmode": "overlay",
              "size": 10,
              "solidity": 0.2
             }
            },
            "type": "histogram"
           }
          ],
          "histogram2d": [
           {
            "colorbar": {
             "outlinewidth": 0,
             "ticks": ""
            },
            "colorscale": [
             [
              0,
              "#0d0887"
             ],
             [
              0.1111111111111111,
              "#46039f"
             ],
             [
              0.2222222222222222,
              "#7201a8"
             ],
             [
              0.3333333333333333,
              "#9c179e"
             ],
             [
              0.4444444444444444,
              "#bd3786"
             ],
             [
              0.5555555555555556,
              "#d8576b"
             ],
             [
              0.6666666666666666,
              "#ed7953"
             ],
             [
              0.7777777777777778,
              "#fb9f3a"
             ],
             [
              0.8888888888888888,
              "#fdca26"
             ],
             [
              1,
              "#f0f921"
             ]
            ],
            "type": "histogram2d"
           }
          ],
          "histogram2dcontour": [
           {
            "colorbar": {
             "outlinewidth": 0,
             "ticks": ""
            },
            "colorscale": [
             [
              0,
              "#0d0887"
             ],
             [
              0.1111111111111111,
              "#46039f"
             ],
             [
              0.2222222222222222,
              "#7201a8"
             ],
             [
              0.3333333333333333,
              "#9c179e"
             ],
             [
              0.4444444444444444,
              "#bd3786"
             ],
             [
              0.5555555555555556,
              "#d8576b"
             ],
             [
              0.6666666666666666,
              "#ed7953"
             ],
             [
              0.7777777777777778,
              "#fb9f3a"
             ],
             [
              0.8888888888888888,
              "#fdca26"
             ],
             [
              1,
              "#f0f921"
             ]
            ],
            "type": "histogram2dcontour"
           }
          ],
          "mesh3d": [
           {
            "colorbar": {
             "outlinewidth": 0,
             "ticks": ""
            },
            "type": "mesh3d"
           }
          ],
          "parcoords": [
           {
            "line": {
             "colorbar": {
              "outlinewidth": 0,
              "ticks": ""
             }
            },
            "type": "parcoords"
           }
          ],
          "pie": [
           {
            "automargin": true,
            "type": "pie"
           }
          ],
          "scatter": [
           {
            "fillpattern": {
             "fillmode": "overlay",
             "size": 10,
             "solidity": 0.2
            },
            "type": "scatter"
           }
          ],
          "scatter3d": [
           {
            "line": {
             "colorbar": {
              "outlinewidth": 0,
              "ticks": ""
             }
            },
            "marker": {
             "colorbar": {
              "outlinewidth": 0,
              "ticks": ""
             }
            },
            "type": "scatter3d"
           }
          ],
          "scattercarpet": [
           {
            "marker": {
             "colorbar": {
              "outlinewidth": 0,
              "ticks": ""
             }
            },
            "type": "scattercarpet"
           }
          ],
          "scattergeo": [
           {
            "marker": {
             "colorbar": {
              "outlinewidth": 0,
              "ticks": ""
             }
            },
            "type": "scattergeo"
           }
          ],
          "scattergl": [
           {
            "marker": {
             "colorbar": {
              "outlinewidth": 0,
              "ticks": ""
             }
            },
            "type": "scattergl"
           }
          ],
          "scattermapbox": [
           {
            "marker": {
             "colorbar": {
              "outlinewidth": 0,
              "ticks": ""
             }
            },
            "type": "scattermapbox"
           }
          ],
          "scatterpolar": [
           {
            "marker": {
             "colorbar": {
              "outlinewidth": 0,
              "ticks": ""
             }
            },
            "type": "scatterpolar"
           }
          ],
          "scatterpolargl": [
           {
            "marker": {
             "colorbar": {
              "outlinewidth": 0,
              "ticks": ""
             }
            },
            "type": "scatterpolargl"
           }
          ],
          "scatterternary": [
           {
            "marker": {
             "colorbar": {
              "outlinewidth": 0,
              "ticks": ""
             }
            },
            "type": "scatterternary"
           }
          ],
          "surface": [
           {
            "colorbar": {
             "outlinewidth": 0,
             "ticks": ""
            },
            "colorscale": [
             [
              0,
              "#0d0887"
             ],
             [
              0.1111111111111111,
              "#46039f"
             ],
             [
              0.2222222222222222,
              "#7201a8"
             ],
             [
              0.3333333333333333,
              "#9c179e"
             ],
             [
              0.4444444444444444,
              "#bd3786"
             ],
             [
              0.5555555555555556,
              "#d8576b"
             ],
             [
              0.6666666666666666,
              "#ed7953"
             ],
             [
              0.7777777777777778,
              "#fb9f3a"
             ],
             [
              0.8888888888888888,
              "#fdca26"
             ],
             [
              1,
              "#f0f921"
             ]
            ],
            "type": "surface"
           }
          ],
          "table": [
           {
            "cells": {
             "fill": {
              "color": "#EBF0F8"
             },
             "line": {
              "color": "white"
             }
            },
            "header": {
             "fill": {
              "color": "#C8D4E3"
             },
             "line": {
              "color": "white"
             }
            },
            "type": "table"
           }
          ]
         },
         "layout": {
          "annotationdefaults": {
           "arrowcolor": "#2a3f5f",
           "arrowhead": 0,
           "arrowwidth": 1
          },
          "autotypenumbers": "strict",
          "coloraxis": {
           "colorbar": {
            "outlinewidth": 0,
            "ticks": ""
           }
          },
          "colorscale": {
           "diverging": [
            [
             0,
             "#8e0152"
            ],
            [
             0.1,
             "#c51b7d"
            ],
            [
             0.2,
             "#de77ae"
            ],
            [
             0.3,
             "#f1b6da"
            ],
            [
             0.4,
             "#fde0ef"
            ],
            [
             0.5,
             "#f7f7f7"
            ],
            [
             0.6,
             "#e6f5d0"
            ],
            [
             0.7,
             "#b8e186"
            ],
            [
             0.8,
             "#7fbc41"
            ],
            [
             0.9,
             "#4d9221"
            ],
            [
             1,
             "#276419"
            ]
           ],
           "sequential": [
            [
             0,
             "#0d0887"
            ],
            [
             0.1111111111111111,
             "#46039f"
            ],
            [
             0.2222222222222222,
             "#7201a8"
            ],
            [
             0.3333333333333333,
             "#9c179e"
            ],
            [
             0.4444444444444444,
             "#bd3786"
            ],
            [
             0.5555555555555556,
             "#d8576b"
            ],
            [
             0.6666666666666666,
             "#ed7953"
            ],
            [
             0.7777777777777778,
             "#fb9f3a"
            ],
            [
             0.8888888888888888,
             "#fdca26"
            ],
            [
             1,
             "#f0f921"
            ]
           ],
           "sequentialminus": [
            [
             0,
             "#0d0887"
            ],
            [
             0.1111111111111111,
             "#46039f"
            ],
            [
             0.2222222222222222,
             "#7201a8"
            ],
            [
             0.3333333333333333,
             "#9c179e"
            ],
            [
             0.4444444444444444,
             "#bd3786"
            ],
            [
             0.5555555555555556,
             "#d8576b"
            ],
            [
             0.6666666666666666,
             "#ed7953"
            ],
            [
             0.7777777777777778,
             "#fb9f3a"
            ],
            [
             0.8888888888888888,
             "#fdca26"
            ],
            [
             1,
             "#f0f921"
            ]
           ]
          },
          "colorway": [
           "#636efa",
           "#EF553B",
           "#00cc96",
           "#ab63fa",
           "#FFA15A",
           "#19d3f3",
           "#FF6692",
           "#B6E880",
           "#FF97FF",
           "#FECB52"
          ],
          "font": {
           "color": "#2a3f5f"
          },
          "geo": {
           "bgcolor": "white",
           "lakecolor": "white",
           "landcolor": "#E5ECF6",
           "showlakes": true,
           "showland": true,
           "subunitcolor": "white"
          },
          "hoverlabel": {
           "align": "left"
          },
          "hovermode": "closest",
          "mapbox": {
           "style": "light"
          },
          "paper_bgcolor": "white",
          "plot_bgcolor": "#E5ECF6",
          "polar": {
           "angularaxis": {
            "gridcolor": "white",
            "linecolor": "white",
            "ticks": ""
           },
           "bgcolor": "#E5ECF6",
           "radialaxis": {
            "gridcolor": "white",
            "linecolor": "white",
            "ticks": ""
           }
          },
          "scene": {
           "xaxis": {
            "backgroundcolor": "#E5ECF6",
            "gridcolor": "white",
            "gridwidth": 2,
            "linecolor": "white",
            "showbackground": true,
            "ticks": "",
            "zerolinecolor": "white"
           },
           "yaxis": {
            "backgroundcolor": "#E5ECF6",
            "gridcolor": "white",
            "gridwidth": 2,
            "linecolor": "white",
            "showbackground": true,
            "ticks": "",
            "zerolinecolor": "white"
           },
           "zaxis": {
            "backgroundcolor": "#E5ECF6",
            "gridcolor": "white",
            "gridwidth": 2,
            "linecolor": "white",
            "showbackground": true,
            "ticks": "",
            "zerolinecolor": "white"
           }
          },
          "shapedefaults": {
           "line": {
            "color": "#2a3f5f"
           }
          },
          "ternary": {
           "aaxis": {
            "gridcolor": "white",
            "linecolor": "white",
            "ticks": ""
           },
           "baxis": {
            "gridcolor": "white",
            "linecolor": "white",
            "ticks": ""
           },
           "bgcolor": "#E5ECF6",
           "caxis": {
            "gridcolor": "white",
            "linecolor": "white",
            "ticks": ""
           }
          },
          "title": {
           "x": 0.05
          },
          "xaxis": {
           "automargin": true,
           "gridcolor": "white",
           "linecolor": "white",
           "ticks": "",
           "title": {
            "standoff": 15
           },
           "zerolinecolor": "white",
           "zerolinewidth": 2
          },
          "yaxis": {
           "automargin": true,
           "gridcolor": "white",
           "linecolor": "white",
           "ticks": "",
           "title": {
            "standoff": 15
           },
           "zerolinecolor": "white",
           "zerolinewidth": 2
          }
         }
        },
        "title": {
         "text": "Lifetime Average CPR by Year from Origination"
        },
        "xaxis": {
         "anchor": "y",
         "domain": [
          0,
          1
         ],
         "title": {
          "text": "Year from Origination"
         }
        },
        "yaxis": {
         "anchor": "x",
         "domain": [
          0,
          1
         ],
         "tickformat": "0.0%",
         "title": {
          "text": "CPR"
         }
        }
       }
      }
     },
     "metadata": {},
     "output_type": "display_data"
    }
   ],
   "source": [
    "import plotly.express as px\n",
    "\n",
    "fig = px.line(lifetime_cprs.transpose(), line_shape= 'spline', title=\"Lifetime Average CPR by Year from Origination\", markers=True)\n",
    "fig.update_layout(yaxis_title='CPR', xaxis_title= 'Year from Origination', yaxis=dict(tickformat='0.0%'))"
   ]
  },
  {
   "cell_type": "code",
   "execution_count": 17,
   "metadata": {},
   "outputs": [
    {
     "data": {
      "text/plain": [
       "['0.025 - 0.0275',\n",
       " '0.0275+',\n",
       " '0.0175 - 0.02',\n",
       " '0.0 - 0.01',\n",
       " '0.02 - 0.0225',\n",
       " '0.0225 - 0.025',\n",
       " '0.0125 - 0.015',\n",
       " '0.015 - 0.0175',\n",
       " '0.01 - 0.0125']"
      ]
     },
     "execution_count": 17,
     "metadata": {},
     "output_type": "execute_result"
    }
   ],
   "source": [
    "loan_data['MarginBucket'].value_counts().index.to_list()"
   ]
  },
  {
   "cell_type": "code",
   "execution_count": 18,
   "metadata": {},
   "outputs": [],
   "source": [
    "def subset_dataframe(df, conditions):\n",
    "    mask = pd.Series(True, index=df.index)\n",
    "    for col, cond in conditions.items():\n",
    "        mask &= df[col].isin(cond)\n",
    "    return df[mask]\n"
   ]
  },
  {
   "cell_type": "code",
   "execution_count": 114,
   "metadata": {},
   "outputs": [
    {
     "name": "stdout",
     "output_type": "stream",
     "text": [
      "    name  age gender\n",
      "0  Alice   25      F\n"
     ]
    }
   ],
   "source": [
    "# Define a sample dataframe\n",
    "data = {\n",
    "    'name': ['Alice', 'Bob', 'Charlie', 'Dave'],\n",
    "    'age': [25, 30, 35, 40],\n",
    "    'gender': ['F', 'M', 'M', 'M']\n",
    "}\n",
    "df = pd.DataFrame(data)\n",
    "\n",
    "# Subset the dataframe based on multiple conditions\n",
    "subset = subset_dataframe(df, {'age': [25, 30], 'gender': ['F']})\n",
    "print(subset)\n"
   ]
  },
  {
   "cell_type": "code",
   "execution_count": null,
   "metadata": {},
   "outputs": [],
   "source": []
  }
 ],
 "metadata": {
  "kernelspec": {
   "display_name": "base",
   "language": "python",
   "name": "python3"
  },
  "language_info": {
   "codemirror_mode": {
    "name": "ipython",
    "version": 3
   },
   "file_extension": ".py",
   "mimetype": "text/x-python",
   "name": "python",
   "nbconvert_exporter": "python",
   "pygments_lexer": "ipython3",
   "version": "3.9.16"
  },
  "orig_nbformat": 4
 },
 "nbformat": 4,
 "nbformat_minor": 2
}
