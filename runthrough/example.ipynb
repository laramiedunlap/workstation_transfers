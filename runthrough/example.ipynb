{
 "cells": [
  {
   "attachments": {},
   "cell_type": "markdown",
   "metadata": {},
   "source": [
    "### Basic imports"
   ]
  },
  {
   "cell_type": "code",
   "execution_count": 1,
   "metadata": {},
   "outputs": [],
   "source": [
    "import pandas as pd\n",
    "import sqlalchemy as sa\n",
    "import numpy as np\n",
    "import warnings\n",
    "warnings.filterwarnings('ignore')\n",
    "import os\n",
    "from dotenv import load_dotenv\n",
    "load_dotenv()\n",
    "\n",
    "engine = sa.create_engine(\"mysql+pymysql://{user}:{pw}@{host}/{db}\"\n",
    "    .format(host=os.getenv('host'), db=os.getenv('db'), user=os.getenv('uname'), pw=os.getenv('password')))\n"
   ]
  },
  {
   "attachments": {},
   "cell_type": "markdown",
   "metadata": {},
   "source": [
    "### 1. Read in Data from csv --> could also use pd.read_sql and use .env to load auth info"
   ]
  },
  {
   "cell_type": "code",
   "execution_count": 2,
   "metadata": {},
   "outputs": [],
   "source": [
    "loan_data = pd.read_csv(\"raw_data/loans_v2.csv\")\n",
    "# format date columns to datetime data types\n",
    "date_cols = [c for c in loan_data.columns if str(c)[-2:]=='Dt']\n",
    "for col in date_cols:\n",
    "    loan_data[col] = pd.to_datetime(loan_data[col])\n",
    "\n",
    "# loan_data.to_sql(name='loan_tape_fv', con=engine, if_exists='replace', index=False)"
   ]
  },
  {
   "cell_type": "code",
   "execution_count": 3,
   "metadata": {},
   "outputs": [],
   "source": [
    "def subset_dataframe(df, conditions, inverse=False):\n",
    "    \"\"\"return a subset of a dataframe based on multiple columns and conditions\"\"\"\n",
    "    if not inverse:\n",
    "        mask = pd.Series(True, index=df.index)\n",
    "        for col, cond in conditions.items():\n",
    "            mask &= df[col].isin(cond)\n",
    "    else:\n",
    "        mask = pd.Series(True, index=df.index)\n",
    "        for col, cond in conditions.items():\n",
    "            mask &= ~df[col].isin(cond)\n",
    "    return df[mask]"
   ]
  },
  {
   "cell_type": "code",
   "execution_count": 4,
   "metadata": {},
   "outputs": [],
   "source": [
    "# Slice the data frame to only 21+ year maturity loans\n",
    "data_slice = loan_data[loan_data['MatBucket']=='21+']"
   ]
  },
  {
   "attachments": {},
   "cell_type": "markdown",
   "metadata": {},
   "source": [
    "### 2. Use pool.py to organize cohorts --> loans are split into yyyy.mm cohorts"
   ]
  },
  {
   "cell_type": "code",
   "execution_count": 5,
   "metadata": {},
   "outputs": [],
   "source": [
    "test_slice  = loan_data[loan_data['MatBucket']=='21+']\n",
    "test_slice = test_slice[test_slice['Note_Yr']<=2021]\n",
    "# test_slice = test_slice[test_slice['CodeText'].notna()]\n",
    "# test_slice[test_slice['CodeText'].str.contains('Hotels')]"
   ]
  },
  {
   "cell_type": "code",
   "execution_count": null,
   "metadata": {},
   "outputs": [],
   "source": []
  },
  {
   "cell_type": "code",
   "execution_count": 6,
   "metadata": {},
   "outputs": [],
   "source": [
    "data_slice = loan_data[loan_data['MatBucket']=='21+']\n",
    "data_slice = data_slice[data_slice['Note_Yr']<=2021]\n",
    "\n",
    "# data_slice = data_slice[data_slice['Note_Yr']>2010]\n",
    "\n",
    "# fast_payers = [811192,721110]\n",
    "\n",
    "# data_slice = data_slice[~data_slice['Code'].isin(fast_payers)]\n",
    "# data_slice = data_slice[data_slice['LoanAmt']>2_000_000]\n",
    "# # data_slice = data_slice[data_slice['LoanAmt']<=2_000_000]\n",
    "# data_slice = data_slice[data_slice['Margin']>.02]\n",
    "# # data_slice = data_slice[data_slice['Margin']<=.02]\n",
    "\n",
    "# print(f\"loan count: {data_slice.shape[0]}\")\n",
    "\n",
    "\n",
    "\n",
    "\n"
   ]
  },
  {
   "cell_type": "code",
   "execution_count": 7,
   "metadata": {},
   "outputs": [],
   "source": [
    "from pooler import pool\n",
    "\n",
    "# Define a function to create static pools of Loans from the DataFrame\n",
    "def create_pooler(in_df:pd.DataFrame)-> pool.Pooler:\n",
    "    temp = in_df.set_index('GP')\n",
    "    temp = temp.to_dict()\n",
    "    loans_dict = {}\n",
    "    for gp in temp['NoteDt'].keys():\n",
    "        loans_dict[str(gp)] = pool.Loan(gp, pd.to_datetime(temp['NoteDt'][gp]))\n",
    "        loans_dict[str(gp)].maturity_dt = temp['MaturityDt'][gp]\n",
    "        loans_dict[str(gp)].maturity_mths_qty = temp['MaturityMthsQty'][gp]\n",
    "        loans_dict[str(gp)].default_dt = temp['DefaultDt'][gp]\n",
    "        loans_dict[str(gp)].default_mths_qty = temp['DefaultMthsQty'][gp]\n",
    "        loans_dict[str(gp)].prepay_dt = temp['PrepayDt'][gp]\n",
    "        loans_dict[str(gp)].prepay_mths_qty = temp['PrepayMthsQty'][gp]\n",
    "\n",
    "    return pool.Pooler(loans_dict)\n",
    "\n",
    "my_pooler = create_pooler(data_slice)\n",
    "my_pooler.build_triangles_counts()\n",
    "\n",
    "pool_dict = {}\n",
    "for k, v in my_pooler.triangles.items():\n",
    "    pool_dict[k] = dict(outstanding=v[0], prepayments=v[1], defaults=v[2])\n"
   ]
  },
  {
   "attachments": {},
   "cell_type": "markdown",
   "metadata": {},
   "source": [
    "### 3. Convert Pool dictionaries into Dataframe"
   ]
  },
  {
   "cell_type": "code",
   "execution_count": 8,
   "metadata": {},
   "outputs": [],
   "source": [
    "# Create Pool Dataframe\n",
    "df_pool = pd.DataFrame.from_dict( pool_dict, orient='index')\n",
    "df_pool.index = [float(e) for e in df_pool.index.to_list()]\n",
    "df_pool = df_pool.sort_index()\n"
   ]
  },
  {
   "cell_type": "code",
   "execution_count": 10,
   "metadata": {},
   "outputs": [],
   "source": [
    "# Format array lengths\n",
    "max_row_length = df_pool.shape[0]\n",
    "count = -1\n",
    "for i, row in df_pool.iterrows():\n",
    "    count+=1\n",
    "    for col in df_pool.columns:\n",
    "        arr = row[col][:(max_row_length-count)].astype(float)\n",
    "        padded_arr = np.pad(arr, (0, max_row_length - (max_row_length-count) ), mode='constant', constant_values=np.nan)\n",
    "        df_pool.at[i,col] = padded_arr\n",
    "\n",
    "\n"
   ]
  },
  {
   "cell_type": "code",
   "execution_count": null,
   "metadata": {},
   "outputs": [],
   "source": [
    "# Format array lengths\n",
    "max_row_length = df_pool.shape[0]\n",
    "count = -1\n",
    "for i, row in df_pool.iterrows():\n",
    "    count+=1\n",
    "    for col in df_pool.columns:\n",
    "        arr = row[col][:(max_row_length-count)].astype(float)\n",
    "        padded_arr = np.pad(arr, (0, max_row_length - (max_row_length-count) ), mode='constant', constant_values=np.nan)\n",
    "        df_pool.at[i,col] = padded_arr\n",
    "    "
   ]
  },
  {
   "attachments": {},
   "cell_type": "markdown",
   "metadata": {},
   "source": [
    "### 4. Group into Annual cohorts and calculate SMM and CPR"
   ]
  },
  {
   "attachments": {},
   "cell_type": "markdown",
   "metadata": {},
   "source": [
    "### Reshape the Yearly cohorts data from Months on Book to Year on Book  \n",
    "`[i,...........,n=MoB] ---> applymap(aggregate_method)`  \n",
    " \n",
    "`[[i,...]`  \n",
    "`[i,...]`  \n",
    "`[i,...]`  \n",
    "`[i,...]`  \n",
    "`[i,...]...n_years=YoB]`"
   ]
  },
  {
   "cell_type": "code",
   "execution_count": 11,
   "metadata": {},
   "outputs": [],
   "source": [
    "\n",
    "# First try here\n",
    "# def aggregate_annual_sums(in_arr):\n",
    "#     n_years = len(in_arr) // 12\n",
    "#     arr_2d = in_arr[:n_years*12].reshape(n_years,12)\n",
    "#     return np.nansum(arr_2d, axis=1)\n",
    "\n",
    "def outstanding_annual_rundown(in_arr):\n",
    "    return in_arr[::11]\n",
    "\n",
    "def aggregate_annual_sums(in_arr):\n",
    "    remainder = len(in_arr) % 11\n",
    "    if remainder != 0:\n",
    "        padding = np.zeros(11 - remainder)\n",
    "        subsections = np.concatenate([in_arr, padding])\n",
    "    else:\n",
    "        subsections = in_arr\n",
    "    subsections = np.split(subsections, len(subsections) // 11)\n",
    "    return (np.sum(subsections, axis=1))\n",
    "\n",
    "def aggregate_annual_averages(in_arr):\n",
    "    n_years = len(in_arr) // 11\n",
    "    arr_2d = in_arr[:n_years*11].reshape(n_years,11)\n",
    "    return np.nanmean(arr_2d, axis=1)\n",
    "\n",
    "def aggregate_annual_median(in_arr):\n",
    "    n_years = len(in_arr) // 11\n",
    "    arr_2d = in_arr[:n_years*11].reshape(n_years,11)\n",
    "    return np.nanmedian(arr_2d, axis=1)\n",
    "\n",
    "\n"
   ]
  },
  {
   "cell_type": "code",
   "execution_count": 12,
   "metadata": {},
   "outputs": [],
   "source": [
    "# This is where we start abstracting away from the Data --> you're now looking at Annual Cohorts grouped together\n",
    "df_pool['Year'] = df_pool.index.astype(int)\n",
    "# Filter out years without 12 months of history\n",
    "vals = df_pool['Year'].value_counts().to_dict()\n",
    "\n",
    "yr_range = []\n",
    "for k, v in vals.items():\n",
    "    if v == 12:\n",
    "        yr_range.append(k)\n",
    "\n",
    "df_pool = df_pool[df_pool['Year'].isin(yr_range)]\n",
    "\n",
    "# Switch to year group\n",
    "year_grouped = df_pool.groupby('Year')\n",
    "year_grouped = year_grouped.agg(np.nansum)\n"
   ]
  },
  {
   "cell_type": "code",
   "execution_count": 13,
   "metadata": {},
   "outputs": [],
   "source": [
    "year_grouped['outstanding'] = year_grouped['outstanding'].apply(outstanding_annual_rundown)\n",
    "year_grouped[['prepayments','defaults']] = year_grouped[['prepayments','defaults']].applymap(aggregate_annual_sums)\n",
    "year_grouped['cpr'] = (year_grouped['prepayments']+year_grouped['defaults'])/year_grouped['outstanding']\n",
    "# year_grouped['cpr'] = (1-(1-year_grouped['smm'])**12)\n",
    "def enforce_shape(in_df:pd.DataFrame)->pd.DataFrame:\n",
    "    data = in_df.copy(deep=True)\n",
    "    last_year = data.index.max()+1\n",
    "    for i in range(len(data)):\n",
    "        max_col = last_year - data.index[i]\n",
    "        data.iloc[i,(max_col):] = np.NaN\n",
    "    return data\n",
    "\n",
    "def generate_lifetime(cpr_df:pd.DataFrame)-> pd.DataFrame:\n",
    "    # get the cumulative sum of each row WHILE ignoring NaN values (otherwise the denominator is off)\n",
    "    cumulative_sum = np.nancumsum(cpr_df.values, axis=1)\n",
    "    # compute the number of non-NaN values in each row\n",
    "    num_non_nan = (~np.isnan(cpr_df.values)).cumsum(axis=1)\n",
    "    # get ROW-WISE average up until the first NaN value is encountered\n",
    "    row_avg = np.where(np.isnan(cpr_df), np.nan, cumulative_sum / num_non_nan)\n",
    "    # create new dataframe with row-wise averages\n",
    "    lifetime_df = pd.DataFrame(row_avg, columns=cpr_df.columns, index=cpr_df.index)\n",
    "    return lifetime_df\n",
    "\n",
    "cpr_heat = pd.DataFrame.from_dict(year_grouped['cpr'].to_dict(), orient='index')\n",
    "\n",
    "cpr_heat = enforce_shape(cpr_heat)\n",
    "lifetime_cprs = generate_lifetime(cpr_heat)\n",
    "totals = year_grouped[['outstanding']].to_dict()\n",
    "prepays = year_grouped[['prepayments']].to_dict()\n",
    "defaults = year_grouped[['defaults']].to_dict()\n",
    "totals = totals['outstanding']\n",
    "prepays = prepays['prepayments']\n",
    "defaults = defaults['defaults']\n",
    "totals = (pd.DataFrame.from_dict(totals, orient='index'))\n",
    "prepays = (pd.DataFrame.from_dict(prepays, orient='index'))\n",
    "defaults = (pd.DataFrame.from_dict(defaults, orient='index'))\n",
    "totals = enforce_shape(totals)\n",
    "prepays = enforce_shape(prepays)\n",
    "defaults = enforce_shape(defaults)\n",
    "triangles = [totals,prepays,defaults]\n",
    "totals = pd.concat(triangles,axis=0)\n",
    "min_max_median = pd.DataFrame.from_dict({'max': cpr_heat.max(axis=0), 'median': cpr_heat.median(axis=0), 'avg': cpr_heat.mean(axis=0),\\\n",
    "                                          'min': cpr_heat.min(axis=0)}).transpose()\n",
    "cpr_heat.to_csv('manual_outputs/cpr_heat.csv')\n",
    "lifetime_cprs.to_csv('manual_outputs/lifetime.csv')\n",
    "min_max_median.to_csv('manual_outputs/min_max_mids.csv')\n",
    "totals.to_csv('manual_outputs/totals.csv')"
   ]
  },
  {
   "attachments": {},
   "cell_type": "markdown",
   "metadata": {},
   "source": [
    "### 5. Create basic triangles"
   ]
  },
  {
   "attachments": {},
   "cell_type": "markdown",
   "metadata": {},
   "source": [
    "### 6. Get Line Plots (or just the data for line plots)"
   ]
  },
  {
   "cell_type": "code",
   "execution_count": 14,
   "metadata": {},
   "outputs": [
    {
     "data": {
      "text/html": [
       "<div>\n",
       "<style scoped>\n",
       "    .dataframe tbody tr th:only-of-type {\n",
       "        vertical-align: middle;\n",
       "    }\n",
       "\n",
       "    .dataframe tbody tr th {\n",
       "        vertical-align: top;\n",
       "    }\n",
       "\n",
       "    .dataframe thead th {\n",
       "        text-align: right;\n",
       "    }\n",
       "</style>\n",
       "<table border=\"1\" class=\"dataframe\">\n",
       "  <thead>\n",
       "    <tr style=\"text-align: right;\">\n",
       "      <th></th>\n",
       "      <th>0</th>\n",
       "      <th>1</th>\n",
       "      <th>2</th>\n",
       "      <th>3</th>\n",
       "      <th>4</th>\n",
       "      <th>5</th>\n",
       "      <th>6</th>\n",
       "      <th>7</th>\n",
       "      <th>8</th>\n",
       "      <th>9</th>\n",
       "      <th>...</th>\n",
       "      <th>14</th>\n",
       "      <th>15</th>\n",
       "      <th>16</th>\n",
       "      <th>17</th>\n",
       "      <th>18</th>\n",
       "      <th>19</th>\n",
       "      <th>20</th>\n",
       "      <th>21</th>\n",
       "      <th>22</th>\n",
       "      <th>23</th>\n",
       "    </tr>\n",
       "  </thead>\n",
       "  <tbody>\n",
       "    <tr>\n",
       "      <th>2000</th>\n",
       "      <td>0.031383</td>\n",
       "      <td>0.06565</td>\n",
       "      <td>0.085646</td>\n",
       "      <td>0.100157</td>\n",
       "      <td>0.109841</td>\n",
       "      <td>0.127114</td>\n",
       "      <td>0.142303</td>\n",
       "      <td>0.154425</td>\n",
       "      <td>0.154917</td>\n",
       "      <td>0.148302</td>\n",
       "      <td>...</td>\n",
       "      <td>0.126081</td>\n",
       "      <td>0.123756</td>\n",
       "      <td>0.122113</td>\n",
       "      <td>0.121002</td>\n",
       "      <td>0.12141</td>\n",
       "      <td>0.120512</td>\n",
       "      <td>0.120791</td>\n",
       "      <td>0.12159</td>\n",
       "      <td></td>\n",
       "      <td></td>\n",
       "    </tr>\n",
       "    <tr>\n",
       "      <th>2001</th>\n",
       "      <td>0.014441</td>\n",
       "      <td>0.036166</td>\n",
       "      <td>0.060657</td>\n",
       "      <td>0.086014</td>\n",
       "      <td>0.113035</td>\n",
       "      <td>0.139172</td>\n",
       "      <td>0.149081</td>\n",
       "      <td>0.152845</td>\n",
       "      <td>0.147066</td>\n",
       "      <td>0.138944</td>\n",
       "      <td>...</td>\n",
       "      <td>0.121076</td>\n",
       "      <td>0.119963</td>\n",
       "      <td>0.119003</td>\n",
       "      <td>0.11834</td>\n",
       "      <td>0.118549</td>\n",
       "      <td>0.118905</td>\n",
       "      <td>0.117856</td>\n",
       "      <td></td>\n",
       "      <td></td>\n",
       "      <td></td>\n",
       "    </tr>\n",
       "    <tr>\n",
       "      <th>2002</th>\n",
       "      <td>0.013593</td>\n",
       "      <td>0.03302</td>\n",
       "      <td>0.05819</td>\n",
       "      <td>0.113036</td>\n",
       "      <td>0.152175</td>\n",
       "      <td>0.177357</td>\n",
       "      <td>0.176413</td>\n",
       "      <td>0.165859</td>\n",
       "      <td>0.154659</td>\n",
       "      <td>0.145555</td>\n",
       "      <td>...</td>\n",
       "      <td>0.12886</td>\n",
       "      <td>0.127824</td>\n",
       "      <td>0.128326</td>\n",
       "      <td>0.127426</td>\n",
       "      <td>0.128587</td>\n",
       "      <td>0.130188</td>\n",
       "      <td></td>\n",
       "      <td></td>\n",
       "      <td></td>\n",
       "      <td></td>\n",
       "    </tr>\n",
       "    <tr>\n",
       "      <th>2003</th>\n",
       "      <td>0.013519</td>\n",
       "      <td>0.037698</td>\n",
       "      <td>0.089615</td>\n",
       "      <td>0.148098</td>\n",
       "      <td>0.172433</td>\n",
       "      <td>0.174343</td>\n",
       "      <td>0.161398</td>\n",
       "      <td>0.14986</td>\n",
       "      <td>0.142609</td>\n",
       "      <td>0.13663</td>\n",
       "      <td>...</td>\n",
       "      <td>0.125487</td>\n",
       "      <td>0.125533</td>\n",
       "      <td>0.125433</td>\n",
       "      <td>0.124888</td>\n",
       "      <td>0.12354</td>\n",
       "      <td></td>\n",
       "      <td></td>\n",
       "      <td></td>\n",
       "      <td></td>\n",
       "      <td></td>\n",
       "    </tr>\n",
       "    <tr>\n",
       "      <th>2004</th>\n",
       "      <td>0.018899</td>\n",
       "      <td>0.056655</td>\n",
       "      <td>0.11561</td>\n",
       "      <td>0.157537</td>\n",
       "      <td>0.159477</td>\n",
       "      <td>0.149164</td>\n",
       "      <td>0.140231</td>\n",
       "      <td>0.133087</td>\n",
       "      <td>0.128817</td>\n",
       "      <td>0.125719</td>\n",
       "      <td>...</td>\n",
       "      <td>0.121565</td>\n",
       "      <td>0.122181</td>\n",
       "      <td>0.123689</td>\n",
       "      <td>0.1226</td>\n",
       "      <td></td>\n",
       "      <td></td>\n",
       "      <td></td>\n",
       "      <td></td>\n",
       "      <td></td>\n",
       "      <td></td>\n",
       "    </tr>\n",
       "    <tr>\n",
       "      <th>2005</th>\n",
       "      <td>0.017275</td>\n",
       "      <td>0.062142</td>\n",
       "      <td>0.098433</td>\n",
       "      <td>0.112486</td>\n",
       "      <td>0.109722</td>\n",
       "      <td>0.103771</td>\n",
       "      <td>0.099043</td>\n",
       "      <td>0.096566</td>\n",
       "      <td>0.097581</td>\n",
       "      <td>0.096949</td>\n",
       "      <td>...</td>\n",
       "      <td>0.103179</td>\n",
       "      <td>0.105399</td>\n",
       "      <td>0.105846</td>\n",
       "      <td></td>\n",
       "      <td></td>\n",
       "      <td></td>\n",
       "      <td></td>\n",
       "      <td></td>\n",
       "      <td></td>\n",
       "      <td></td>\n",
       "    </tr>\n",
       "    <tr>\n",
       "      <th>2006</th>\n",
       "      <td>0.024050</td>\n",
       "      <td>0.057391</td>\n",
       "      <td>0.078811</td>\n",
       "      <td>0.086107</td>\n",
       "      <td>0.086653</td>\n",
       "      <td>0.088173</td>\n",
       "      <td>0.08839</td>\n",
       "      <td>0.089134</td>\n",
       "      <td>0.089004</td>\n",
       "      <td>0.088733</td>\n",
       "      <td>...</td>\n",
       "      <td>0.101677</td>\n",
       "      <td>0.102113</td>\n",
       "      <td></td>\n",
       "      <td></td>\n",
       "      <td></td>\n",
       "      <td></td>\n",
       "      <td></td>\n",
       "      <td></td>\n",
       "      <td></td>\n",
       "      <td></td>\n",
       "    </tr>\n",
       "    <tr>\n",
       "      <th>2007</th>\n",
       "      <td>0.017332</td>\n",
       "      <td>0.046769</td>\n",
       "      <td>0.061679</td>\n",
       "      <td>0.070744</td>\n",
       "      <td>0.074265</td>\n",
       "      <td>0.079647</td>\n",
       "      <td>0.08045</td>\n",
       "      <td>0.079612</td>\n",
       "      <td>0.081524</td>\n",
       "      <td>0.08261</td>\n",
       "      <td>...</td>\n",
       "      <td>0.094654</td>\n",
       "      <td></td>\n",
       "      <td></td>\n",
       "      <td></td>\n",
       "      <td></td>\n",
       "      <td></td>\n",
       "      <td></td>\n",
       "      <td></td>\n",
       "      <td></td>\n",
       "      <td></td>\n",
       "    </tr>\n",
       "    <tr>\n",
       "      <th>2008</th>\n",
       "      <td>0.016204</td>\n",
       "      <td>0.037244</td>\n",
       "      <td>0.046805</td>\n",
       "      <td>0.052568</td>\n",
       "      <td>0.058702</td>\n",
       "      <td>0.064332</td>\n",
       "      <td>0.069434</td>\n",
       "      <td>0.074199</td>\n",
       "      <td>0.077156</td>\n",
       "      <td>0.08078</td>\n",
       "      <td>...</td>\n",
       "      <td></td>\n",
       "      <td></td>\n",
       "      <td></td>\n",
       "      <td></td>\n",
       "      <td></td>\n",
       "      <td></td>\n",
       "      <td></td>\n",
       "      <td></td>\n",
       "      <td></td>\n",
       "      <td></td>\n",
       "    </tr>\n",
       "    <tr>\n",
       "      <th>2009</th>\n",
       "      <td>0.006869</td>\n",
       "      <td>0.015292</td>\n",
       "      <td>0.023578</td>\n",
       "      <td>0.043958</td>\n",
       "      <td>0.058025</td>\n",
       "      <td>0.066462</td>\n",
       "      <td>0.07367</td>\n",
       "      <td>0.08425</td>\n",
       "      <td>0.090135</td>\n",
       "      <td>0.098189</td>\n",
       "      <td>...</td>\n",
       "      <td></td>\n",
       "      <td></td>\n",
       "      <td></td>\n",
       "      <td></td>\n",
       "      <td></td>\n",
       "      <td></td>\n",
       "      <td></td>\n",
       "      <td></td>\n",
       "      <td></td>\n",
       "      <td></td>\n",
       "    </tr>\n",
       "    <tr>\n",
       "      <th>2010</th>\n",
       "      <td>0.005448</td>\n",
       "      <td>0.01368</td>\n",
       "      <td>0.028723</td>\n",
       "      <td>0.051296</td>\n",
       "      <td>0.067871</td>\n",
       "      <td>0.080437</td>\n",
       "      <td>0.090705</td>\n",
       "      <td>0.099265</td>\n",
       "      <td>0.106818</td>\n",
       "      <td>0.112803</td>\n",
       "      <td>...</td>\n",
       "      <td></td>\n",
       "      <td></td>\n",
       "      <td></td>\n",
       "      <td></td>\n",
       "      <td></td>\n",
       "      <td></td>\n",
       "      <td></td>\n",
       "      <td></td>\n",
       "      <td></td>\n",
       "      <td></td>\n",
       "    </tr>\n",
       "    <tr>\n",
       "      <th>2011</th>\n",
       "      <td>0.006173</td>\n",
       "      <td>0.015509</td>\n",
       "      <td>0.033621</td>\n",
       "      <td>0.057152</td>\n",
       "      <td>0.074525</td>\n",
       "      <td>0.087246</td>\n",
       "      <td>0.098193</td>\n",
       "      <td>0.109917</td>\n",
       "      <td>0.116937</td>\n",
       "      <td>0.118843</td>\n",
       "      <td>...</td>\n",
       "      <td></td>\n",
       "      <td></td>\n",
       "      <td></td>\n",
       "      <td></td>\n",
       "      <td></td>\n",
       "      <td></td>\n",
       "      <td></td>\n",
       "      <td></td>\n",
       "      <td></td>\n",
       "      <td></td>\n",
       "    </tr>\n",
       "    <tr>\n",
       "      <th>2012</th>\n",
       "      <td>0.007246</td>\n",
       "      <td>0.018651</td>\n",
       "      <td>0.034346</td>\n",
       "      <td>0.057861</td>\n",
       "      <td>0.074177</td>\n",
       "      <td>0.087188</td>\n",
       "      <td>0.099376</td>\n",
       "      <td>0.107046</td>\n",
       "      <td>0.111485</td>\n",
       "      <td>0.112789</td>\n",
       "      <td>...</td>\n",
       "      <td></td>\n",
       "      <td></td>\n",
       "      <td></td>\n",
       "      <td></td>\n",
       "      <td></td>\n",
       "      <td></td>\n",
       "      <td></td>\n",
       "      <td></td>\n",
       "      <td></td>\n",
       "      <td></td>\n",
       "    </tr>\n",
       "    <tr>\n",
       "      <th>2013</th>\n",
       "      <td>0.008613</td>\n",
       "      <td>0.01951</td>\n",
       "      <td>0.035905</td>\n",
       "      <td>0.059801</td>\n",
       "      <td>0.078028</td>\n",
       "      <td>0.091027</td>\n",
       "      <td>0.100429</td>\n",
       "      <td>0.104634</td>\n",
       "      <td>0.105899</td>\n",
       "      <td></td>\n",
       "      <td>...</td>\n",
       "      <td></td>\n",
       "      <td></td>\n",
       "      <td></td>\n",
       "      <td></td>\n",
       "      <td></td>\n",
       "      <td></td>\n",
       "      <td></td>\n",
       "      <td></td>\n",
       "      <td></td>\n",
       "      <td></td>\n",
       "    </tr>\n",
       "    <tr>\n",
       "      <th>2014</th>\n",
       "      <td>0.004941</td>\n",
       "      <td>0.017133</td>\n",
       "      <td>0.037956</td>\n",
       "      <td>0.06407</td>\n",
       "      <td>0.083982</td>\n",
       "      <td>0.098718</td>\n",
       "      <td>0.102838</td>\n",
       "      <td>0.103732</td>\n",
       "      <td></td>\n",
       "      <td></td>\n",
       "      <td>...</td>\n",
       "      <td></td>\n",
       "      <td></td>\n",
       "      <td></td>\n",
       "      <td></td>\n",
       "      <td></td>\n",
       "      <td></td>\n",
       "      <td></td>\n",
       "      <td></td>\n",
       "      <td></td>\n",
       "      <td></td>\n",
       "    </tr>\n",
       "    <tr>\n",
       "      <th>2015</th>\n",
       "      <td>0.007615</td>\n",
       "      <td>0.021525</td>\n",
       "      <td>0.042746</td>\n",
       "      <td>0.069333</td>\n",
       "      <td>0.089394</td>\n",
       "      <td>0.094746</td>\n",
       "      <td>0.094565</td>\n",
       "      <td></td>\n",
       "      <td></td>\n",
       "      <td></td>\n",
       "      <td>...</td>\n",
       "      <td></td>\n",
       "      <td></td>\n",
       "      <td></td>\n",
       "      <td></td>\n",
       "      <td></td>\n",
       "      <td></td>\n",
       "      <td></td>\n",
       "      <td></td>\n",
       "      <td></td>\n",
       "      <td></td>\n",
       "    </tr>\n",
       "    <tr>\n",
       "      <th>2016</th>\n",
       "      <td>0.007398</td>\n",
       "      <td>0.021481</td>\n",
       "      <td>0.045232</td>\n",
       "      <td>0.071431</td>\n",
       "      <td>0.07891</td>\n",
       "      <td>0.078614</td>\n",
       "      <td></td>\n",
       "      <td></td>\n",
       "      <td></td>\n",
       "      <td></td>\n",
       "      <td>...</td>\n",
       "      <td></td>\n",
       "      <td></td>\n",
       "      <td></td>\n",
       "      <td></td>\n",
       "      <td></td>\n",
       "      <td></td>\n",
       "      <td></td>\n",
       "      <td></td>\n",
       "      <td></td>\n",
       "      <td></td>\n",
       "    </tr>\n",
       "    <tr>\n",
       "      <th>2017</th>\n",
       "      <td>0.011098</td>\n",
       "      <td>0.028123</td>\n",
       "      <td>0.051828</td>\n",
       "      <td>0.0633</td>\n",
       "      <td>0.065464</td>\n",
       "      <td></td>\n",
       "      <td></td>\n",
       "      <td></td>\n",
       "      <td></td>\n",
       "      <td></td>\n",
       "      <td>...</td>\n",
       "      <td></td>\n",
       "      <td></td>\n",
       "      <td></td>\n",
       "      <td></td>\n",
       "      <td></td>\n",
       "      <td></td>\n",
       "      <td></td>\n",
       "      <td></td>\n",
       "      <td></td>\n",
       "      <td></td>\n",
       "    </tr>\n",
       "    <tr>\n",
       "      <th>2018</th>\n",
       "      <td>0.008521</td>\n",
       "      <td>0.023197</td>\n",
       "      <td>0.034339</td>\n",
       "      <td>0.035584</td>\n",
       "      <td></td>\n",
       "      <td></td>\n",
       "      <td></td>\n",
       "      <td></td>\n",
       "      <td></td>\n",
       "      <td></td>\n",
       "      <td>...</td>\n",
       "      <td></td>\n",
       "      <td></td>\n",
       "      <td></td>\n",
       "      <td></td>\n",
       "      <td></td>\n",
       "      <td></td>\n",
       "      <td></td>\n",
       "      <td></td>\n",
       "      <td></td>\n",
       "      <td></td>\n",
       "    </tr>\n",
       "    <tr>\n",
       "      <th>2019</th>\n",
       "      <td>0.007893</td>\n",
       "      <td>0.016918</td>\n",
       "      <td>0.016487</td>\n",
       "      <td></td>\n",
       "      <td></td>\n",
       "      <td></td>\n",
       "      <td></td>\n",
       "      <td></td>\n",
       "      <td></td>\n",
       "      <td></td>\n",
       "      <td>...</td>\n",
       "      <td></td>\n",
       "      <td></td>\n",
       "      <td></td>\n",
       "      <td></td>\n",
       "      <td></td>\n",
       "      <td></td>\n",
       "      <td></td>\n",
       "      <td></td>\n",
       "      <td></td>\n",
       "      <td></td>\n",
       "    </tr>\n",
       "    <tr>\n",
       "      <th>2020</th>\n",
       "      <td>0.006047</td>\n",
       "      <td>0.005283</td>\n",
       "      <td></td>\n",
       "      <td></td>\n",
       "      <td></td>\n",
       "      <td></td>\n",
       "      <td></td>\n",
       "      <td></td>\n",
       "      <td></td>\n",
       "      <td></td>\n",
       "      <td>...</td>\n",
       "      <td></td>\n",
       "      <td></td>\n",
       "      <td></td>\n",
       "      <td></td>\n",
       "      <td></td>\n",
       "      <td></td>\n",
       "      <td></td>\n",
       "      <td></td>\n",
       "      <td></td>\n",
       "      <td></td>\n",
       "    </tr>\n",
       "    <tr>\n",
       "      <th>2021</th>\n",
       "      <td>0.000177</td>\n",
       "      <td></td>\n",
       "      <td></td>\n",
       "      <td></td>\n",
       "      <td></td>\n",
       "      <td></td>\n",
       "      <td></td>\n",
       "      <td></td>\n",
       "      <td></td>\n",
       "      <td></td>\n",
       "      <td>...</td>\n",
       "      <td></td>\n",
       "      <td></td>\n",
       "      <td></td>\n",
       "      <td></td>\n",
       "      <td></td>\n",
       "      <td></td>\n",
       "      <td></td>\n",
       "      <td></td>\n",
       "      <td></td>\n",
       "      <td></td>\n",
       "    </tr>\n",
       "  </tbody>\n",
       "</table>\n",
       "<p>22 rows × 24 columns</p>\n",
       "</div>"
      ],
      "text/plain": [
       "            0         1         2         3         4         5         6   \\\n",
       "2000  0.031383   0.06565  0.085646  0.100157  0.109841  0.127114  0.142303   \n",
       "2001  0.014441  0.036166  0.060657  0.086014  0.113035  0.139172  0.149081   \n",
       "2002  0.013593   0.03302   0.05819  0.113036  0.152175  0.177357  0.176413   \n",
       "2003  0.013519  0.037698  0.089615  0.148098  0.172433  0.174343  0.161398   \n",
       "2004  0.018899  0.056655   0.11561  0.157537  0.159477  0.149164  0.140231   \n",
       "2005  0.017275  0.062142  0.098433  0.112486  0.109722  0.103771  0.099043   \n",
       "2006  0.024050  0.057391  0.078811  0.086107  0.086653  0.088173   0.08839   \n",
       "2007  0.017332  0.046769  0.061679  0.070744  0.074265  0.079647   0.08045   \n",
       "2008  0.016204  0.037244  0.046805  0.052568  0.058702  0.064332  0.069434   \n",
       "2009  0.006869  0.015292  0.023578  0.043958  0.058025  0.066462   0.07367   \n",
       "2010  0.005448   0.01368  0.028723  0.051296  0.067871  0.080437  0.090705   \n",
       "2011  0.006173  0.015509  0.033621  0.057152  0.074525  0.087246  0.098193   \n",
       "2012  0.007246  0.018651  0.034346  0.057861  0.074177  0.087188  0.099376   \n",
       "2013  0.008613   0.01951  0.035905  0.059801  0.078028  0.091027  0.100429   \n",
       "2014  0.004941  0.017133  0.037956   0.06407  0.083982  0.098718  0.102838   \n",
       "2015  0.007615  0.021525  0.042746  0.069333  0.089394  0.094746  0.094565   \n",
       "2016  0.007398  0.021481  0.045232  0.071431   0.07891  0.078614             \n",
       "2017  0.011098  0.028123  0.051828    0.0633  0.065464                       \n",
       "2018  0.008521  0.023197  0.034339  0.035584                                 \n",
       "2019  0.007893  0.016918  0.016487                                           \n",
       "2020  0.006047  0.005283                                                     \n",
       "2021  0.000177                                                               \n",
       "\n",
       "            7         8         9   ...        14        15        16  \\\n",
       "2000  0.154425  0.154917  0.148302  ...  0.126081  0.123756  0.122113   \n",
       "2001  0.152845  0.147066  0.138944  ...  0.121076  0.119963  0.119003   \n",
       "2002  0.165859  0.154659  0.145555  ...   0.12886  0.127824  0.128326   \n",
       "2003   0.14986  0.142609   0.13663  ...  0.125487  0.125533  0.125433   \n",
       "2004  0.133087  0.128817  0.125719  ...  0.121565  0.122181  0.123689   \n",
       "2005  0.096566  0.097581  0.096949  ...  0.103179  0.105399  0.105846   \n",
       "2006  0.089134  0.089004  0.088733  ...  0.101677  0.102113             \n",
       "2007  0.079612  0.081524   0.08261  ...  0.094654                       \n",
       "2008  0.074199  0.077156   0.08078  ...                                 \n",
       "2009   0.08425  0.090135  0.098189  ...                                 \n",
       "2010  0.099265  0.106818  0.112803  ...                                 \n",
       "2011  0.109917  0.116937  0.118843  ...                                 \n",
       "2012  0.107046  0.111485  0.112789  ...                                 \n",
       "2013  0.104634  0.105899            ...                                 \n",
       "2014  0.103732                      ...                                 \n",
       "2015                                ...                                 \n",
       "2016                                ...                                 \n",
       "2017                                ...                                 \n",
       "2018                                ...                                 \n",
       "2019                                ...                                 \n",
       "2020                                ...                                 \n",
       "2021                                ...                                 \n",
       "\n",
       "            17        18        19        20       21 22 23  \n",
       "2000  0.121002   0.12141  0.120512  0.120791  0.12159        \n",
       "2001   0.11834  0.118549  0.118905  0.117856                 \n",
       "2002  0.127426  0.128587  0.130188                           \n",
       "2003  0.124888   0.12354                                     \n",
       "2004    0.1226                                               \n",
       "2005                                                         \n",
       "2006                                                         \n",
       "2007                                                         \n",
       "2008                                                         \n",
       "2009                                                         \n",
       "2010                                                         \n",
       "2011                                                         \n",
       "2012                                                         \n",
       "2013                                                         \n",
       "2014                                                         \n",
       "2015                                                         \n",
       "2016                                                         \n",
       "2017                                                         \n",
       "2018                                                         \n",
       "2019                                                         \n",
       "2020                                                         \n",
       "2021                                                         \n",
       "\n",
       "[22 rows x 24 columns]"
      ]
     },
     "execution_count": 14,
     "metadata": {},
     "output_type": "execute_result"
    }
   ],
   "source": [
    "def generate_lifetime(cpr_df:pd.DataFrame)-> pd.DataFrame:\n",
    "    # get the cumulative sum of each row WHILE ignoring NaN values (otherwise the denominator is off)\n",
    "    cumulative_sum = np.nancumsum(cpr_df.values, axis=1)\n",
    "    # compute the number of non-NaN values in each row\n",
    "    num_non_nan = (~np.isnan(cpr_df.values)).cumsum(axis=1)\n",
    "    # get ROW-WISE average up until the first NaN value is encountered\n",
    "    row_avg = np.where(np.isnan(cpr_df), np.nan, cumulative_sum / num_non_nan)\n",
    "    # create new dataframe with row-wise averages\n",
    "    lifetime_df = pd.DataFrame(row_avg, columns=cpr_df.columns, index=cpr_df.index)\n",
    "    return lifetime_df\n",
    "\n",
    "lifetime_cprs = generate_lifetime(cpr_heat)\n",
    "\n",
    "lifetime_cprs.fillna('')\n"
   ]
  },
  {
   "cell_type": "code",
   "execution_count": 15,
   "metadata": {},
   "outputs": [
    {
     "data": {
      "application/vnd.plotly.v1+json": {
       "config": {
        "plotlyServerURL": "https://plot.ly"
       },
       "data": [
        {
         "hovertemplate": "variable=2000<br>index=%{x}<br>value=%{y}<extra></extra>",
         "legendgroup": "2000",
         "line": {
          "color": "#636efa",
          "dash": "solid",
          "shape": "spline"
         },
         "marker": {
          "symbol": "circle"
         },
         "mode": "lines+markers",
         "name": "2000",
         "orientation": "v",
         "showlegend": true,
         "type": "scatter",
         "x": [
          0,
          1,
          2,
          3,
          4,
          5,
          6,
          7,
          8,
          9,
          10,
          11,
          12,
          13,
          14,
          15,
          16,
          17,
          18,
          19,
          20,
          21,
          22,
          23
         ],
         "xaxis": "x",
         "y": [
          0.03138287102652359,
          0.0656496294931949,
          0.08564596757976424,
          0.10015745045241947,
          0.10984060056044673,
          0.12711367593759146,
          0.1423033519549765,
          0.15442479851951682,
          0.15491718036259583,
          0.14830176072104825,
          0.141131605365814,
          0.1350313657946836,
          0.13034234335463674,
          0.12776028657124103,
          0.12608054097076513,
          0.12375606271564786,
          0.1221126952224339,
          0.12100195996012997,
          0.1214100338994319,
          0.12051194599756376,
          0.12079107363451913,
          0.12158987846359616,
          null,
          null
         ],
         "yaxis": "y"
        },
        {
         "hovertemplate": "variable=2001<br>index=%{x}<br>value=%{y}<extra></extra>",
         "legendgroup": "2001",
         "line": {
          "color": "#EF553B",
          "dash": "solid",
          "shape": "spline"
         },
         "marker": {
          "symbol": "circle"
         },
         "mode": "lines+markers",
         "name": "2001",
         "orientation": "v",
         "showlegend": true,
         "type": "scatter",
         "x": [
          0,
          1,
          2,
          3,
          4,
          5,
          6,
          7,
          8,
          9,
          10,
          11,
          12,
          13,
          14,
          15,
          16,
          17,
          18,
          19,
          20,
          21,
          22,
          23
         ],
         "xaxis": "x",
         "y": [
          0.014441287878787878,
          0.036166115954767465,
          0.060656723912051326,
          0.08601373422842568,
          0.11303518423851636,
          0.13917185347359176,
          0.14908068209824352,
          0.15284498939480895,
          0.1470658308445172,
          0.13894360989998317,
          0.13292030215176684,
          0.12797979399541412,
          0.12632059879655586,
          0.12385641993191152,
          0.12107589188379145,
          0.11996303762556394,
          0.11900326088367405,
          0.11834010089882087,
          0.11854863023432405,
          0.11890535172807233,
          0.11785628736006888,
          null,
          null,
          null
         ],
         "yaxis": "y"
        },
        {
         "hovertemplate": "variable=2002<br>index=%{x}<br>value=%{y}<extra></extra>",
         "legendgroup": "2002",
         "line": {
          "color": "#00cc96",
          "dash": "solid",
          "shape": "spline"
         },
         "marker": {
          "symbol": "circle"
         },
         "mode": "lines+markers",
         "name": "2002",
         "orientation": "v",
         "showlegend": true,
         "type": "scatter",
         "x": [
          0,
          1,
          2,
          3,
          4,
          5,
          6,
          7,
          8,
          9,
          10,
          11,
          12,
          13,
          14,
          15,
          16,
          17,
          18,
          19,
          20,
          21,
          22,
          23
         ],
         "xaxis": "x",
         "y": [
          0.013593020896733617,
          0.03302028667214303,
          0.05819035680465421,
          0.11303648564585735,
          0.15217505976710716,
          0.17735699966777863,
          0.17641296762486594,
          0.16585923696711632,
          0.15465885086874612,
          0.14555479480771644,
          0.13878847395181323,
          0.13493705350344784,
          0.13298587926572863,
          0.1300538711185403,
          0.12886024855798964,
          0.12782402688276442,
          0.12832635685222749,
          0.12742645627449758,
          0.12858740784333844,
          0.13018834048147457,
          null,
          null,
          null,
          null
         ],
         "yaxis": "y"
        },
        {
         "hovertemplate": "variable=2003<br>index=%{x}<br>value=%{y}<extra></extra>",
         "legendgroup": "2003",
         "line": {
          "color": "#ab63fa",
          "dash": "solid",
          "shape": "spline"
         },
         "marker": {
          "symbol": "circle"
         },
         "mode": "lines+markers",
         "name": "2003",
         "orientation": "v",
         "showlegend": true,
         "type": "scatter",
         "x": [
          0,
          1,
          2,
          3,
          4,
          5,
          6,
          7,
          8,
          9,
          10,
          11,
          12,
          13,
          14,
          15,
          16,
          17,
          18,
          19,
          20,
          21,
          22,
          23
         ],
         "xaxis": "x",
         "y": [
          0.013519049569848422,
          0.03769806299090428,
          0.089614851496666,
          0.14809752720647315,
          0.17243339701872823,
          0.17434264566375499,
          0.16139804326367171,
          0.14985998919300844,
          0.14260854231362213,
          0.13663016410667142,
          0.1338877744903373,
          0.12955670108422765,
          0.12788030986970866,
          0.12690926732799476,
          0.12548677267328387,
          0.12553319364349871,
          0.12543285237741497,
          0.12488834344804871,
          0.1235401994638453,
          null,
          null,
          null,
          null,
          null
         ],
         "yaxis": "y"
        },
        {
         "hovertemplate": "variable=2004<br>index=%{x}<br>value=%{y}<extra></extra>",
         "legendgroup": "2004",
         "line": {
          "color": "#FFA15A",
          "dash": "solid",
          "shape": "spline"
         },
         "marker": {
          "symbol": "circle"
         },
         "mode": "lines+markers",
         "name": "2004",
         "orientation": "v",
         "showlegend": true,
         "type": "scatter",
         "x": [
          0,
          1,
          2,
          3,
          4,
          5,
          6,
          7,
          8,
          9,
          10,
          11,
          12,
          13,
          14,
          15,
          16,
          17,
          18,
          19,
          20,
          21,
          22,
          23
         ],
         "xaxis": "x",
         "y": [
          0.01889927310488058,
          0.056655394384785764,
          0.11561037512515404,
          0.15753730253935194,
          0.15947665054211985,
          0.14916360292579142,
          0.14023115487798785,
          0.13308663745562313,
          0.12881685030237644,
          0.12571858573517092,
          0.12279353670084774,
          0.12131264456329612,
          0.12140005495010693,
          0.12144955268622885,
          0.1215648363702816,
          0.12218078032070395,
          0.12368932776986971,
          0.12260001137449146,
          null,
          null,
          null,
          null,
          null,
          null
         ],
         "yaxis": "y"
        },
        {
         "hovertemplate": "variable=2005<br>index=%{x}<br>value=%{y}<extra></extra>",
         "legendgroup": "2005",
         "line": {
          "color": "#19d3f3",
          "dash": "solid",
          "shape": "spline"
         },
         "marker": {
          "symbol": "circle"
         },
         "mode": "lines+markers",
         "name": "2005",
         "orientation": "v",
         "showlegend": true,
         "type": "scatter",
         "x": [
          0,
          1,
          2,
          3,
          4,
          5,
          6,
          7,
          8,
          9,
          10,
          11,
          12,
          13,
          14,
          15,
          16,
          17,
          18,
          19,
          20,
          21,
          22,
          23
         ],
         "xaxis": "x",
         "y": [
          0.017274886633556467,
          0.06214216755320978,
          0.09843270487799287,
          0.11248585249346052,
          0.10972182806218415,
          0.10377091697040214,
          0.09904326088297825,
          0.09656552416441222,
          0.09758080461069134,
          0.0969486174976156,
          0.09775948123167716,
          0.09942341259949296,
          0.1016268027581917,
          0.10272306643854955,
          0.10317897887518275,
          0.10539919649861583,
          0.10584553864499213,
          null,
          null,
          null,
          null,
          null,
          null,
          null
         ],
         "yaxis": "y"
        },
        {
         "hovertemplate": "variable=2006<br>index=%{x}<br>value=%{y}<extra></extra>",
         "legendgroup": "2006",
         "line": {
          "color": "#FF6692",
          "dash": "solid",
          "shape": "spline"
         },
         "marker": {
          "symbol": "circle"
         },
         "mode": "lines+markers",
         "name": "2006",
         "orientation": "v",
         "showlegend": true,
         "type": "scatter",
         "x": [
          0,
          1,
          2,
          3,
          4,
          5,
          6,
          7,
          8,
          9,
          10,
          11,
          12,
          13,
          14,
          15,
          16,
          17,
          18,
          19,
          20,
          21,
          22,
          23
         ],
         "xaxis": "x",
         "y": [
          0.02405028696365127,
          0.05739058733508803,
          0.0788106430709436,
          0.08610657977866351,
          0.08665255942041508,
          0.08817250242181557,
          0.08838995300277756,
          0.08913366170761905,
          0.08900358406932393,
          0.08873266728675702,
          0.08944131369503164,
          0.09159586473799626,
          0.09530990334566627,
          0.09860306320770021,
          0.10167658448404962,
          0.10211340730730407,
          null,
          null,
          null,
          null,
          null,
          null,
          null,
          null
         ],
         "yaxis": "y"
        },
        {
         "hovertemplate": "variable=2007<br>index=%{x}<br>value=%{y}<extra></extra>",
         "legendgroup": "2007",
         "line": {
          "color": "#B6E880",
          "dash": "solid",
          "shape": "spline"
         },
         "marker": {
          "symbol": "circle"
         },
         "mode": "lines+markers",
         "name": "2007",
         "orientation": "v",
         "showlegend": true,
         "type": "scatter",
         "x": [
          0,
          1,
          2,
          3,
          4,
          5,
          6,
          7,
          8,
          9,
          10,
          11,
          12,
          13,
          14,
          15,
          16,
          17,
          18,
          19,
          20,
          21,
          22,
          23
         ],
         "xaxis": "x",
         "y": [
          0.017331589274035317,
          0.046768956034688204,
          0.06167882371572873,
          0.07074365386927077,
          0.07426525276574629,
          0.07964727347965196,
          0.08045011075065689,
          0.0796121359923705,
          0.08152359717368532,
          0.08260960134912355,
          0.08611892133666879,
          0.08859456972807961,
          0.09131806436438117,
          0.09352006824702974,
          0.09465427436042671,
          null,
          null,
          null,
          null,
          null,
          null,
          null,
          null,
          null
         ],
         "yaxis": "y"
        },
        {
         "hovertemplate": "variable=2008<br>index=%{x}<br>value=%{y}<extra></extra>",
         "legendgroup": "2008",
         "line": {
          "color": "#FF97FF",
          "dash": "solid",
          "shape": "spline"
         },
         "marker": {
          "symbol": "circle"
         },
         "mode": "lines+markers",
         "name": "2008",
         "orientation": "v",
         "showlegend": true,
         "type": "scatter",
         "x": [
          0,
          1,
          2,
          3,
          4,
          5,
          6,
          7,
          8,
          9,
          10,
          11,
          12,
          13,
          14,
          15,
          16,
          17,
          18,
          19,
          20,
          21,
          22,
          23
         ],
         "xaxis": "x",
         "y": [
          0.016204425054534122,
          0.03724380264446693,
          0.04680475956093736,
          0.05256845983995041,
          0.05870207720219649,
          0.06433224901984842,
          0.06943428962719708,
          0.07419864354789259,
          0.07715558581880397,
          0.08078023342249059,
          0.08473414454898721,
          0.08832303499286483,
          0.09221474912757163,
          0.09352064115910656,
          null,
          null,
          null,
          null,
          null,
          null,
          null,
          null,
          null,
          null
         ],
         "yaxis": "y"
        },
        {
         "hovertemplate": "variable=2009<br>index=%{x}<br>value=%{y}<extra></extra>",
         "legendgroup": "2009",
         "line": {
          "color": "#FECB52",
          "dash": "solid",
          "shape": "spline"
         },
         "marker": {
          "symbol": "circle"
         },
         "mode": "lines+markers",
         "name": "2009",
         "orientation": "v",
         "showlegend": true,
         "type": "scatter",
         "x": [
          0,
          1,
          2,
          3,
          4,
          5,
          6,
          7,
          8,
          9,
          10,
          11,
          12,
          13,
          14,
          15,
          16,
          17,
          18,
          19,
          20,
          21,
          22,
          23
         ],
         "xaxis": "x",
         "y": [
          0.0068694798822374874,
          0.015292447451000165,
          0.023577780981728403,
          0.04395750093840527,
          0.058025388024879755,
          0.06646239837254392,
          0.07366997330297652,
          0.08424995903447065,
          0.09013502233972878,
          0.09818901428729199,
          0.10525049432189398,
          0.10896543137282204,
          0.10879955809581231,
          null,
          null,
          null,
          null,
          null,
          null,
          null,
          null,
          null,
          null,
          null
         ],
         "yaxis": "y"
        },
        {
         "hovertemplate": "variable=2010<br>index=%{x}<br>value=%{y}<extra></extra>",
         "legendgroup": "2010",
         "line": {
          "color": "#636efa",
          "dash": "solid",
          "shape": "spline"
         },
         "marker": {
          "symbol": "circle"
         },
         "mode": "lines+markers",
         "name": "2010",
         "orientation": "v",
         "showlegend": true,
         "type": "scatter",
         "x": [
          0,
          1,
          2,
          3,
          4,
          5,
          6,
          7,
          8,
          9,
          10,
          11,
          12,
          13,
          14,
          15,
          16,
          17,
          18,
          19,
          20,
          21,
          22,
          23
         ],
         "xaxis": "x",
         "y": [
          0.005448241703813769,
          0.013680296150711667,
          0.028723048757636694,
          0.05129614104483017,
          0.06787142312140297,
          0.08043658782575543,
          0.09070534396417637,
          0.09926463690615432,
          0.1068182757787574,
          0.11280311486754832,
          0.11472021473314586,
          0.11482203258750932,
          null,
          null,
          null,
          null,
          null,
          null,
          null,
          null,
          null,
          null,
          null,
          null
         ],
         "yaxis": "y"
        },
        {
         "hovertemplate": "variable=2011<br>index=%{x}<br>value=%{y}<extra></extra>",
         "legendgroup": "2011",
         "line": {
          "color": "#EF553B",
          "dash": "solid",
          "shape": "spline"
         },
         "marker": {
          "symbol": "circle"
         },
         "mode": "lines+markers",
         "name": "2011",
         "orientation": "v",
         "showlegend": true,
         "type": "scatter",
         "x": [
          0,
          1,
          2,
          3,
          4,
          5,
          6,
          7,
          8,
          9,
          10,
          11,
          12,
          13,
          14,
          15,
          16,
          17,
          18,
          19,
          20,
          21,
          22,
          23
         ],
         "xaxis": "x",
         "y": [
          0.006172839506172839,
          0.015508780001533624,
          0.03362053962178529,
          0.057151650288948176,
          0.07452478530966422,
          0.08724630274856586,
          0.09819302672409662,
          0.10991667121209234,
          0.11693683282064707,
          0.11884314953858235,
          0.12087592718995702,
          null,
          null,
          null,
          null,
          null,
          null,
          null,
          null,
          null,
          null,
          null,
          null,
          null
         ],
         "yaxis": "y"
        },
        {
         "hovertemplate": "variable=2012<br>index=%{x}<br>value=%{y}<extra></extra>",
         "legendgroup": "2012",
         "line": {
          "color": "#00cc96",
          "dash": "solid",
          "shape": "spline"
         },
         "marker": {
          "symbol": "circle"
         },
         "mode": "lines+markers",
         "name": "2012",
         "orientation": "v",
         "showlegend": true,
         "type": "scatter",
         "x": [
          0,
          1,
          2,
          3,
          4,
          5,
          6,
          7,
          8,
          9,
          10,
          11,
          12,
          13,
          14,
          15,
          16,
          17,
          18,
          19,
          20,
          21,
          22,
          23
         ],
         "xaxis": "x",
         "y": [
          0.007246376811594203,
          0.018651097379605602,
          0.03434641551734663,
          0.05786120941104954,
          0.07417698057586328,
          0.08718791337733817,
          0.09937588657806333,
          0.1070462015212264,
          0.11148503559159084,
          0.112789362221111,
          null,
          null,
          null,
          null,
          null,
          null,
          null,
          null,
          null,
          null,
          null,
          null,
          null,
          null
         ],
         "yaxis": "y"
        },
        {
         "hovertemplate": "variable=2013<br>index=%{x}<br>value=%{y}<extra></extra>",
         "legendgroup": "2013",
         "line": {
          "color": "#ab63fa",
          "dash": "solid",
          "shape": "spline"
         },
         "marker": {
          "symbol": "circle"
         },
         "mode": "lines+markers",
         "name": "2013",
         "orientation": "v",
         "showlegend": true,
         "type": "scatter",
         "x": [
          0,
          1,
          2,
          3,
          4,
          5,
          6,
          7,
          8,
          9,
          10,
          11,
          12,
          13,
          14,
          15,
          16,
          17,
          18,
          19,
          20,
          21,
          22,
          23
         ],
         "xaxis": "x",
         "y": [
          0.008612955320294276,
          0.0195100975696494,
          0.03590512011456808,
          0.05980115918795052,
          0.07802786480708786,
          0.09102666363714691,
          0.1004291117349918,
          0.10463444908591768,
          0.10589866042357511,
          null,
          null,
          null,
          null,
          null,
          null,
          null,
          null,
          null,
          null,
          null,
          null,
          null,
          null,
          null
         ],
         "yaxis": "y"
        },
        {
         "hovertemplate": "variable=2014<br>index=%{x}<br>value=%{y}<extra></extra>",
         "legendgroup": "2014",
         "line": {
          "color": "#FFA15A",
          "dash": "solid",
          "shape": "spline"
         },
         "marker": {
          "symbol": "circle"
         },
         "mode": "lines+markers",
         "name": "2014",
         "orientation": "v",
         "showlegend": true,
         "type": "scatter",
         "x": [
          0,
          1,
          2,
          3,
          4,
          5,
          6,
          7,
          8,
          9,
          10,
          11,
          12,
          13,
          14,
          15,
          16,
          17,
          18,
          19,
          20,
          21,
          22,
          23
         ],
         "xaxis": "x",
         "y": [
          0.0049405589007256445,
          0.01713280854268245,
          0.03795639921600825,
          0.06406993921749421,
          0.08398175129299092,
          0.09871764181599123,
          0.10283797535577814,
          0.10373239007279146,
          null,
          null,
          null,
          null,
          null,
          null,
          null,
          null,
          null,
          null,
          null,
          null,
          null,
          null,
          null,
          null
         ],
         "yaxis": "y"
        },
        {
         "hovertemplate": "variable=2015<br>index=%{x}<br>value=%{y}<extra></extra>",
         "legendgroup": "2015",
         "line": {
          "color": "#19d3f3",
          "dash": "solid",
          "shape": "spline"
         },
         "marker": {
          "symbol": "circle"
         },
         "mode": "lines+markers",
         "name": "2015",
         "orientation": "v",
         "showlegend": true,
         "type": "scatter",
         "x": [
          0,
          1,
          2,
          3,
          4,
          5,
          6,
          7,
          8,
          9,
          10,
          11,
          12,
          13,
          14,
          15,
          16,
          17,
          18,
          19,
          20,
          21,
          22,
          23
         ],
         "xaxis": "x",
         "y": [
          0.007614564585352346,
          0.0215249162212476,
          0.04274643436059261,
          0.06933255304317174,
          0.08939395027548871,
          0.09474557391309746,
          0.09456468739891288,
          null,
          null,
          null,
          null,
          null,
          null,
          null,
          null,
          null,
          null,
          null,
          null,
          null,
          null,
          null,
          null,
          null
         ],
         "yaxis": "y"
        },
        {
         "hovertemplate": "variable=2016<br>index=%{x}<br>value=%{y}<extra></extra>",
         "legendgroup": "2016",
         "line": {
          "color": "#FF6692",
          "dash": "solid",
          "shape": "spline"
         },
         "marker": {
          "symbol": "circle"
         },
         "mode": "lines+markers",
         "name": "2016",
         "orientation": "v",
         "showlegend": true,
         "type": "scatter",
         "x": [
          0,
          1,
          2,
          3,
          4,
          5,
          6,
          7,
          8,
          9,
          10,
          11,
          12,
          13,
          14,
          15,
          16,
          17,
          18,
          19,
          20,
          21,
          22,
          23
         ],
         "xaxis": "x",
         "y": [
          0.007397793640493186,
          0.021481323598489272,
          0.045231945305717364,
          0.07143143058717805,
          0.07891026401967212,
          0.07861447496477246,
          null,
          null,
          null,
          null,
          null,
          null,
          null,
          null,
          null,
          null,
          null,
          null,
          null,
          null,
          null,
          null,
          null,
          null
         ],
         "yaxis": "y"
        },
        {
         "hovertemplate": "variable=2017<br>index=%{x}<br>value=%{y}<extra></extra>",
         "legendgroup": "2017",
         "line": {
          "color": "#B6E880",
          "dash": "solid",
          "shape": "spline"
         },
         "marker": {
          "symbol": "circle"
         },
         "mode": "lines+markers",
         "name": "2017",
         "orientation": "v",
         "showlegend": true,
         "type": "scatter",
         "x": [
          0,
          1,
          2,
          3,
          4,
          5,
          6,
          7,
          8,
          9,
          10,
          11,
          12,
          13,
          14,
          15,
          16,
          17,
          18,
          19,
          20,
          21,
          22,
          23
         ],
         "xaxis": "x",
         "y": [
          0.011098499180224493,
          0.02812290091009694,
          0.05182816073317268,
          0.06330024273256041,
          0.06546353025835729,
          null,
          null,
          null,
          null,
          null,
          null,
          null,
          null,
          null,
          null,
          null,
          null,
          null,
          null,
          null,
          null,
          null,
          null,
          null
         ],
         "yaxis": "y"
        },
        {
         "hovertemplate": "variable=2018<br>index=%{x}<br>value=%{y}<extra></extra>",
         "legendgroup": "2018",
         "line": {
          "color": "#FF97FF",
          "dash": "solid",
          "shape": "spline"
         },
         "marker": {
          "symbol": "circle"
         },
         "mode": "lines+markers",
         "name": "2018",
         "orientation": "v",
         "showlegend": true,
         "type": "scatter",
         "x": [
          0,
          1,
          2,
          3,
          4,
          5,
          6,
          7,
          8,
          9,
          10,
          11,
          12,
          13,
          14,
          15,
          16,
          17,
          18,
          19,
          20,
          21,
          22,
          23
         ],
         "xaxis": "x",
         "y": [
          0.0085210860774119,
          0.023197178144314108,
          0.03433937538664594,
          0.03558441438382975,
          null,
          null,
          null,
          null,
          null,
          null,
          null,
          null,
          null,
          null,
          null,
          null,
          null,
          null,
          null,
          null,
          null,
          null,
          null,
          null
         ],
         "yaxis": "y"
        },
        {
         "hovertemplate": "variable=2019<br>index=%{x}<br>value=%{y}<extra></extra>",
         "legendgroup": "2019",
         "line": {
          "color": "#FECB52",
          "dash": "solid",
          "shape": "spline"
         },
         "marker": {
          "symbol": "circle"
         },
         "mode": "lines+markers",
         "name": "2019",
         "orientation": "v",
         "showlegend": true,
         "type": "scatter",
         "x": [
          0,
          1,
          2,
          3,
          4,
          5,
          6,
          7,
          8,
          9,
          10,
          11,
          12,
          13,
          14,
          15,
          16,
          17,
          18,
          19,
          20,
          21,
          22,
          23
         ],
         "xaxis": "x",
         "y": [
          0.007892930679478381,
          0.016917755550738843,
          0.016486837033825894,
          null,
          null,
          null,
          null,
          null,
          null,
          null,
          null,
          null,
          null,
          null,
          null,
          null,
          null,
          null,
          null,
          null,
          null,
          null,
          null,
          null
         ],
         "yaxis": "y"
        },
        {
         "hovertemplate": "variable=2020<br>index=%{x}<br>value=%{y}<extra></extra>",
         "legendgroup": "2020",
         "line": {
          "color": "#636efa",
          "dash": "solid",
          "shape": "spline"
         },
         "marker": {
          "symbol": "circle"
         },
         "mode": "lines+markers",
         "name": "2020",
         "orientation": "v",
         "showlegend": true,
         "type": "scatter",
         "x": [
          0,
          1,
          2,
          3,
          4,
          5,
          6,
          7,
          8,
          9,
          10,
          11,
          12,
          13,
          14,
          15,
          16,
          17,
          18,
          19,
          20,
          21,
          22,
          23
         ],
         "xaxis": "x",
         "y": [
          0.006046993780234969,
          0.005283187486328157,
          null,
          null,
          null,
          null,
          null,
          null,
          null,
          null,
          null,
          null,
          null,
          null,
          null,
          null,
          null,
          null,
          null,
          null,
          null,
          null,
          null,
          null
         ],
         "yaxis": "y"
        },
        {
         "hovertemplate": "variable=2021<br>index=%{x}<br>value=%{y}<extra></extra>",
         "legendgroup": "2021",
         "line": {
          "color": "#EF553B",
          "dash": "solid",
          "shape": "spline"
         },
         "marker": {
          "symbol": "circle"
         },
         "mode": "lines+markers",
         "name": "2021",
         "orientation": "v",
         "showlegend": true,
         "type": "scatter",
         "x": [
          0,
          1,
          2,
          3,
          4,
          5,
          6,
          7,
          8,
          9,
          10,
          11,
          12,
          13,
          14,
          15,
          16,
          17,
          18,
          19,
          20,
          21,
          22,
          23
         ],
         "xaxis": "x",
         "y": [
          0.00017675651789659743,
          null,
          null,
          null,
          null,
          null,
          null,
          null,
          null,
          null,
          null,
          null,
          null,
          null,
          null,
          null,
          null,
          null,
          null,
          null,
          null,
          null,
          null,
          null
         ],
         "yaxis": "y"
        }
       ],
       "layout": {
        "legend": {
         "title": {
          "text": "variable"
         },
         "tracegroupgap": 0
        },
        "template": {
         "data": {
          "bar": [
           {
            "error_x": {
             "color": "#2a3f5f"
            },
            "error_y": {
             "color": "#2a3f5f"
            },
            "marker": {
             "line": {
              "color": "#E5ECF6",
              "width": 0.5
             },
             "pattern": {
              "fillmode": "overlay",
              "size": 10,
              "solidity": 0.2
             }
            },
            "type": "bar"
           }
          ],
          "barpolar": [
           {
            "marker": {
             "line": {
              "color": "#E5ECF6",
              "width": 0.5
             },
             "pattern": {
              "fillmode": "overlay",
              "size": 10,
              "solidity": 0.2
             }
            },
            "type": "barpolar"
           }
          ],
          "carpet": [
           {
            "aaxis": {
             "endlinecolor": "#2a3f5f",
             "gridcolor": "white",
             "linecolor": "white",
             "minorgridcolor": "white",
             "startlinecolor": "#2a3f5f"
            },
            "baxis": {
             "endlinecolor": "#2a3f5f",
             "gridcolor": "white",
             "linecolor": "white",
             "minorgridcolor": "white",
             "startlinecolor": "#2a3f5f"
            },
            "type": "carpet"
           }
          ],
          "choropleth": [
           {
            "colorbar": {
             "outlinewidth": 0,
             "ticks": ""
            },
            "type": "choropleth"
           }
          ],
          "contour": [
           {
            "colorbar": {
             "outlinewidth": 0,
             "ticks": ""
            },
            "colorscale": [
             [
              0,
              "#0d0887"
             ],
             [
              0.1111111111111111,
              "#46039f"
             ],
             [
              0.2222222222222222,
              "#7201a8"
             ],
             [
              0.3333333333333333,
              "#9c179e"
             ],
             [
              0.4444444444444444,
              "#bd3786"
             ],
             [
              0.5555555555555556,
              "#d8576b"
             ],
             [
              0.6666666666666666,
              "#ed7953"
             ],
             [
              0.7777777777777778,
              "#fb9f3a"
             ],
             [
              0.8888888888888888,
              "#fdca26"
             ],
             [
              1,
              "#f0f921"
             ]
            ],
            "type": "contour"
           }
          ],
          "contourcarpet": [
           {
            "colorbar": {
             "outlinewidth": 0,
             "ticks": ""
            },
            "type": "contourcarpet"
           }
          ],
          "heatmap": [
           {
            "colorbar": {
             "outlinewidth": 0,
             "ticks": ""
            },
            "colorscale": [
             [
              0,
              "#0d0887"
             ],
             [
              0.1111111111111111,
              "#46039f"
             ],
             [
              0.2222222222222222,
              "#7201a8"
             ],
             [
              0.3333333333333333,
              "#9c179e"
             ],
             [
              0.4444444444444444,
              "#bd3786"
             ],
             [
              0.5555555555555556,
              "#d8576b"
             ],
             [
              0.6666666666666666,
              "#ed7953"
             ],
             [
              0.7777777777777778,
              "#fb9f3a"
             ],
             [
              0.8888888888888888,
              "#fdca26"
             ],
             [
              1,
              "#f0f921"
             ]
            ],
            "type": "heatmap"
           }
          ],
          "heatmapgl": [
           {
            "colorbar": {
             "outlinewidth": 0,
             "ticks": ""
            },
            "colorscale": [
             [
              0,
              "#0d0887"
             ],
             [
              0.1111111111111111,
              "#46039f"
             ],
             [
              0.2222222222222222,
              "#7201a8"
             ],
             [
              0.3333333333333333,
              "#9c179e"
             ],
             [
              0.4444444444444444,
              "#bd3786"
             ],
             [
              0.5555555555555556,
              "#d8576b"
             ],
             [
              0.6666666666666666,
              "#ed7953"
             ],
             [
              0.7777777777777778,
              "#fb9f3a"
             ],
             [
              0.8888888888888888,
              "#fdca26"
             ],
             [
              1,
              "#f0f921"
             ]
            ],
            "type": "heatmapgl"
           }
          ],
          "histogram": [
           {
            "marker": {
             "pattern": {
              "fillmode": "overlay",
              "size": 10,
              "solidity": 0.2
             }
            },
            "type": "histogram"
           }
          ],
          "histogram2d": [
           {
            "colorbar": {
             "outlinewidth": 0,
             "ticks": ""
            },
            "colorscale": [
             [
              0,
              "#0d0887"
             ],
             [
              0.1111111111111111,
              "#46039f"
             ],
             [
              0.2222222222222222,
              "#7201a8"
             ],
             [
              0.3333333333333333,
              "#9c179e"
             ],
             [
              0.4444444444444444,
              "#bd3786"
             ],
             [
              0.5555555555555556,
              "#d8576b"
             ],
             [
              0.6666666666666666,
              "#ed7953"
             ],
             [
              0.7777777777777778,
              "#fb9f3a"
             ],
             [
              0.8888888888888888,
              "#fdca26"
             ],
             [
              1,
              "#f0f921"
             ]
            ],
            "type": "histogram2d"
           }
          ],
          "histogram2dcontour": [
           {
            "colorbar": {
             "outlinewidth": 0,
             "ticks": ""
            },
            "colorscale": [
             [
              0,
              "#0d0887"
             ],
             [
              0.1111111111111111,
              "#46039f"
             ],
             [
              0.2222222222222222,
              "#7201a8"
             ],
             [
              0.3333333333333333,
              "#9c179e"
             ],
             [
              0.4444444444444444,
              "#bd3786"
             ],
             [
              0.5555555555555556,
              "#d8576b"
             ],
             [
              0.6666666666666666,
              "#ed7953"
             ],
             [
              0.7777777777777778,
              "#fb9f3a"
             ],
             [
              0.8888888888888888,
              "#fdca26"
             ],
             [
              1,
              "#f0f921"
             ]
            ],
            "type": "histogram2dcontour"
           }
          ],
          "mesh3d": [
           {
            "colorbar": {
             "outlinewidth": 0,
             "ticks": ""
            },
            "type": "mesh3d"
           }
          ],
          "parcoords": [
           {
            "line": {
             "colorbar": {
              "outlinewidth": 0,
              "ticks": ""
             }
            },
            "type": "parcoords"
           }
          ],
          "pie": [
           {
            "automargin": true,
            "type": "pie"
           }
          ],
          "scatter": [
           {
            "fillpattern": {
             "fillmode": "overlay",
             "size": 10,
             "solidity": 0.2
            },
            "type": "scatter"
           }
          ],
          "scatter3d": [
           {
            "line": {
             "colorbar": {
              "outlinewidth": 0,
              "ticks": ""
             }
            },
            "marker": {
             "colorbar": {
              "outlinewidth": 0,
              "ticks": ""
             }
            },
            "type": "scatter3d"
           }
          ],
          "scattercarpet": [
           {
            "marker": {
             "colorbar": {
              "outlinewidth": 0,
              "ticks": ""
             }
            },
            "type": "scattercarpet"
           }
          ],
          "scattergeo": [
           {
            "marker": {
             "colorbar": {
              "outlinewidth": 0,
              "ticks": ""
             }
            },
            "type": "scattergeo"
           }
          ],
          "scattergl": [
           {
            "marker": {
             "colorbar": {
              "outlinewidth": 0,
              "ticks": ""
             }
            },
            "type": "scattergl"
           }
          ],
          "scattermapbox": [
           {
            "marker": {
             "colorbar": {
              "outlinewidth": 0,
              "ticks": ""
             }
            },
            "type": "scattermapbox"
           }
          ],
          "scatterpolar": [
           {
            "marker": {
             "colorbar": {
              "outlinewidth": 0,
              "ticks": ""
             }
            },
            "type": "scatterpolar"
           }
          ],
          "scatterpolargl": [
           {
            "marker": {
             "colorbar": {
              "outlinewidth": 0,
              "ticks": ""
             }
            },
            "type": "scatterpolargl"
           }
          ],
          "scatterternary": [
           {
            "marker": {
             "colorbar": {
              "outlinewidth": 0,
              "ticks": ""
             }
            },
            "type": "scatterternary"
           }
          ],
          "surface": [
           {
            "colorbar": {
             "outlinewidth": 0,
             "ticks": ""
            },
            "colorscale": [
             [
              0,
              "#0d0887"
             ],
             [
              0.1111111111111111,
              "#46039f"
             ],
             [
              0.2222222222222222,
              "#7201a8"
             ],
             [
              0.3333333333333333,
              "#9c179e"
             ],
             [
              0.4444444444444444,
              "#bd3786"
             ],
             [
              0.5555555555555556,
              "#d8576b"
             ],
             [
              0.6666666666666666,
              "#ed7953"
             ],
             [
              0.7777777777777778,
              "#fb9f3a"
             ],
             [
              0.8888888888888888,
              "#fdca26"
             ],
             [
              1,
              "#f0f921"
             ]
            ],
            "type": "surface"
           }
          ],
          "table": [
           {
            "cells": {
             "fill": {
              "color": "#EBF0F8"
             },
             "line": {
              "color": "white"
             }
            },
            "header": {
             "fill": {
              "color": "#C8D4E3"
             },
             "line": {
              "color": "white"
             }
            },
            "type": "table"
           }
          ]
         },
         "layout": {
          "annotationdefaults": {
           "arrowcolor": "#2a3f5f",
           "arrowhead": 0,
           "arrowwidth": 1
          },
          "autotypenumbers": "strict",
          "coloraxis": {
           "colorbar": {
            "outlinewidth": 0,
            "ticks": ""
           }
          },
          "colorscale": {
           "diverging": [
            [
             0,
             "#8e0152"
            ],
            [
             0.1,
             "#c51b7d"
            ],
            [
             0.2,
             "#de77ae"
            ],
            [
             0.3,
             "#f1b6da"
            ],
            [
             0.4,
             "#fde0ef"
            ],
            [
             0.5,
             "#f7f7f7"
            ],
            [
             0.6,
             "#e6f5d0"
            ],
            [
             0.7,
             "#b8e186"
            ],
            [
             0.8,
             "#7fbc41"
            ],
            [
             0.9,
             "#4d9221"
            ],
            [
             1,
             "#276419"
            ]
           ],
           "sequential": [
            [
             0,
             "#0d0887"
            ],
            [
             0.1111111111111111,
             "#46039f"
            ],
            [
             0.2222222222222222,
             "#7201a8"
            ],
            [
             0.3333333333333333,
             "#9c179e"
            ],
            [
             0.4444444444444444,
             "#bd3786"
            ],
            [
             0.5555555555555556,
             "#d8576b"
            ],
            [
             0.6666666666666666,
             "#ed7953"
            ],
            [
             0.7777777777777778,
             "#fb9f3a"
            ],
            [
             0.8888888888888888,
             "#fdca26"
            ],
            [
             1,
             "#f0f921"
            ]
           ],
           "sequentialminus": [
            [
             0,
             "#0d0887"
            ],
            [
             0.1111111111111111,
             "#46039f"
            ],
            [
             0.2222222222222222,
             "#7201a8"
            ],
            [
             0.3333333333333333,
             "#9c179e"
            ],
            [
             0.4444444444444444,
             "#bd3786"
            ],
            [
             0.5555555555555556,
             "#d8576b"
            ],
            [
             0.6666666666666666,
             "#ed7953"
            ],
            [
             0.7777777777777778,
             "#fb9f3a"
            ],
            [
             0.8888888888888888,
             "#fdca26"
            ],
            [
             1,
             "#f0f921"
            ]
           ]
          },
          "colorway": [
           "#636efa",
           "#EF553B",
           "#00cc96",
           "#ab63fa",
           "#FFA15A",
           "#19d3f3",
           "#FF6692",
           "#B6E880",
           "#FF97FF",
           "#FECB52"
          ],
          "font": {
           "color": "#2a3f5f"
          },
          "geo": {
           "bgcolor": "white",
           "lakecolor": "white",
           "landcolor": "#E5ECF6",
           "showlakes": true,
           "showland": true,
           "subunitcolor": "white"
          },
          "hoverlabel": {
           "align": "left"
          },
          "hovermode": "closest",
          "mapbox": {
           "style": "light"
          },
          "paper_bgcolor": "white",
          "plot_bgcolor": "#E5ECF6",
          "polar": {
           "angularaxis": {
            "gridcolor": "white",
            "linecolor": "white",
            "ticks": ""
           },
           "bgcolor": "#E5ECF6",
           "radialaxis": {
            "gridcolor": "white",
            "linecolor": "white",
            "ticks": ""
           }
          },
          "scene": {
           "xaxis": {
            "backgroundcolor": "#E5ECF6",
            "gridcolor": "white",
            "gridwidth": 2,
            "linecolor": "white",
            "showbackground": true,
            "ticks": "",
            "zerolinecolor": "white"
           },
           "yaxis": {
            "backgroundcolor": "#E5ECF6",
            "gridcolor": "white",
            "gridwidth": 2,
            "linecolor": "white",
            "showbackground": true,
            "ticks": "",
            "zerolinecolor": "white"
           },
           "zaxis": {
            "backgroundcolor": "#E5ECF6",
            "gridcolor": "white",
            "gridwidth": 2,
            "linecolor": "white",
            "showbackground": true,
            "ticks": "",
            "zerolinecolor": "white"
           }
          },
          "shapedefaults": {
           "line": {
            "color": "#2a3f5f"
           }
          },
          "ternary": {
           "aaxis": {
            "gridcolor": "white",
            "linecolor": "white",
            "ticks": ""
           },
           "baxis": {
            "gridcolor": "white",
            "linecolor": "white",
            "ticks": ""
           },
           "bgcolor": "#E5ECF6",
           "caxis": {
            "gridcolor": "white",
            "linecolor": "white",
            "ticks": ""
           }
          },
          "title": {
           "x": 0.05
          },
          "xaxis": {
           "automargin": true,
           "gridcolor": "white",
           "linecolor": "white",
           "ticks": "",
           "title": {
            "standoff": 15
           },
           "zerolinecolor": "white",
           "zerolinewidth": 2
          },
          "yaxis": {
           "automargin": true,
           "gridcolor": "white",
           "linecolor": "white",
           "ticks": "",
           "title": {
            "standoff": 15
           },
           "zerolinecolor": "white",
           "zerolinewidth": 2
          }
         }
        },
        "title": {
         "text": "Lifetime Average CPR by Year from Origination"
        },
        "xaxis": {
         "anchor": "y",
         "domain": [
          0,
          1
         ],
         "title": {
          "text": "Year from Origination"
         }
        },
        "yaxis": {
         "anchor": "x",
         "domain": [
          0,
          1
         ],
         "tickformat": "0.0%",
         "title": {
          "text": "CPR"
         }
        }
       }
      }
     },
     "metadata": {},
     "output_type": "display_data"
    }
   ],
   "source": [
    "import plotly.express as px\n",
    "\n",
    "fig = px.line(lifetime_cprs.transpose(), line_shape= 'spline', title=\"Lifetime Average CPR by Year from Origination\", markers=True)\n",
    "fig.update_layout(yaxis_title='CPR', xaxis_title= 'Year from Origination', yaxis=dict(tickformat='0.0%'))"
   ]
  },
  {
   "cell_type": "code",
   "execution_count": 43,
   "metadata": {},
   "outputs": [],
   "source": [
    "cprs = pd.read_csv('CPR_assembly_outputs/21+/baseline/cpr_heat.csv')\n",
    "b_curve = pd.read_csv('CPR_assembly_outputs/21+/baseline/min_max_mids.csv')\n",
    "\n",
    "b_curve = b_curve.iloc[1,:].values[1:]\n",
    "\n",
    "s_curve = cprs[cprs.columns[1:]].std(axis=0)\n",
    "\n",
    "temp = pd.DataFrame(dict(median= b_curve, std=s_curve))\n",
    "temp['median'] = temp['median'].fillna(temp['median'].mean())\n",
    "temp['std'] = temp['std'].fillna(temp['std'].mean())"
   ]
  },
  {
   "cell_type": "code",
   "execution_count": 50,
   "metadata": {},
   "outputs": [],
   "source": [
    "import matplotlib.pyplot as plt\n",
    "from scipy.stats import truncnorm\n",
    "\n",
    "b_curve = temp['median'].values\n",
    "s_curve = temp['std'].values\n",
    "\n"
   ]
  },
  {
   "cell_type": "code",
   "execution_count": 54,
   "metadata": {},
   "outputs": [
    {
     "data": {
      "image/png": "[encoded data removed]",
      "text/plain": [
       "<Figure size 640x480 with 1 Axes>"
      ]
     },
     "metadata": {},
     "output_type": "display_data"
    }
   ],
   "source": [
    "\n",
    "num_iterations = 1000\n",
    "\n",
    "simulated_cpr_rates_all = np.zeros((num_iterations, b_curve.shape[0]))\n",
    "\n",
    "for i in range(num_iterations):\n",
    "    lower, upper = 0, np.inf\n",
    "    mu, sigma = 0, s_curve\n",
    "    X = truncnorm((lower - mu) / sigma, (upper - mu) / sigma, loc=mu, scale=sigma)\n",
    "    random_numbers = X.rvs(size=b_curve.shape[0])\n",
    "\n",
    "    sim_cprs = b_curve * (1-np.exp(-random_numbers))\n",
    "    simulated_cpr_rates_all[i,:] = sim_cprs\n",
    "\n",
    "\n",
    "# Calculate the median and average of the simulated CPR rates across all iterations\n",
    "median_cpr_rates = np.median(simulated_cpr_rates_all, axis=0)\n",
    "average_cpr_rates = np.mean(simulated_cpr_rates_all, axis=0)\n",
    "\n",
    "\n",
    "plt.plot(np.arange(1, 21), simulated_cpr_rates_all[:,:20].T, alpha=0.2)\n",
    "# Add a legend and axis labels\n",
    "# Add a line plot of the median and average CPR rates\n",
    "plt.plot(np.arange(1, 21), median_cpr_rates[:20], label='Median', lw=2, color='black')\n",
    "plt.plot(np.arange(1, 21), average_cpr_rates[:20], label='Average', lw=2, color='red')\n",
    "\n",
    "plt.xlabel('Year')\n",
    "plt.ylabel('CPR Rate')\n",
    "\n",
    "plt.show()"
   ]
  },
  {
   "cell_type": "code",
   "execution_count": null,
   "metadata": {},
   "outputs": [],
   "source": []
  }
 ],
 "metadata": {
  "kernelspec": {
   "display_name": "base",
   "language": "python",
   "name": "python3"
  },
  "language_info": {
   "codemirror_mode": {
    "name": "ipython",
    "version": 3
   },
   "file_extension": ".py",
   "mimetype": "text/x-python",
   "name": "python",
   "nbconvert_exporter": "python",
   "pygments_lexer": "ipython3",
   "version": "3.9.16"
  },
  "orig_nbformat": 4
 },
 "nbformat": 4,
 "nbformat_minor": 2
}
