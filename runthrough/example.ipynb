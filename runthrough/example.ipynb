{
 "cells": [
  {
   "attachments": {},
   "cell_type": "markdown",
   "metadata": {},
   "source": [
    "### Basic imports"
   ]
  },
  {
   "cell_type": "code",
   "execution_count": 2,
   "metadata": {},
   "outputs": [],
   "source": [
    "import pandas as pd\n",
    "import sqlalchemy as sa\n",
    "import numpy as np\n",
    "import warnings\n",
    "warnings.filterwarnings('ignore')\n",
    "import os\n",
    "from dotenv import load_dotenv\n",
    "load_dotenv()\n",
    "\n",
    "engine = sa.create_engine(\"mysql+pymysql://{user}:{pw}@{host}/{db}\"\n",
    "    .format(host=os.getenv('host'), db=os.getenv('db'), user=os.getenv('uname'), pw=os.getenv('password')))\n"
   ]
  },
  {
   "attachments": {},
   "cell_type": "markdown",
   "metadata": {},
   "source": [
    "### 1. Read in Data from csv --> could also use pd.read_sql and use .env to load auth info"
   ]
  },
  {
   "cell_type": "code",
   "execution_count": 3,
   "metadata": {},
   "outputs": [
    {
     "data": {
      "text/html": [
       "<div>\n",
       "<style scoped>\n",
       "    .dataframe tbody tr th:only-of-type {\n",
       "        vertical-align: middle;\n",
       "    }\n",
       "\n",
       "    .dataframe tbody tr th {\n",
       "        vertical-align: top;\n",
       "    }\n",
       "\n",
       "    .dataframe thead th {\n",
       "        text-align: right;\n",
       "    }\n",
       "</style>\n",
       "<table border=\"1\" class=\"dataframe\">\n",
       "  <thead>\n",
       "    <tr style=\"text-align: right;\">\n",
       "      <th></th>\n",
       "      <th>GP</th>\n",
       "      <th>Note_Yr</th>\n",
       "      <th>Note_Mth</th>\n",
       "      <th>NoteDt</th>\n",
       "      <th>LoanAmt</th>\n",
       "      <th>MaturityDt</th>\n",
       "      <th>MaturityMthsQty</th>\n",
       "      <th>PrepayDt</th>\n",
       "      <th>PrepayMthsQty</th>\n",
       "      <th>DefaultDt</th>\n",
       "      <th>DefaultMthsQty</th>\n",
       "      <th>PP_qty</th>\n",
       "      <th>MatBucket</th>\n",
       "      <th>Code</th>\n",
       "      <th>CodeText</th>\n",
       "      <th>Margin</th>\n",
       "      <th>MarginBucket</th>\n",
       "      <th>state_abbreviation</th>\n",
       "      <th>state_name</th>\n",
       "    </tr>\n",
       "  </thead>\n",
       "  <tbody>\n",
       "    <tr>\n",
       "      <th>0</th>\n",
       "      <td>1502649</td>\n",
       "      <td>2000</td>\n",
       "      <td>7</td>\n",
       "      <td>2000-07-31</td>\n",
       "      <td>20600.00</td>\n",
       "      <td>2007-07-31</td>\n",
       "      <td>84</td>\n",
       "      <td>2008-10-08</td>\n",
       "      <td>NaN</td>\n",
       "      <td>2006-03-06</td>\n",
       "      <td>67.0</td>\n",
       "      <td>67.0</td>\n",
       "      <td>0-8</td>\n",
       "      <td>453110.0</td>\n",
       "      <td>Florists</td>\n",
       "      <td>0.0400</td>\n",
       "      <td>0.0275+</td>\n",
       "      <td>CT</td>\n",
       "      <td>Connecticut</td>\n",
       "    </tr>\n",
       "    <tr>\n",
       "      <th>1</th>\n",
       "      <td>1503079</td>\n",
       "      <td>2001</td>\n",
       "      <td>1</td>\n",
       "      <td>2001-01-31</td>\n",
       "      <td>14288.55</td>\n",
       "      <td>2008-01-31</td>\n",
       "      <td>84</td>\n",
       "      <td>2010-11-30</td>\n",
       "      <td>NaN</td>\n",
       "      <td>2004-03-02</td>\n",
       "      <td>37.0</td>\n",
       "      <td>37.0</td>\n",
       "      <td>0-8</td>\n",
       "      <td>-1.0</td>\n",
       "      <td>NaN</td>\n",
       "      <td>0.0275</td>\n",
       "      <td>0.025 - 0.0275</td>\n",
       "      <td>OH</td>\n",
       "      <td>Ohio</td>\n",
       "    </tr>\n",
       "    <tr>\n",
       "      <th>2</th>\n",
       "      <td>2019667</td>\n",
       "      <td>2001</td>\n",
       "      <td>2</td>\n",
       "      <td>2001-02-28</td>\n",
       "      <td>3600.00</td>\n",
       "      <td>2003-02-28</td>\n",
       "      <td>24</td>\n",
       "      <td>2002-01-30</td>\n",
       "      <td>11.0</td>\n",
       "      <td>NaT</td>\n",
       "      <td>NaN</td>\n",
       "      <td>11.0</td>\n",
       "      <td>0-8</td>\n",
       "      <td>441310.0</td>\n",
       "      <td>Automotive Parts and Accessories Stores</td>\n",
       "      <td>NaN</td>\n",
       "      <td>NaN</td>\n",
       "      <td>MS</td>\n",
       "      <td>Mississippi</td>\n",
       "    </tr>\n",
       "    <tr>\n",
       "      <th>3</th>\n",
       "      <td>2022516</td>\n",
       "      <td>2001</td>\n",
       "      <td>2</td>\n",
       "      <td>2001-02-28</td>\n",
       "      <td>60000.00</td>\n",
       "      <td>2011-02-27</td>\n",
       "      <td>119</td>\n",
       "      <td>2011-09-13</td>\n",
       "      <td>NaN</td>\n",
       "      <td>2010-01-12</td>\n",
       "      <td>106.0</td>\n",
       "      <td>106.0</td>\n",
       "      <td>8-11</td>\n",
       "      <td>722212.0</td>\n",
       "      <td>Cafeterias, Grill Buffets, and Buffets</td>\n",
       "      <td>0.0150</td>\n",
       "      <td>0.0125 - 0.015</td>\n",
       "      <td>NY</td>\n",
       "      <td>New York</td>\n",
       "    </tr>\n",
       "    <tr>\n",
       "      <th>4</th>\n",
       "      <td>2039790</td>\n",
       "      <td>2001</td>\n",
       "      <td>7</td>\n",
       "      <td>2001-07-31</td>\n",
       "      <td>20000.02</td>\n",
       "      <td>2006-07-31</td>\n",
       "      <td>60</td>\n",
       "      <td>2005-05-12</td>\n",
       "      <td>45.0</td>\n",
       "      <td>2003-12-31</td>\n",
       "      <td>29.0</td>\n",
       "      <td>29.0</td>\n",
       "      <td>0-8</td>\n",
       "      <td>561499.0</td>\n",
       "      <td>All Other Business Support Services</td>\n",
       "      <td>NaN</td>\n",
       "      <td>NaN</td>\n",
       "      <td>NC</td>\n",
       "      <td>North Carolina</td>\n",
       "    </tr>\n",
       "  </tbody>\n",
       "</table>\n",
       "</div>"
      ],
      "text/plain": [
       "        GP  Note_Yr  Note_Mth     NoteDt   LoanAmt MaturityDt  \\\n",
       "0  1502649     2000         7 2000-07-31  20600.00 2007-07-31   \n",
       "1  1503079     2001         1 2001-01-31  14288.55 2008-01-31   \n",
       "2  2019667     2001         2 2001-02-28   3600.00 2003-02-28   \n",
       "3  2022516     2001         2 2001-02-28  60000.00 2011-02-27   \n",
       "4  2039790     2001         7 2001-07-31  20000.02 2006-07-31   \n",
       "\n",
       "   MaturityMthsQty   PrepayDt  PrepayMthsQty  DefaultDt  DefaultMthsQty  \\\n",
       "0               84 2008-10-08            NaN 2006-03-06            67.0   \n",
       "1               84 2010-11-30            NaN 2004-03-02            37.0   \n",
       "2               24 2002-01-30           11.0        NaT             NaN   \n",
       "3              119 2011-09-13            NaN 2010-01-12           106.0   \n",
       "4               60 2005-05-12           45.0 2003-12-31            29.0   \n",
       "\n",
       "   PP_qty MatBucket      Code                                  CodeText  \\\n",
       "0    67.0       0-8  453110.0                                 Florists    \n",
       "1    37.0       0-8      -1.0                                       NaN   \n",
       "2    11.0       0-8  441310.0  Automotive Parts and Accessories Stores    \n",
       "3   106.0      8-11  722212.0    Cafeterias, Grill Buffets, and Buffets   \n",
       "4    29.0       0-8  561499.0      All Other Business Support Services    \n",
       "\n",
       "   Margin    MarginBucket state_abbreviation      state_name  \n",
       "0  0.0400         0.0275+                 CT     Connecticut  \n",
       "1  0.0275  0.025 - 0.0275                 OH            Ohio  \n",
       "2     NaN             NaN                 MS     Mississippi  \n",
       "3  0.0150  0.0125 - 0.015                 NY        New York  \n",
       "4     NaN             NaN                 NC  North Carolina  "
      ]
     },
     "execution_count": 3,
     "metadata": {},
     "output_type": "execute_result"
    }
   ],
   "source": [
    "loan_data = pd.read_csv(\"raw_data/master_loan_tape.csv\")\n",
    "# format date columns to datetime data types\n",
    "date_cols = [c for c in loan_data.columns if str(c)[-2:]=='Dt']\n",
    "for col in date_cols:\n",
    "    loan_data[col] = pd.to_datetime(loan_data[col])\n",
    "\n",
    "# Take a look at the top of the dataframe\n",
    "loan_data.head()"
   ]
  },
  {
   "cell_type": "code",
   "execution_count": 4,
   "metadata": {},
   "outputs": [],
   "source": [
    "# Slice the data frame to only 21+ year maturity loans\n",
    "data_slice = loan_data[loan_data['MatBucket']=='21+']"
   ]
  },
  {
   "cell_type": "code",
   "execution_count": 5,
   "metadata": {},
   "outputs": [],
   "source": [
    "\n",
    "show_problem = False\n",
    "\n",
    "if show_problem:\n",
    "    data_slice = data_slice[data_slice['LoanAmt']>=2_500_000]"
   ]
  },
  {
   "attachments": {},
   "cell_type": "markdown",
   "metadata": {},
   "source": [
    "### 2. Use pool.py to organize cohorts --> loans are split into yyyy.mm cohorts"
   ]
  },
  {
   "cell_type": "code",
   "execution_count": 6,
   "metadata": {},
   "outputs": [],
   "source": [
    "from pooler import pool\n",
    "\n",
    "# Define a function to create static pools of Loans from the DataFrame\n",
    "def create_pooler(in_df:pd.DataFrame)-> pool.Pooler:\n",
    "    temp = in_df.set_index('GP')\n",
    "    temp = temp.to_dict()\n",
    "    loans_dict = {}\n",
    "    for gp in temp['NoteDt'].keys():\n",
    "        loans_dict[str(gp)] = pool.Loan(gp, pd.to_datetime(temp['NoteDt'][gp]))\n",
    "        loans_dict[str(gp)].maturity_dt = temp['MaturityDt'][gp]\n",
    "        loans_dict[str(gp)].maturity_mths_qty = temp['MaturityMthsQty'][gp]\n",
    "        loans_dict[str(gp)].default_dt = temp['DefaultDt'][gp]\n",
    "        loans_dict[str(gp)].default_mths_qty = temp['DefaultMthsQty'][gp]\n",
    "        loans_dict[str(gp)].prepay_dt = temp['PrepayDt'][gp]\n",
    "        loans_dict[str(gp)].prepay_mths_qty = temp['PrepayMthsQty'][gp]\n",
    "\n",
    "    return pool.Pooler(loans_dict)\n",
    "\n",
    "my_pooler = create_pooler(data_slice)\n",
    "my_pooler.build_triangles_counts()\n",
    "\n",
    "pool_dict = {}\n",
    "for k, v in my_pooler.triangles.items():\n",
    "    pool_dict[k] = dict(outstanding=v[0], prepayments=v[1], defaults=v[2])\n"
   ]
  },
  {
   "attachments": {},
   "cell_type": "markdown",
   "metadata": {},
   "source": [
    "### 3. Convert Pool dictionaries into Dataframe"
   ]
  },
  {
   "cell_type": "code",
   "execution_count": 7,
   "metadata": {},
   "outputs": [
    {
     "data": {
      "text/html": [
       "<div>\n",
       "<style scoped>\n",
       "    .dataframe tbody tr th:only-of-type {\n",
       "        vertical-align: middle;\n",
       "    }\n",
       "\n",
       "    .dataframe tbody tr th {\n",
       "        vertical-align: top;\n",
       "    }\n",
       "\n",
       "    .dataframe thead th {\n",
       "        text-align: right;\n",
       "    }\n",
       "</style>\n",
       "<table border=\"1\" class=\"dataframe\">\n",
       "  <thead>\n",
       "    <tr style=\"text-align: right;\">\n",
       "      <th></th>\n",
       "      <th>outstanding</th>\n",
       "      <th>prepayments</th>\n",
       "      <th>defaults</th>\n",
       "    </tr>\n",
       "  </thead>\n",
       "  <tbody>\n",
       "    <tr>\n",
       "      <th>2000.01</th>\n",
       "      <td>[443, 443, 443, 443, 442, 441, 441, 441, 438, ...</td>\n",
       "      <td>[0, 0, 0, 0, 1, 0, 0, 1, 0, 6, 0, 2, 7, 0, 4, ...</td>\n",
       "      <td>[0, 0, 0, 1, 0, 0, 0, 2, 0, 0, 2, 0, 2, 2, 1, ...</td>\n",
       "    </tr>\n",
       "    <tr>\n",
       "      <th>2000.02</th>\n",
       "      <td>[329, 329, 329, 329, 329, 328, 328, 327, 326, ...</td>\n",
       "      <td>[0, 0, 0, 0, 0, 0, 1, 1, 0, 0, 0, 3, 0, 0, 2, ...</td>\n",
       "      <td>[0, 0, 0, 0, 1, 0, 0, 0, 0, 2, 2, 0, 1, 0, 1, ...</td>\n",
       "    </tr>\n",
       "    <tr>\n",
       "      <th>2000.03</th>\n",
       "      <td>[454, 454, 454, 454, 454, 452, 450, 450, 448, ...</td>\n",
       "      <td>[0, 0, 0, 0, 2, 1, 0, 2, 0, 3, 1, 1, 5, 0, 7, ...</td>\n",
       "      <td>[0, 0, 0, 0, 0, 1, 0, 0, 0, 2, 1, 0, 3, 0, 1, ...</td>\n",
       "    </tr>\n",
       "    <tr>\n",
       "      <th>2000.04</th>\n",
       "      <td>[418, 418, 418, 418, 418, 418, 415, 414, 411, ...</td>\n",
       "      <td>[0, 0, 0, 0, 0, 3, 1, 2, 1, 3, 0, 1, 4, 2, 3, ...</td>\n",
       "      <td>[0, 0, 0, 0, 0, 0, 0, 1, 0, 0, 0, 0, 1, 2, 1, ...</td>\n",
       "    </tr>\n",
       "    <tr>\n",
       "      <th>2000.05</th>\n",
       "      <td>[476, 476, 476, 476, 475, 475, 475, 474, 473, ...</td>\n",
       "      <td>[0, 0, 0, 1, 0, 0, 0, 1, 2, 0, 6, 0, 6, 0, 2, ...</td>\n",
       "      <td>[0, 0, 0, 0, 0, 0, 1, 0, 0, 2, 2, 0, 2, 0, 2, ...</td>\n",
       "    </tr>\n",
       "  </tbody>\n",
       "</table>\n",
       "</div>"
      ],
      "text/plain": [
       "                                               outstanding  \\\n",
       "2000.01  [443, 443, 443, 443, 442, 441, 441, 441, 438, ...   \n",
       "2000.02  [329, 329, 329, 329, 329, 328, 328, 327, 326, ...   \n",
       "2000.03  [454, 454, 454, 454, 454, 452, 450, 450, 448, ...   \n",
       "2000.04  [418, 418, 418, 418, 418, 418, 415, 414, 411, ...   \n",
       "2000.05  [476, 476, 476, 476, 475, 475, 475, 474, 473, ...   \n",
       "\n",
       "                                               prepayments  \\\n",
       "2000.01  [0, 0, 0, 0, 1, 0, 0, 1, 0, 6, 0, 2, 7, 0, 4, ...   \n",
       "2000.02  [0, 0, 0, 0, 0, 0, 1, 1, 0, 0, 0, 3, 0, 0, 2, ...   \n",
       "2000.03  [0, 0, 0, 0, 2, 1, 0, 2, 0, 3, 1, 1, 5, 0, 7, ...   \n",
       "2000.04  [0, 0, 0, 0, 0, 3, 1, 2, 1, 3, 0, 1, 4, 2, 3, ...   \n",
       "2000.05  [0, 0, 0, 1, 0, 0, 0, 1, 2, 0, 6, 0, 6, 0, 2, ...   \n",
       "\n",
       "                                                  defaults  \n",
       "2000.01  [0, 0, 0, 1, 0, 0, 0, 2, 0, 0, 2, 0, 2, 2, 1, ...  \n",
       "2000.02  [0, 0, 0, 0, 1, 0, 0, 0, 0, 2, 2, 0, 1, 0, 1, ...  \n",
       "2000.03  [0, 0, 0, 0, 0, 1, 0, 0, 0, 2, 1, 0, 3, 0, 1, ...  \n",
       "2000.04  [0, 0, 0, 0, 0, 0, 0, 1, 0, 0, 0, 0, 1, 2, 1, ...  \n",
       "2000.05  [0, 0, 0, 0, 0, 0, 1, 0, 0, 2, 2, 0, 2, 0, 2, ...  "
      ]
     },
     "execution_count": 7,
     "metadata": {},
     "output_type": "execute_result"
    }
   ],
   "source": [
    "# Create Pool Dataframe\n",
    "df_pool = pd.DataFrame.from_dict( pool_dict, orient='index')\n",
    "df_pool.index = [float(e) for e in df_pool.index.to_list()]\n",
    "df_pool = df_pool.sort_index()\n",
    "# Show the dataframe here\n",
    "df_pool.head()"
   ]
  },
  {
   "cell_type": "code",
   "execution_count": 8,
   "metadata": {},
   "outputs": [],
   "source": [
    "# Format array lengths\n",
    "max_row_length = df_pool.shape[0]\n",
    "count = -1\n",
    "for i, row in df_pool.iterrows():\n",
    "    count+=1\n",
    "    for col in df_pool.columns:\n",
    "        # ----------------------------------------------------------------------------------------------\n",
    "        #Method 1: This line will simply truncate the array to the right length:\n",
    "        # ----------------------------------------------------------------------------------------------\n",
    "        # df_pool.at[i,col] = row[col][:(max_row_length-count)]\n",
    "        # ----------------------------------------------------------------------------------------------\n",
    "        #Method 2: Pad arrays with NaNs --> this will truncate the array then fill it back in with NaNs\n",
    "        # ----------------------------------------------------------------------------------------------\n",
    "        arr = row[col][:(max_row_length-count)].astype(float)\n",
    "        padded_arr = np.pad(arr, (0, max_row_length - (max_row_length-count) ), mode='constant', constant_values=np.nan)\n",
    "        df_pool.at[i,col] = padded_arr\n"
   ]
  },
  {
   "attachments": {},
   "cell_type": "markdown",
   "metadata": {},
   "source": [
    "### 4. Group into Annual cohorts and calculate SMM and CPR"
   ]
  },
  {
   "cell_type": "code",
   "execution_count": 9,
   "metadata": {},
   "outputs": [],
   "source": [
    "# This is where we start abstracting away from the Data --> you're now looking at Annual Cohorts grouped together\n",
    "df_pool['Year'] = df_pool.index.astype(int)\n",
    "year_grouped = df_pool.groupby('Year')\n",
    "year_grouped = year_grouped.agg(np.nansum)\n",
    "year_grouped['smm'] = (year_grouped['prepayments']+year_grouped['defaults'])/year_grouped['outstanding']\n",
    "year_grouped['cpr'] = (1-(1-year_grouped['smm'])**12)"
   ]
  },
  {
   "attachments": {},
   "cell_type": "markdown",
   "metadata": {},
   "source": [
    "### Reshape the Yearly cohorts data from Months on Book to Year on Book  \n",
    "`[i,...........,n=MoB] ---> applymap(aggregate_method)`  \n",
    " \n",
    "`[[i,...]`  \n",
    "`[i,...]`  \n",
    "`[i,...]`  \n",
    "`[i,...]`  \n",
    "`[i,...]...n_years=YoB]`"
   ]
  },
  {
   "cell_type": "code",
   "execution_count": 10,
   "metadata": {},
   "outputs": [],
   "source": [
    "def aggregate_annual_sums(in_arr):\n",
    "    n_years = len(in_arr) // 12\n",
    "    arr_2d = in_arr[:n_years*12].reshape(n_years,12)\n",
    "    return np.nansum(arr_2d,axis=1)\n",
    "\n",
    "def aggregate_annual_averages(in_arr):\n",
    "    n_years = len(in_arr) // 12\n",
    "    arr_2d = in_arr[:n_years*12].reshape(n_years,12)\n",
    "    return np.nanmean(arr_2d,axis=1)\n",
    "\n",
    "arr = year_grouped[['cpr']]\n",
    "cpr_heat = arr.applymap(aggregate_annual_averages).to_dict()\n",
    "cpr_heat = cpr_heat['cpr']\n",
    "\n",
    "\n",
    "cpr_heat = pd.DataFrame.from_dict(cpr_heat, orient='index')"
   ]
  },
  {
   "attachments": {},
   "cell_type": "markdown",
   "metadata": {},
   "source": [
    "### 5. Get Line Plots (or just the data for line plots)"
   ]
  },
  {
   "cell_type": "code",
   "execution_count": 11,
   "metadata": {},
   "outputs": [],
   "source": [
    "# First attempt --> \n",
    "cumsum = np.nancumsum(cpr_heat, axis=1)\n",
    "lifetime_avg= pd.DataFrame(cumsum/np.arange(1,cpr_heat.shape[1]+1), columns=cpr_heat.columns, index=cpr_heat.index)"
   ]
  },
  {
   "cell_type": "code",
   "execution_count": 12,
   "metadata": {},
   "outputs": [
    {
     "data": {
      "text/html": [
       "<div>\n",
       "<style scoped>\n",
       "    .dataframe tbody tr th:only-of-type {\n",
       "        vertical-align: middle;\n",
       "    }\n",
       "\n",
       "    .dataframe tbody tr th {\n",
       "        vertical-align: top;\n",
       "    }\n",
       "\n",
       "    .dataframe thead th {\n",
       "        text-align: right;\n",
       "    }\n",
       "</style>\n",
       "<table border=\"1\" class=\"dataframe\">\n",
       "  <thead>\n",
       "    <tr style=\"text-align: right;\">\n",
       "      <th></th>\n",
       "      <th>0</th>\n",
       "      <th>1</th>\n",
       "      <th>2</th>\n",
       "      <th>3</th>\n",
       "      <th>4</th>\n",
       "      <th>5</th>\n",
       "      <th>6</th>\n",
       "      <th>7</th>\n",
       "      <th>8</th>\n",
       "      <th>9</th>\n",
       "      <th>...</th>\n",
       "      <th>12</th>\n",
       "      <th>13</th>\n",
       "      <th>14</th>\n",
       "      <th>15</th>\n",
       "      <th>16</th>\n",
       "      <th>17</th>\n",
       "      <th>18</th>\n",
       "      <th>19</th>\n",
       "      <th>20</th>\n",
       "      <th>21</th>\n",
       "    </tr>\n",
       "  </thead>\n",
       "  <tbody>\n",
       "    <tr>\n",
       "      <th>2000</th>\n",
       "      <td>0.034905</td>\n",
       "      <td>0.072955</td>\n",
       "      <td>0.095927</td>\n",
       "      <td>0.110735</td>\n",
       "      <td>0.124243</td>\n",
       "      <td>0.144174</td>\n",
       "      <td>0.161668</td>\n",
       "      <td>0.166428</td>\n",
       "      <td>0.161164</td>\n",
       "      <td>0.152434</td>\n",
       "      <td>...</td>\n",
       "      <td>0.136539</td>\n",
       "      <td>0.134998</td>\n",
       "      <td>0.132013</td>\n",
       "      <td>0.130625</td>\n",
       "      <td>0.128849</td>\n",
       "      <td>0.129421</td>\n",
       "      <td>0.128487</td>\n",
       "      <td>0.129756</td>\n",
       "      <td>0.130627</td>\n",
       "      <td>0.133767</td>\n",
       "    </tr>\n",
       "    <tr>\n",
       "      <th>2001</th>\n",
       "      <td>0.017427</td>\n",
       "      <td>0.04251</td>\n",
       "      <td>0.068683</td>\n",
       "      <td>0.100937</td>\n",
       "      <td>0.134554</td>\n",
       "      <td>0.156467</td>\n",
       "      <td>0.162477</td>\n",
       "      <td>0.158905</td>\n",
       "      <td>0.149772</td>\n",
       "      <td>0.142686</td>\n",
       "      <td>...</td>\n",
       "      <td>0.132019</td>\n",
       "      <td>0.128966</td>\n",
       "      <td>0.12798</td>\n",
       "      <td>0.12669</td>\n",
       "      <td>0.126271</td>\n",
       "      <td>0.127358</td>\n",
       "      <td>0.126252</td>\n",
       "      <td>0.126723</td>\n",
       "      <td>0.129046</td>\n",
       "      <td></td>\n",
       "    </tr>\n",
       "    <tr>\n",
       "      <th>2002</th>\n",
       "      <td>0.016361</td>\n",
       "      <td>0.037624</td>\n",
       "      <td>0.069365</td>\n",
       "      <td>0.135951</td>\n",
       "      <td>0.17511</td>\n",
       "      <td>0.189455</td>\n",
       "      <td>0.180977</td>\n",
       "      <td>0.166923</td>\n",
       "      <td>0.156232</td>\n",
       "      <td>0.147895</td>\n",
       "      <td>...</td>\n",
       "      <td>0.139107</td>\n",
       "      <td>0.136788</td>\n",
       "      <td>0.136694</td>\n",
       "      <td>0.135983</td>\n",
       "      <td>0.136011</td>\n",
       "      <td>0.138485</td>\n",
       "      <td>0.136654</td>\n",
       "      <td>0.138903</td>\n",
       "      <td></td>\n",
       "      <td></td>\n",
       "    </tr>\n",
       "    <tr>\n",
       "      <th>2003</th>\n",
       "      <td>0.015101</td>\n",
       "      <td>0.044474</td>\n",
       "      <td>0.105771</td>\n",
       "      <td>0.170605</td>\n",
       "      <td>0.186682</td>\n",
       "      <td>0.177787</td>\n",
       "      <td>0.162866</td>\n",
       "      <td>0.153022</td>\n",
       "      <td>0.145525</td>\n",
       "      <td>0.142487</td>\n",
       "      <td>...</td>\n",
       "      <td>0.134394</td>\n",
       "      <td>0.133989</td>\n",
       "      <td>0.133725</td>\n",
       "      <td>0.133722</td>\n",
       "      <td>0.13259</td>\n",
       "      <td>0.131152</td>\n",
       "      <td>0.132127</td>\n",
       "      <td></td>\n",
       "      <td></td>\n",
       "      <td></td>\n",
       "    </tr>\n",
       "    <tr>\n",
       "      <th>2004</th>\n",
       "      <td>0.020027</td>\n",
       "      <td>0.064827</td>\n",
       "      <td>0.13097</td>\n",
       "      <td>0.171566</td>\n",
       "      <td>0.164545</td>\n",
       "      <td>0.153026</td>\n",
       "      <td>0.1449</td>\n",
       "      <td>0.138642</td>\n",
       "      <td>0.134615</td>\n",
       "      <td>0.131418</td>\n",
       "      <td>...</td>\n",
       "      <td>0.129835</td>\n",
       "      <td>0.130404</td>\n",
       "      <td>0.130948</td>\n",
       "      <td>0.13214</td>\n",
       "      <td>0.131898</td>\n",
       "      <td>0.13326</td>\n",
       "      <td></td>\n",
       "      <td></td>\n",
       "      <td></td>\n",
       "      <td></td>\n",
       "    </tr>\n",
       "    <tr>\n",
       "      <th>2005</th>\n",
       "      <td>0.019747</td>\n",
       "      <td>0.067812</td>\n",
       "      <td>0.107076</td>\n",
       "      <td>0.119516</td>\n",
       "      <td>0.114168</td>\n",
       "      <td>0.108553</td>\n",
       "      <td>0.1046</td>\n",
       "      <td>0.104327</td>\n",
       "      <td>0.104116</td>\n",
       "      <td>0.10496</td>\n",
       "      <td>...</td>\n",
       "      <td>0.110453</td>\n",
       "      <td>0.111828</td>\n",
       "      <td>0.113236</td>\n",
       "      <td>0.114453</td>\n",
       "      <td>0.118152</td>\n",
       "      <td></td>\n",
       "      <td></td>\n",
       "      <td></td>\n",
       "      <td></td>\n",
       "      <td></td>\n",
       "    </tr>\n",
       "    <tr>\n",
       "      <th>2006</th>\n",
       "      <td>0.026801</td>\n",
       "      <td>0.063664</td>\n",
       "      <td>0.087736</td>\n",
       "      <td>0.093044</td>\n",
       "      <td>0.094034</td>\n",
       "      <td>0.095111</td>\n",
       "      <td>0.095981</td>\n",
       "      <td>0.096069</td>\n",
       "      <td>0.096079</td>\n",
       "      <td>0.095796</td>\n",
       "      <td>...</td>\n",
       "      <td>0.106976</td>\n",
       "      <td>0.1098</td>\n",
       "      <td>0.110216</td>\n",
       "      <td>0.112415</td>\n",
       "      <td></td>\n",
       "      <td></td>\n",
       "      <td></td>\n",
       "      <td></td>\n",
       "      <td></td>\n",
       "      <td></td>\n",
       "    </tr>\n",
       "    <tr>\n",
       "      <th>2007</th>\n",
       "      <td>0.020781</td>\n",
       "      <td>0.05455</td>\n",
       "      <td>0.069776</td>\n",
       "      <td>0.077087</td>\n",
       "      <td>0.083174</td>\n",
       "      <td>0.086977</td>\n",
       "      <td>0.086327</td>\n",
       "      <td>0.088144</td>\n",
       "      <td>0.089517</td>\n",
       "      <td>0.092242</td>\n",
       "      <td>...</td>\n",
       "      <td>0.101438</td>\n",
       "      <td>0.101563</td>\n",
       "      <td>0.106924</td>\n",
       "      <td></td>\n",
       "      <td></td>\n",
       "      <td></td>\n",
       "      <td></td>\n",
       "      <td></td>\n",
       "      <td></td>\n",
       "      <td></td>\n",
       "    </tr>\n",
       "    <tr>\n",
       "      <th>2008</th>\n",
       "      <td>0.020033</td>\n",
       "      <td>0.043336</td>\n",
       "      <td>0.051446</td>\n",
       "      <td>0.058439</td>\n",
       "      <td>0.06627</td>\n",
       "      <td>0.071847</td>\n",
       "      <td>0.078458</td>\n",
       "      <td>0.082477</td>\n",
       "      <td>0.086333</td>\n",
       "      <td>0.091101</td>\n",
       "      <td>...</td>\n",
       "      <td>0.100628</td>\n",
       "      <td>0.105791</td>\n",
       "      <td></td>\n",
       "      <td></td>\n",
       "      <td></td>\n",
       "      <td></td>\n",
       "      <td></td>\n",
       "      <td></td>\n",
       "      <td></td>\n",
       "      <td></td>\n",
       "    </tr>\n",
       "    <tr>\n",
       "      <th>2009</th>\n",
       "      <td>0.007184</td>\n",
       "      <td>0.018549</td>\n",
       "      <td>0.028984</td>\n",
       "      <td>0.052821</td>\n",
       "      <td>0.067235</td>\n",
       "      <td>0.076442</td>\n",
       "      <td>0.085919</td>\n",
       "      <td>0.094691</td>\n",
       "      <td>0.10394</td>\n",
       "      <td>0.11233</td>\n",
       "      <td>...</td>\n",
       "      <td>0.121527</td>\n",
       "      <td></td>\n",
       "      <td></td>\n",
       "      <td></td>\n",
       "      <td></td>\n",
       "      <td></td>\n",
       "      <td></td>\n",
       "      <td></td>\n",
       "      <td></td>\n",
       "      <td></td>\n",
       "    </tr>\n",
       "    <tr>\n",
       "      <th>2010</th>\n",
       "      <td>0.007153</td>\n",
       "      <td>0.016896</td>\n",
       "      <td>0.033536</td>\n",
       "      <td>0.062557</td>\n",
       "      <td>0.079479</td>\n",
       "      <td>0.093413</td>\n",
       "      <td>0.104805</td>\n",
       "      <td>0.113789</td>\n",
       "      <td>0.120613</td>\n",
       "      <td>0.124076</td>\n",
       "      <td>...</td>\n",
       "      <td></td>\n",
       "      <td></td>\n",
       "      <td></td>\n",
       "      <td></td>\n",
       "      <td></td>\n",
       "      <td></td>\n",
       "      <td></td>\n",
       "      <td></td>\n",
       "      <td></td>\n",
       "      <td></td>\n",
       "    </tr>\n",
       "    <tr>\n",
       "      <th>2011</th>\n",
       "      <td>0.007010</td>\n",
       "      <td>0.019108</td>\n",
       "      <td>0.03972</td>\n",
       "      <td>0.069084</td>\n",
       "      <td>0.086784</td>\n",
       "      <td>0.102489</td>\n",
       "      <td>0.114296</td>\n",
       "      <td>0.124702</td>\n",
       "      <td>0.128518</td>\n",
       "      <td>0.130029</td>\n",
       "      <td>...</td>\n",
       "      <td></td>\n",
       "      <td></td>\n",
       "      <td></td>\n",
       "      <td></td>\n",
       "      <td></td>\n",
       "      <td></td>\n",
       "      <td></td>\n",
       "      <td></td>\n",
       "      <td></td>\n",
       "      <td></td>\n",
       "    </tr>\n",
       "    <tr>\n",
       "      <th>2012</th>\n",
       "      <td>0.008503</td>\n",
       "      <td>0.022824</td>\n",
       "      <td>0.040059</td>\n",
       "      <td>0.068472</td>\n",
       "      <td>0.08754</td>\n",
       "      <td>0.10218</td>\n",
       "      <td>0.113071</td>\n",
       "      <td>0.119615</td>\n",
       "      <td>0.122243</td>\n",
       "      <td>0.12853</td>\n",
       "      <td>...</td>\n",
       "      <td></td>\n",
       "      <td></td>\n",
       "      <td></td>\n",
       "      <td></td>\n",
       "      <td></td>\n",
       "      <td></td>\n",
       "      <td></td>\n",
       "      <td></td>\n",
       "      <td></td>\n",
       "      <td></td>\n",
       "    </tr>\n",
       "    <tr>\n",
       "      <th>2013</th>\n",
       "      <td>0.011101</td>\n",
       "      <td>0.022406</td>\n",
       "      <td>0.042732</td>\n",
       "      <td>0.072635</td>\n",
       "      <td>0.090006</td>\n",
       "      <td>0.104999</td>\n",
       "      <td>0.112546</td>\n",
       "      <td>0.116007</td>\n",
       "      <td>0.122137</td>\n",
       "      <td></td>\n",
       "      <td>...</td>\n",
       "      <td></td>\n",
       "      <td></td>\n",
       "      <td></td>\n",
       "      <td></td>\n",
       "      <td></td>\n",
       "      <td></td>\n",
       "      <td></td>\n",
       "      <td></td>\n",
       "      <td></td>\n",
       "      <td></td>\n",
       "    </tr>\n",
       "    <tr>\n",
       "      <th>2014</th>\n",
       "      <td>0.006008</td>\n",
       "      <td>0.019848</td>\n",
       "      <td>0.044892</td>\n",
       "      <td>0.078346</td>\n",
       "      <td>0.098109</td>\n",
       "      <td>0.109411</td>\n",
       "      <td>0.115024</td>\n",
       "      <td>0.122987</td>\n",
       "      <td></td>\n",
       "      <td></td>\n",
       "      <td>...</td>\n",
       "      <td></td>\n",
       "      <td></td>\n",
       "      <td></td>\n",
       "      <td></td>\n",
       "      <td></td>\n",
       "      <td></td>\n",
       "      <td></td>\n",
       "      <td></td>\n",
       "      <td></td>\n",
       "      <td></td>\n",
       "    </tr>\n",
       "    <tr>\n",
       "      <th>2015</th>\n",
       "      <td>0.008150</td>\n",
       "      <td>0.02492</td>\n",
       "      <td>0.050793</td>\n",
       "      <td>0.084423</td>\n",
       "      <td>0.100267</td>\n",
       "      <td>0.106266</td>\n",
       "      <td>0.117744</td>\n",
       "      <td></td>\n",
       "      <td></td>\n",
       "      <td></td>\n",
       "      <td>...</td>\n",
       "      <td></td>\n",
       "      <td></td>\n",
       "      <td></td>\n",
       "      <td></td>\n",
       "      <td></td>\n",
       "      <td></td>\n",
       "      <td></td>\n",
       "      <td></td>\n",
       "      <td></td>\n",
       "      <td></td>\n",
       "    </tr>\n",
       "    <tr>\n",
       "      <th>2016</th>\n",
       "      <td>0.008546</td>\n",
       "      <td>0.025318</td>\n",
       "      <td>0.052423</td>\n",
       "      <td>0.081394</td>\n",
       "      <td>0.090523</td>\n",
       "      <td>0.107071</td>\n",
       "      <td></td>\n",
       "      <td></td>\n",
       "      <td></td>\n",
       "      <td></td>\n",
       "      <td>...</td>\n",
       "      <td></td>\n",
       "      <td></td>\n",
       "      <td></td>\n",
       "      <td></td>\n",
       "      <td></td>\n",
       "      <td></td>\n",
       "      <td></td>\n",
       "      <td></td>\n",
       "      <td></td>\n",
       "      <td></td>\n",
       "    </tr>\n",
       "    <tr>\n",
       "      <th>2017</th>\n",
       "      <td>0.011833</td>\n",
       "      <td>0.03165</td>\n",
       "      <td>0.057847</td>\n",
       "      <td>0.075745</td>\n",
       "      <td>0.100289</td>\n",
       "      <td></td>\n",
       "      <td></td>\n",
       "      <td></td>\n",
       "      <td></td>\n",
       "      <td></td>\n",
       "      <td>...</td>\n",
       "      <td></td>\n",
       "      <td></td>\n",
       "      <td></td>\n",
       "      <td></td>\n",
       "      <td></td>\n",
       "      <td></td>\n",
       "      <td></td>\n",
       "      <td></td>\n",
       "      <td></td>\n",
       "      <td></td>\n",
       "    </tr>\n",
       "    <tr>\n",
       "      <th>2018</th>\n",
       "      <td>0.009509</td>\n",
       "      <td>0.025288</td>\n",
       "      <td>0.04067</td>\n",
       "      <td>0.079333</td>\n",
       "      <td></td>\n",
       "      <td></td>\n",
       "      <td></td>\n",
       "      <td></td>\n",
       "      <td></td>\n",
       "      <td></td>\n",
       "      <td>...</td>\n",
       "      <td></td>\n",
       "      <td></td>\n",
       "      <td></td>\n",
       "      <td></td>\n",
       "      <td></td>\n",
       "      <td></td>\n",
       "      <td></td>\n",
       "      <td></td>\n",
       "      <td></td>\n",
       "      <td></td>\n",
       "    </tr>\n",
       "    <tr>\n",
       "      <th>2019</th>\n",
       "      <td>0.009244</td>\n",
       "      <td>0.020503</td>\n",
       "      <td>0.048163</td>\n",
       "      <td></td>\n",
       "      <td></td>\n",
       "      <td></td>\n",
       "      <td></td>\n",
       "      <td></td>\n",
       "      <td></td>\n",
       "      <td></td>\n",
       "      <td>...</td>\n",
       "      <td></td>\n",
       "      <td></td>\n",
       "      <td></td>\n",
       "      <td></td>\n",
       "      <td></td>\n",
       "      <td></td>\n",
       "      <td></td>\n",
       "      <td></td>\n",
       "      <td></td>\n",
       "      <td></td>\n",
       "    </tr>\n",
       "    <tr>\n",
       "      <th>2020</th>\n",
       "      <td>0.006547</td>\n",
       "      <td>0.032001</td>\n",
       "      <td></td>\n",
       "      <td></td>\n",
       "      <td></td>\n",
       "      <td></td>\n",
       "      <td></td>\n",
       "      <td></td>\n",
       "      <td></td>\n",
       "      <td></td>\n",
       "      <td>...</td>\n",
       "      <td></td>\n",
       "      <td></td>\n",
       "      <td></td>\n",
       "      <td></td>\n",
       "      <td></td>\n",
       "      <td></td>\n",
       "      <td></td>\n",
       "      <td></td>\n",
       "      <td></td>\n",
       "      <td></td>\n",
       "    </tr>\n",
       "    <tr>\n",
       "      <th>2021</th>\n",
       "      <td>0.014281</td>\n",
       "      <td></td>\n",
       "      <td></td>\n",
       "      <td></td>\n",
       "      <td></td>\n",
       "      <td></td>\n",
       "      <td></td>\n",
       "      <td></td>\n",
       "      <td></td>\n",
       "      <td></td>\n",
       "      <td>...</td>\n",
       "      <td></td>\n",
       "      <td></td>\n",
       "      <td></td>\n",
       "      <td></td>\n",
       "      <td></td>\n",
       "      <td></td>\n",
       "      <td></td>\n",
       "      <td></td>\n",
       "      <td></td>\n",
       "      <td></td>\n",
       "    </tr>\n",
       "    <tr>\n",
       "      <th>2022</th>\n",
       "      <td>0.000000</td>\n",
       "      <td></td>\n",
       "      <td></td>\n",
       "      <td></td>\n",
       "      <td></td>\n",
       "      <td></td>\n",
       "      <td></td>\n",
       "      <td></td>\n",
       "      <td></td>\n",
       "      <td></td>\n",
       "      <td>...</td>\n",
       "      <td></td>\n",
       "      <td></td>\n",
       "      <td></td>\n",
       "      <td></td>\n",
       "      <td></td>\n",
       "      <td></td>\n",
       "      <td></td>\n",
       "      <td></td>\n",
       "      <td></td>\n",
       "      <td></td>\n",
       "    </tr>\n",
       "  </tbody>\n",
       "</table>\n",
       "<p>23 rows × 22 columns</p>\n",
       "</div>"
      ],
      "text/plain": [
       "            0         1         2         3         4         5         6   \\\n",
       "2000  0.034905  0.072955  0.095927  0.110735  0.124243  0.144174  0.161668   \n",
       "2001  0.017427   0.04251  0.068683  0.100937  0.134554  0.156467  0.162477   \n",
       "2002  0.016361  0.037624  0.069365  0.135951   0.17511  0.189455  0.180977   \n",
       "2003  0.015101  0.044474  0.105771  0.170605  0.186682  0.177787  0.162866   \n",
       "2004  0.020027  0.064827   0.13097  0.171566  0.164545  0.153026    0.1449   \n",
       "2005  0.019747  0.067812  0.107076  0.119516  0.114168  0.108553    0.1046   \n",
       "2006  0.026801  0.063664  0.087736  0.093044  0.094034  0.095111  0.095981   \n",
       "2007  0.020781   0.05455  0.069776  0.077087  0.083174  0.086977  0.086327   \n",
       "2008  0.020033  0.043336  0.051446  0.058439   0.06627  0.071847  0.078458   \n",
       "2009  0.007184  0.018549  0.028984  0.052821  0.067235  0.076442  0.085919   \n",
       "2010  0.007153  0.016896  0.033536  0.062557  0.079479  0.093413  0.104805   \n",
       "2011  0.007010  0.019108   0.03972  0.069084  0.086784  0.102489  0.114296   \n",
       "2012  0.008503  0.022824  0.040059  0.068472   0.08754   0.10218  0.113071   \n",
       "2013  0.011101  0.022406  0.042732  0.072635  0.090006  0.104999  0.112546   \n",
       "2014  0.006008  0.019848  0.044892  0.078346  0.098109  0.109411  0.115024   \n",
       "2015  0.008150   0.02492  0.050793  0.084423  0.100267  0.106266  0.117744   \n",
       "2016  0.008546  0.025318  0.052423  0.081394  0.090523  0.107071             \n",
       "2017  0.011833   0.03165  0.057847  0.075745  0.100289                       \n",
       "2018  0.009509  0.025288   0.04067  0.079333                                 \n",
       "2019  0.009244  0.020503  0.048163                                           \n",
       "2020  0.006547  0.032001                                                     \n",
       "2021  0.014281                                                               \n",
       "2022  0.000000                                                               \n",
       "\n",
       "            7         8         9   ...        12        13        14  \\\n",
       "2000  0.166428  0.161164  0.152434  ...  0.136539  0.134998  0.132013   \n",
       "2001  0.158905  0.149772  0.142686  ...  0.132019  0.128966   0.12798   \n",
       "2002  0.166923  0.156232  0.147895  ...  0.139107  0.136788  0.136694   \n",
       "2003  0.153022  0.145525  0.142487  ...  0.134394  0.133989  0.133725   \n",
       "2004  0.138642  0.134615  0.131418  ...  0.129835  0.130404  0.130948   \n",
       "2005  0.104327  0.104116   0.10496  ...  0.110453  0.111828  0.113236   \n",
       "2006  0.096069  0.096079  0.095796  ...  0.106976    0.1098  0.110216   \n",
       "2007  0.088144  0.089517  0.092242  ...  0.101438  0.101563  0.106924   \n",
       "2008  0.082477  0.086333  0.091101  ...  0.100628  0.105791             \n",
       "2009  0.094691   0.10394   0.11233  ...  0.121527                       \n",
       "2010  0.113789  0.120613  0.124076  ...                                 \n",
       "2011  0.124702  0.128518  0.130029  ...                                 \n",
       "2012  0.119615  0.122243   0.12853  ...                                 \n",
       "2013  0.116007  0.122137            ...                                 \n",
       "2014  0.122987                      ...                                 \n",
       "2015                                ...                                 \n",
       "2016                                ...                                 \n",
       "2017                                ...                                 \n",
       "2018                                ...                                 \n",
       "2019                                ...                                 \n",
       "2020                                ...                                 \n",
       "2021                                ...                                 \n",
       "2022                                ...                                 \n",
       "\n",
       "            15        16        17        18        19        20        21  \n",
       "2000  0.130625  0.128849  0.129421  0.128487  0.129756  0.130627  0.133767  \n",
       "2001   0.12669  0.126271  0.127358  0.126252  0.126723  0.129046            \n",
       "2002  0.135983  0.136011  0.138485  0.136654  0.138903                      \n",
       "2003  0.133722   0.13259  0.131152  0.132127                                \n",
       "2004   0.13214  0.131898   0.13326                                          \n",
       "2005  0.114453  0.118152                                                    \n",
       "2006  0.112415                                                              \n",
       "2007                                                                        \n",
       "2008                                                                        \n",
       "2009                                                                        \n",
       "2010                                                                        \n",
       "2011                                                                        \n",
       "2012                                                                        \n",
       "2013                                                                        \n",
       "2014                                                                        \n",
       "2015                                                                        \n",
       "2016                                                                        \n",
       "2017                                                                        \n",
       "2018                                                                        \n",
       "2019                                                                        \n",
       "2020                                                                        \n",
       "2021                                                                        \n",
       "2022                                                                        \n",
       "\n",
       "[23 rows x 22 columns]"
      ]
     },
     "execution_count": 12,
     "metadata": {},
     "output_type": "execute_result"
    }
   ],
   "source": [
    "def create_lifetime_averages(cpr_df:pd.DataFrame)-> pd.DataFrame:\n",
    "    # get the cumulative sum of each row WHILE ignoring NaN values (otherwise the denominator is off)\n",
    "    cumulative_sum = np.nancumsum(cpr_df.values, axis=1)\n",
    "    # compute the number of non-NaN values in each row\n",
    "    num_non_nan = (~np.isnan(cpr_df.values)).cumsum(axis=1)\n",
    "    # get ROW-WISE average up until the first NaN value is encountered\n",
    "    row_avg = np.where(np.isnan(cpr_df), np.nan, cumulative_sum / num_non_nan)\n",
    "    # create new dataframe with row-wise averages\n",
    "    lifetime_df = pd.DataFrame(row_avg, columns=cpr_df.columns, index=cpr_df.index)\n",
    "    return lifetime_df\n",
    "\n",
    "lifetime_cprs = create_lifetime_averages(cpr_heat)\n",
    "\n",
    "lifetime_cprs.fillna('')\n"
   ]
  },
  {
   "cell_type": "code",
   "execution_count": 13,
   "metadata": {},
   "outputs": [
    {
     "data": {
      "application/vnd.plotly.v1+json": {
       "config": {
        "plotlyServerURL": "https://plot.ly"
       },
       "data": [
        {
         "hovertemplate": "variable=2000<br>index=%{x}<br>value=%{y}<extra></extra>",
         "legendgroup": "2000",
         "line": {
          "color": "#636efa",
          "dash": "solid",
          "shape": "spline"
         },
         "marker": {
          "symbol": "circle"
         },
         "mode": "lines+markers",
         "name": "2000",
         "orientation": "v",
         "showlegend": true,
         "type": "scatter",
         "x": [
          0,
          1,
          2,
          3,
          4,
          5,
          6,
          7,
          8,
          9,
          10,
          11,
          12,
          13,
          14,
          15,
          16,
          17,
          18,
          19,
          20,
          21
         ],
         "xaxis": "x",
         "y": [
          0.03490534616282168,
          0.07295471949045051,
          0.09592711813974197,
          0.11073482791549562,
          0.12424296497223693,
          0.14417377532090062,
          0.16166840016937925,
          0.1664281538636152,
          0.16116442705545392,
          0.1524335094261071,
          0.14501291064355842,
          0.13945863175440515,
          0.1365393721053964,
          0.13499813887248446,
          0.13201254320982814,
          0.13062491993911324,
          0.12884889093526225,
          0.12942100571752427,
          0.12848747848655756,
          0.1297562951706863,
          0.13062662438243414,
          0.13376670047738373
         ],
         "yaxis": "y"
        },
        {
         "hovertemplate": "variable=2001<br>index=%{x}<br>value=%{y}<extra></extra>",
         "legendgroup": "2001",
         "line": {
          "color": "#EF553B",
          "dash": "solid",
          "shape": "spline"
         },
         "marker": {
          "symbol": "circle"
         },
         "mode": "lines+markers",
         "name": "2001",
         "orientation": "v",
         "showlegend": true,
         "type": "scatter",
         "x": [
          0,
          1,
          2,
          3,
          4,
          5,
          6,
          7,
          8,
          9,
          10,
          11,
          12,
          13,
          14,
          15,
          16,
          17,
          18,
          19,
          20,
          21
         ],
         "xaxis": "x",
         "y": [
          0.01742687754440686,
          0.04250975844838118,
          0.06868332293023605,
          0.10093730538016848,
          0.13455384546028576,
          0.15646679103078956,
          0.16247745423105392,
          0.15890475820853914,
          0.14977187607098355,
          0.14268567765022563,
          0.13695038227070766,
          0.1347224528508463,
          0.13201890981650616,
          0.12896647772282804,
          0.1279798669777659,
          0.12668994447700083,
          0.1262711929844376,
          0.12735794270058104,
          0.12625154547617734,
          0.12672341604552104,
          0.12904595597352936,
          null
         ],
         "yaxis": "y"
        },
        {
         "hovertemplate": "variable=2002<br>index=%{x}<br>value=%{y}<extra></extra>",
         "legendgroup": "2002",
         "line": {
          "color": "#00cc96",
          "dash": "solid",
          "shape": "spline"
         },
         "marker": {
          "symbol": "circle"
         },
         "mode": "lines+markers",
         "name": "2002",
         "orientation": "v",
         "showlegend": true,
         "type": "scatter",
         "x": [
          0,
          1,
          2,
          3,
          4,
          5,
          6,
          7,
          8,
          9,
          10,
          11,
          12,
          13,
          14,
          15,
          16,
          17,
          18,
          19,
          20,
          21
         ],
         "xaxis": "x",
         "y": [
          0.01636076058400221,
          0.03762409572978399,
          0.06936527258165096,
          0.13595097494141847,
          0.17511020756660517,
          0.189454872066995,
          0.18097712092404053,
          0.16692341752719084,
          0.15623188644017183,
          0.14789493773268764,
          0.14382331448205135,
          0.14175386117394234,
          0.13910669133940246,
          0.13678753526419157,
          0.1366941617922644,
          0.1359830074951396,
          0.13601055477333243,
          0.13848536570090905,
          0.13665401613700798,
          0.13890255347517877,
          null,
          null
         ],
         "yaxis": "y"
        },
        {
         "hovertemplate": "variable=2003<br>index=%{x}<br>value=%{y}<extra></extra>",
         "legendgroup": "2003",
         "line": {
          "color": "#ab63fa",
          "dash": "solid",
          "shape": "spline"
         },
         "marker": {
          "symbol": "circle"
         },
         "mode": "lines+markers",
         "name": "2003",
         "orientation": "v",
         "showlegend": true,
         "type": "scatter",
         "x": [
          0,
          1,
          2,
          3,
          4,
          5,
          6,
          7,
          8,
          9,
          10,
          11,
          12,
          13,
          14,
          15,
          16,
          17,
          18,
          19,
          20,
          21
         ],
         "xaxis": "x",
         "y": [
          0.015101068251286626,
          0.04447402828606102,
          0.1057713701037745,
          0.1706054008452133,
          0.18668160229292727,
          0.1777869409570969,
          0.16286642946013383,
          0.1530217404821767,
          0.14552455784166426,
          0.14248660132845653,
          0.13789413166992684,
          0.13556437619663073,
          0.13439396813008253,
          0.13398855461116874,
          0.13372453496231074,
          0.1337221667215408,
          0.13258989312157662,
          0.13115205271973465,
          0.13212701819350084,
          null,
          null,
          null
         ],
         "yaxis": "y"
        },
        {
         "hovertemplate": "variable=2004<br>index=%{x}<br>value=%{y}<extra></extra>",
         "legendgroup": "2004",
         "line": {
          "color": "#FFA15A",
          "dash": "solid",
          "shape": "spline"
         },
         "marker": {
          "symbol": "circle"
         },
         "mode": "lines+markers",
         "name": "2004",
         "orientation": "v",
         "showlegend": true,
         "type": "scatter",
         "x": [
          0,
          1,
          2,
          3,
          4,
          5,
          6,
          7,
          8,
          9,
          10,
          11,
          12,
          13,
          14,
          15,
          16,
          17,
          18,
          19,
          20,
          21
         ],
         "xaxis": "x",
         "y": [
          0.020026635876393268,
          0.06482668311025452,
          0.13097009983541885,
          0.17156571836343382,
          0.16454491525908246,
          0.1530257436370441,
          0.14490002836832022,
          0.13864238061207423,
          0.13461451551145093,
          0.13141789746546864,
          0.1300087826418724,
          0.1299864609256018,
          0.12983488275824548,
          0.13040444293454337,
          0.13094835717404088,
          0.13213953085732197,
          0.13189798123119625,
          0.13326031262637458,
          null,
          null,
          null,
          null
         ],
         "yaxis": "y"
        },
        {
         "hovertemplate": "variable=2005<br>index=%{x}<br>value=%{y}<extra></extra>",
         "legendgroup": "2005",
         "line": {
          "color": "#19d3f3",
          "dash": "solid",
          "shape": "spline"
         },
         "marker": {
          "symbol": "circle"
         },
         "mode": "lines+markers",
         "name": "2005",
         "orientation": "v",
         "showlegend": true,
         "type": "scatter",
         "x": [
          0,
          1,
          2,
          3,
          4,
          5,
          6,
          7,
          8,
          9,
          10,
          11,
          12,
          13,
          14,
          15,
          16,
          17,
          18,
          19,
          20,
          21
         ],
         "xaxis": "x",
         "y": [
          0.019746566043546864,
          0.06781159639815132,
          0.10707599764110032,
          0.11951580219429234,
          0.11416843756683308,
          0.10855304480211501,
          0.10460002185425107,
          0.10432662033860833,
          0.10411577961732019,
          0.1049603693067462,
          0.1070845565583293,
          0.10946926969777764,
          0.11045299021090202,
          0.1118280149019675,
          0.11323649114774365,
          0.11445263022323433,
          0.1181518467053604,
          null,
          null,
          null,
          null,
          null
         ],
         "yaxis": "y"
        },
        {
         "hovertemplate": "variable=2006<br>index=%{x}<br>value=%{y}<extra></extra>",
         "legendgroup": "2006",
         "line": {
          "color": "#FF6692",
          "dash": "solid",
          "shape": "spline"
         },
         "marker": {
          "symbol": "circle"
         },
         "mode": "lines+markers",
         "name": "2006",
         "orientation": "v",
         "showlegend": true,
         "type": "scatter",
         "x": [
          0,
          1,
          2,
          3,
          4,
          5,
          6,
          7,
          8,
          9,
          10,
          11,
          12,
          13,
          14,
          15,
          16,
          17,
          18,
          19,
          20,
          21
         ],
         "xaxis": "x",
         "y": [
          0.026801464647823004,
          0.06366387966908638,
          0.08773552495756658,
          0.0930437338516077,
          0.09403418591841445,
          0.09511069811992913,
          0.0959808842967765,
          0.09606931150253294,
          0.09607941744191609,
          0.09579634489364576,
          0.09895318997066212,
          0.10267401190166787,
          0.10697603519645173,
          0.10979986164896292,
          0.11021647139218665,
          0.11241536373032723,
          null,
          null,
          null,
          null,
          null,
          null
         ],
         "yaxis": "y"
        },
        {
         "hovertemplate": "variable=2007<br>index=%{x}<br>value=%{y}<extra></extra>",
         "legendgroup": "2007",
         "line": {
          "color": "#B6E880",
          "dash": "solid",
          "shape": "spline"
         },
         "marker": {
          "symbol": "circle"
         },
         "mode": "lines+markers",
         "name": "2007",
         "orientation": "v",
         "showlegend": true,
         "type": "scatter",
         "x": [
          0,
          1,
          2,
          3,
          4,
          5,
          6,
          7,
          8,
          9,
          10,
          11,
          12,
          13,
          14,
          15,
          16,
          17,
          18,
          19,
          20,
          21
         ],
         "xaxis": "x",
         "y": [
          0.020781370402395288,
          0.05454975470402728,
          0.069776394400817,
          0.07708726088921326,
          0.08317362225768299,
          0.08697736348233749,
          0.08632709915745038,
          0.08814442288024354,
          0.08951696980561542,
          0.09224159309896388,
          0.0957491380398214,
          0.09862966231025332,
          0.10143764888654751,
          0.10156268064084725,
          0.10692391663769409,
          null,
          null,
          null,
          null,
          null,
          null,
          null
         ],
         "yaxis": "y"
        },
        {
         "hovertemplate": "variable=2008<br>index=%{x}<br>value=%{y}<extra></extra>",
         "legendgroup": "2008",
         "line": {
          "color": "#FF97FF",
          "dash": "solid",
          "shape": "spline"
         },
         "marker": {
          "symbol": "circle"
         },
         "mode": "lines+markers",
         "name": "2008",
         "orientation": "v",
         "showlegend": true,
         "type": "scatter",
         "x": [
          0,
          1,
          2,
          3,
          4,
          5,
          6,
          7,
          8,
          9,
          10,
          11,
          12,
          13,
          14,
          15,
          16,
          17,
          18,
          19,
          20,
          21
         ],
         "xaxis": "x",
         "y": [
          0.02003335316131034,
          0.04333638770620872,
          0.051445600115281154,
          0.058439116338201175,
          0.06627011941779633,
          0.07184653083339627,
          0.07845841635549278,
          0.08247717389640234,
          0.08633343538842578,
          0.09110145878014962,
          0.09540678163298436,
          0.0989590005843886,
          0.10062784672418754,
          0.10579088117080052,
          null,
          null,
          null,
          null,
          null,
          null,
          null,
          null
         ],
         "yaxis": "y"
        },
        {
         "hovertemplate": "variable=2009<br>index=%{x}<br>value=%{y}<extra></extra>",
         "legendgroup": "2009",
         "line": {
          "color": "#FECB52",
          "dash": "solid",
          "shape": "spline"
         },
         "marker": {
          "symbol": "circle"
         },
         "mode": "lines+markers",
         "name": "2009",
         "orientation": "v",
         "showlegend": true,
         "type": "scatter",
         "x": [
          0,
          1,
          2,
          3,
          4,
          5,
          6,
          7,
          8,
          9,
          10,
          11,
          12,
          13,
          14,
          15,
          16,
          17,
          18,
          19,
          20,
          21
         ],
         "xaxis": "x",
         "y": [
          0.007183950489112921,
          0.01854943807060822,
          0.028983590928695263,
          0.0528211974937537,
          0.06723468733290774,
          0.07644227565214083,
          0.08591930888222825,
          0.09469124092468398,
          0.10393962260351759,
          0.11233019838262544,
          0.11751908589271814,
          0.11766527477648725,
          0.12152678049394919,
          null,
          null,
          null,
          null,
          null,
          null,
          null,
          null,
          null
         ],
         "yaxis": "y"
        },
        {
         "hovertemplate": "variable=2010<br>index=%{x}<br>value=%{y}<extra></extra>",
         "legendgroup": "2010",
         "line": {
          "color": "#636efa",
          "dash": "solid",
          "shape": "spline"
         },
         "marker": {
          "symbol": "circle"
         },
         "mode": "lines+markers",
         "name": "2010",
         "orientation": "v",
         "showlegend": true,
         "type": "scatter",
         "x": [
          0,
          1,
          2,
          3,
          4,
          5,
          6,
          7,
          8,
          9,
          10,
          11,
          12,
          13,
          14,
          15,
          16,
          17,
          18,
          19,
          20,
          21
         ],
         "xaxis": "x",
         "y": [
          0.007153466036391175,
          0.01689574249837616,
          0.03353602978268772,
          0.0625570152150805,
          0.07947916033781159,
          0.09341295005080724,
          0.10480464929729363,
          0.11378919864835983,
          0.1206128278487349,
          0.12407570026251843,
          0.12405766959416313,
          0.1274782777531603,
          null,
          null,
          null,
          null,
          null,
          null,
          null,
          null,
          null,
          null
         ],
         "yaxis": "y"
        },
        {
         "hovertemplate": "variable=2011<br>index=%{x}<br>value=%{y}<extra></extra>",
         "legendgroup": "2011",
         "line": {
          "color": "#EF553B",
          "dash": "solid",
          "shape": "spline"
         },
         "marker": {
          "symbol": "circle"
         },
         "mode": "lines+markers",
         "name": "2011",
         "orientation": "v",
         "showlegend": true,
         "type": "scatter",
         "x": [
          0,
          1,
          2,
          3,
          4,
          5,
          6,
          7,
          8,
          9,
          10,
          11,
          12,
          13,
          14,
          15,
          16,
          17,
          18,
          19,
          20,
          21
         ],
         "xaxis": "x",
         "y": [
          0.007010054194771363,
          0.019108247391768095,
          0.03972048443442767,
          0.06908390677366669,
          0.08678376541901356,
          0.10248918253738815,
          0.11429584381400429,
          0.12470230564258968,
          0.12851793061779468,
          0.1300288636029178,
          0.13581760590081232,
          null,
          null,
          null,
          null,
          null,
          null,
          null,
          null,
          null,
          null,
          null
         ],
         "yaxis": "y"
        },
        {
         "hovertemplate": "variable=2012<br>index=%{x}<br>value=%{y}<extra></extra>",
         "legendgroup": "2012",
         "line": {
          "color": "#00cc96",
          "dash": "solid",
          "shape": "spline"
         },
         "marker": {
          "symbol": "circle"
         },
         "mode": "lines+markers",
         "name": "2012",
         "orientation": "v",
         "showlegend": true,
         "type": "scatter",
         "x": [
          0,
          1,
          2,
          3,
          4,
          5,
          6,
          7,
          8,
          9,
          10,
          11,
          12,
          13,
          14,
          15,
          16,
          17,
          18,
          19,
          20,
          21
         ],
         "xaxis": "x",
         "y": [
          0.008503170423381085,
          0.022824032230529243,
          0.040059149225596995,
          0.06847226608412736,
          0.08753960204633462,
          0.10217970053887081,
          0.11307118655861366,
          0.11961548876781185,
          0.12224282545706758,
          0.12853048361881375,
          null,
          null,
          null,
          null,
          null,
          null,
          null,
          null,
          null,
          null,
          null,
          null
         ],
         "yaxis": "y"
        },
        {
         "hovertemplate": "variable=2013<br>index=%{x}<br>value=%{y}<extra></extra>",
         "legendgroup": "2013",
         "line": {
          "color": "#ab63fa",
          "dash": "solid",
          "shape": "spline"
         },
         "marker": {
          "symbol": "circle"
         },
         "mode": "lines+markers",
         "name": "2013",
         "orientation": "v",
         "showlegend": true,
         "type": "scatter",
         "x": [
          0,
          1,
          2,
          3,
          4,
          5,
          6,
          7,
          8,
          9,
          10,
          11,
          12,
          13,
          14,
          15,
          16,
          17,
          18,
          19,
          20,
          21
         ],
         "xaxis": "x",
         "y": [
          0.011101401841144803,
          0.02240629949826171,
          0.04273202466431095,
          0.07263486464958449,
          0.09000639764854353,
          0.10499890974787611,
          0.11254630275127996,
          0.1160074738620309,
          0.12213701399886645,
          null,
          null,
          null,
          null,
          null,
          null,
          null,
          null,
          null,
          null,
          null,
          null,
          null
         ],
         "yaxis": "y"
        },
        {
         "hovertemplate": "variable=2014<br>index=%{x}<br>value=%{y}<extra></extra>",
         "legendgroup": "2014",
         "line": {
          "color": "#FFA15A",
          "dash": "solid",
          "shape": "spline"
         },
         "marker": {
          "symbol": "circle"
         },
         "mode": "lines+markers",
         "name": "2014",
         "orientation": "v",
         "showlegend": true,
         "type": "scatter",
         "x": [
          0,
          1,
          2,
          3,
          4,
          5,
          6,
          7,
          8,
          9,
          10,
          11,
          12,
          13,
          14,
          15,
          16,
          17,
          18,
          19,
          20,
          21
         ],
         "xaxis": "x",
         "y": [
          0.0060078260364341,
          0.01984811239055081,
          0.04489210120543304,
          0.07834649839232619,
          0.0981089990221972,
          0.10941065446629837,
          0.11502428681415264,
          0.12298651007476982,
          null,
          null,
          null,
          null,
          null,
          null,
          null,
          null,
          null,
          null,
          null,
          null,
          null,
          null
         ],
         "yaxis": "y"
        },
        {
         "hovertemplate": "variable=2015<br>index=%{x}<br>value=%{y}<extra></extra>",
         "legendgroup": "2015",
         "line": {
          "color": "#19d3f3",
          "dash": "solid",
          "shape": "spline"
         },
         "marker": {
          "symbol": "circle"
         },
         "mode": "lines+markers",
         "name": "2015",
         "orientation": "v",
         "showlegend": true,
         "type": "scatter",
         "x": [
          0,
          1,
          2,
          3,
          4,
          5,
          6,
          7,
          8,
          9,
          10,
          11,
          12,
          13,
          14,
          15,
          16,
          17,
          18,
          19,
          20,
          21
         ],
         "xaxis": "x",
         "y": [
          0.008150103444265597,
          0.024919731016678895,
          0.05079305615149998,
          0.08442294153885666,
          0.10026691436415802,
          0.10626629463030646,
          0.11774434027468535,
          null,
          null,
          null,
          null,
          null,
          null,
          null,
          null,
          null,
          null,
          null,
          null,
          null,
          null,
          null
         ],
         "yaxis": "y"
        },
        {
         "hovertemplate": "variable=2016<br>index=%{x}<br>value=%{y}<extra></extra>",
         "legendgroup": "2016",
         "line": {
          "color": "#FF6692",
          "dash": "solid",
          "shape": "spline"
         },
         "marker": {
          "symbol": "circle"
         },
         "mode": "lines+markers",
         "name": "2016",
         "orientation": "v",
         "showlegend": true,
         "type": "scatter",
         "x": [
          0,
          1,
          2,
          3,
          4,
          5,
          6,
          7,
          8,
          9,
          10,
          11,
          12,
          13,
          14,
          15,
          16,
          17,
          18,
          19,
          20,
          21
         ],
         "xaxis": "x",
         "y": [
          0.008545713628852572,
          0.025317948051211514,
          0.05242337573167392,
          0.08139442670626584,
          0.09052261115400409,
          0.10707144850583324,
          null,
          null,
          null,
          null,
          null,
          null,
          null,
          null,
          null,
          null,
          null,
          null,
          null,
          null,
          null,
          null
         ],
         "yaxis": "y"
        },
        {
         "hovertemplate": "variable=2017<br>index=%{x}<br>value=%{y}<extra></extra>",
         "legendgroup": "2017",
         "line": {
          "color": "#B6E880",
          "dash": "solid",
          "shape": "spline"
         },
         "marker": {
          "symbol": "circle"
         },
         "mode": "lines+markers",
         "name": "2017",
         "orientation": "v",
         "showlegend": true,
         "type": "scatter",
         "x": [
          0,
          1,
          2,
          3,
          4,
          5,
          6,
          7,
          8,
          9,
          10,
          11,
          12,
          13,
          14,
          15,
          16,
          17,
          18,
          19,
          20,
          21
         ],
         "xaxis": "x",
         "y": [
          0.011833033303905042,
          0.03164991670777729,
          0.05784711563008555,
          0.07574454786161994,
          0.10028855763720101,
          null,
          null,
          null,
          null,
          null,
          null,
          null,
          null,
          null,
          null,
          null,
          null,
          null,
          null,
          null,
          null,
          null
         ],
         "yaxis": "y"
        },
        {
         "hovertemplate": "variable=2018<br>index=%{x}<br>value=%{y}<extra></extra>",
         "legendgroup": "2018",
         "line": {
          "color": "#FF97FF",
          "dash": "solid",
          "shape": "spline"
         },
         "marker": {
          "symbol": "circle"
         },
         "mode": "lines+markers",
         "name": "2018",
         "orientation": "v",
         "showlegend": true,
         "type": "scatter",
         "x": [
          0,
          1,
          2,
          3,
          4,
          5,
          6,
          7,
          8,
          9,
          10,
          11,
          12,
          13,
          14,
          15,
          16,
          17,
          18,
          19,
          20,
          21
         ],
         "xaxis": "x",
         "y": [
          0.009509179671800086,
          0.02528805924184488,
          0.040669946198561374,
          0.07933318608621756,
          null,
          null,
          null,
          null,
          null,
          null,
          null,
          null,
          null,
          null,
          null,
          null,
          null,
          null,
          null,
          null,
          null,
          null
         ],
         "yaxis": "y"
        },
        {
         "hovertemplate": "variable=2019<br>index=%{x}<br>value=%{y}<extra></extra>",
         "legendgroup": "2019",
         "line": {
          "color": "#FECB52",
          "dash": "solid",
          "shape": "spline"
         },
         "marker": {
          "symbol": "circle"
         },
         "mode": "lines+markers",
         "name": "2019",
         "orientation": "v",
         "showlegend": true,
         "type": "scatter",
         "x": [
          0,
          1,
          2,
          3,
          4,
          5,
          6,
          7,
          8,
          9,
          10,
          11,
          12,
          13,
          14,
          15,
          16,
          17,
          18,
          19,
          20,
          21
         ],
         "xaxis": "x",
         "y": [
          0.009243839300289112,
          0.02050333323117669,
          0.04816272067437633,
          null,
          null,
          null,
          null,
          null,
          null,
          null,
          null,
          null,
          null,
          null,
          null,
          null,
          null,
          null,
          null,
          null,
          null,
          null
         ],
         "yaxis": "y"
        },
        {
         "hovertemplate": "variable=2020<br>index=%{x}<br>value=%{y}<extra></extra>",
         "legendgroup": "2020",
         "line": {
          "color": "#636efa",
          "dash": "solid",
          "shape": "spline"
         },
         "marker": {
          "symbol": "circle"
         },
         "mode": "lines+markers",
         "name": "2020",
         "orientation": "v",
         "showlegend": true,
         "type": "scatter",
         "x": [
          0,
          1,
          2,
          3,
          4,
          5,
          6,
          7,
          8,
          9,
          10,
          11,
          12,
          13,
          14,
          15,
          16,
          17,
          18,
          19,
          20,
          21
         ],
         "xaxis": "x",
         "y": [
          0.006547488459666693,
          0.03200097312825018,
          null,
          null,
          null,
          null,
          null,
          null,
          null,
          null,
          null,
          null,
          null,
          null,
          null,
          null,
          null,
          null,
          null,
          null,
          null,
          null
         ],
         "yaxis": "y"
        },
        {
         "hovertemplate": "variable=2021<br>index=%{x}<br>value=%{y}<extra></extra>",
         "legendgroup": "2021",
         "line": {
          "color": "#EF553B",
          "dash": "solid",
          "shape": "spline"
         },
         "marker": {
          "symbol": "circle"
         },
         "mode": "lines+markers",
         "name": "2021",
         "orientation": "v",
         "showlegend": true,
         "type": "scatter",
         "x": [
          0,
          1,
          2,
          3,
          4,
          5,
          6,
          7,
          8,
          9,
          10,
          11,
          12,
          13,
          14,
          15,
          16,
          17,
          18,
          19,
          20,
          21
         ],
         "xaxis": "x",
         "y": [
          0.014281391447348754,
          null,
          null,
          null,
          null,
          null,
          null,
          null,
          null,
          null,
          null,
          null,
          null,
          null,
          null,
          null,
          null,
          null,
          null,
          null,
          null,
          null
         ],
         "yaxis": "y"
        },
        {
         "hovertemplate": "variable=2022<br>index=%{x}<br>value=%{y}<extra></extra>",
         "legendgroup": "2022",
         "line": {
          "color": "#00cc96",
          "dash": "solid",
          "shape": "spline"
         },
         "marker": {
          "symbol": "circle"
         },
         "mode": "lines+markers",
         "name": "2022",
         "orientation": "v",
         "showlegend": true,
         "type": "scatter",
         "x": [
          0,
          1,
          2,
          3,
          4,
          5,
          6,
          7,
          8,
          9,
          10,
          11,
          12,
          13,
          14,
          15,
          16,
          17,
          18,
          19,
          20,
          21
         ],
         "xaxis": "x",
         "y": [
          0,
          null,
          null,
          null,
          null,
          null,
          null,
          null,
          null,
          null,
          null,
          null,
          null,
          null,
          null,
          null,
          null,
          null,
          null,
          null,
          null,
          null
         ],
         "yaxis": "y"
        }
       ],
       "layout": {
        "legend": {
         "title": {
          "text": "variable"
         },
         "tracegroupgap": 0
        },
        "template": {
         "data": {
          "bar": [
           {
            "error_x": {
             "color": "#2a3f5f"
            },
            "error_y": {
             "color": "#2a3f5f"
            },
            "marker": {
             "line": {
              "color": "#E5ECF6",
              "width": 0.5
             },
             "pattern": {
              "fillmode": "overlay",
              "size": 10,
              "solidity": 0.2
             }
            },
            "type": "bar"
           }
          ],
          "barpolar": [
           {
            "marker": {
             "line": {
              "color": "#E5ECF6",
              "width": 0.5
             },
             "pattern": {
              "fillmode": "overlay",
              "size": 10,
              "solidity": 0.2
             }
            },
            "type": "barpolar"
           }
          ],
          "carpet": [
           {
            "aaxis": {
             "endlinecolor": "#2a3f5f",
             "gridcolor": "white",
             "linecolor": "white",
             "minorgridcolor": "white",
             "startlinecolor": "#2a3f5f"
            },
            "baxis": {
             "endlinecolor": "#2a3f5f",
             "gridcolor": "white",
             "linecolor": "white",
             "minorgridcolor": "white",
             "startlinecolor": "#2a3f5f"
            },
            "type": "carpet"
           }
          ],
          "choropleth": [
           {
            "colorbar": {
             "outlinewidth": 0,
             "ticks": ""
            },
            "type": "choropleth"
           }
          ],
          "contour": [
           {
            "colorbar": {
             "outlinewidth": 0,
             "ticks": ""
            },
            "colorscale": [
             [
              0,
              "#0d0887"
             ],
             [
              0.1111111111111111,
              "#46039f"
             ],
             [
              0.2222222222222222,
              "#7201a8"
             ],
             [
              0.3333333333333333,
              "#9c179e"
             ],
             [
              0.4444444444444444,
              "#bd3786"
             ],
             [
              0.5555555555555556,
              "#d8576b"
             ],
             [
              0.6666666666666666,
              "#ed7953"
             ],
             [
              0.7777777777777778,
              "#fb9f3a"
             ],
             [
              0.8888888888888888,
              "#fdca26"
             ],
             [
              1,
              "#f0f921"
             ]
            ],
            "type": "contour"
           }
          ],
          "contourcarpet": [
           {
            "colorbar": {
             "outlinewidth": 0,
             "ticks": ""
            },
            "type": "contourcarpet"
           }
          ],
          "heatmap": [
           {
            "colorbar": {
             "outlinewidth": 0,
             "ticks": ""
            },
            "colorscale": [
             [
              0,
              "#0d0887"
             ],
             [
              0.1111111111111111,
              "#46039f"
             ],
             [
              0.2222222222222222,
              "#7201a8"
             ],
             [
              0.3333333333333333,
              "#9c179e"
             ],
             [
              0.4444444444444444,
              "#bd3786"
             ],
             [
              0.5555555555555556,
              "#d8576b"
             ],
             [
              0.6666666666666666,
              "#ed7953"
             ],
             [
              0.7777777777777778,
              "#fb9f3a"
             ],
             [
              0.8888888888888888,
              "#fdca26"
             ],
             [
              1,
              "#f0f921"
             ]
            ],
            "type": "heatmap"
           }
          ],
          "heatmapgl": [
           {
            "colorbar": {
             "outlinewidth": 0,
             "ticks": ""
            },
            "colorscale": [
             [
              0,
              "#0d0887"
             ],
             [
              0.1111111111111111,
              "#46039f"
             ],
             [
              0.2222222222222222,
              "#7201a8"
             ],
             [
              0.3333333333333333,
              "#9c179e"
             ],
             [
              0.4444444444444444,
              "#bd3786"
             ],
             [
              0.5555555555555556,
              "#d8576b"
             ],
             [
              0.6666666666666666,
              "#ed7953"
             ],
             [
              0.7777777777777778,
              "#fb9f3a"
             ],
             [
              0.8888888888888888,
              "#fdca26"
             ],
             [
              1,
              "#f0f921"
             ]
            ],
            "type": "heatmapgl"
           }
          ],
          "histogram": [
           {
            "marker": {
             "pattern": {
              "fillmode": "overlay",
              "size": 10,
              "solidity": 0.2
             }
            },
            "type": "histogram"
           }
          ],
          "histogram2d": [
           {
            "colorbar": {
             "outlinewidth": 0,
             "ticks": ""
            },
            "colorscale": [
             [
              0,
              "#0d0887"
             ],
             [
              0.1111111111111111,
              "#46039f"
             ],
             [
              0.2222222222222222,
              "#7201a8"
             ],
             [
              0.3333333333333333,
              "#9c179e"
             ],
             [
              0.4444444444444444,
              "#bd3786"
             ],
             [
              0.5555555555555556,
              "#d8576b"
             ],
             [
              0.6666666666666666,
              "#ed7953"
             ],
             [
              0.7777777777777778,
              "#fb9f3a"
             ],
             [
              0.8888888888888888,
              "#fdca26"
             ],
             [
              1,
              "#f0f921"
             ]
            ],
            "type": "histogram2d"
           }
          ],
          "histogram2dcontour": [
           {
            "colorbar": {
             "outlinewidth": 0,
             "ticks": ""
            },
            "colorscale": [
             [
              0,
              "#0d0887"
             ],
             [
              0.1111111111111111,
              "#46039f"
             ],
             [
              0.2222222222222222,
              "#7201a8"
             ],
             [
              0.3333333333333333,
              "#9c179e"
             ],
             [
              0.4444444444444444,
              "#bd3786"
             ],
             [
              0.5555555555555556,
              "#d8576b"
             ],
             [
              0.6666666666666666,
              "#ed7953"
             ],
             [
              0.7777777777777778,
              "#fb9f3a"
             ],
             [
              0.8888888888888888,
              "#fdca26"
             ],
             [
              1,
              "#f0f921"
             ]
            ],
            "type": "histogram2dcontour"
           }
          ],
          "mesh3d": [
           {
            "colorbar": {
             "outlinewidth": 0,
             "ticks": ""
            },
            "type": "mesh3d"
           }
          ],
          "parcoords": [
           {
            "line": {
             "colorbar": {
              "outlinewidth": 0,
              "ticks": ""
             }
            },
            "type": "parcoords"
           }
          ],
          "pie": [
           {
            "automargin": true,
            "type": "pie"
           }
          ],
          "scatter": [
           {
            "fillpattern": {
             "fillmode": "overlay",
             "size": 10,
             "solidity": 0.2
            },
            "type": "scatter"
           }
          ],
          "scatter3d": [
           {
            "line": {
             "colorbar": {
              "outlinewidth": 0,
              "ticks": ""
             }
            },
            "marker": {
             "colorbar": {
              "outlinewidth": 0,
              "ticks": ""
             }
            },
            "type": "scatter3d"
           }
          ],
          "scattercarpet": [
           {
            "marker": {
             "colorbar": {
              "outlinewidth": 0,
              "ticks": ""
             }
            },
            "type": "scattercarpet"
           }
          ],
          "scattergeo": [
           {
            "marker": {
             "colorbar": {
              "outlinewidth": 0,
              "ticks": ""
             }
            },
            "type": "scattergeo"
           }
          ],
          "scattergl": [
           {
            "marker": {
             "colorbar": {
              "outlinewidth": 0,
              "ticks": ""
             }
            },
            "type": "scattergl"
           }
          ],
          "scattermapbox": [
           {
            "marker": {
             "colorbar": {
              "outlinewidth": 0,
              "ticks": ""
             }
            },
            "type": "scattermapbox"
           }
          ],
          "scatterpolar": [
           {
            "marker": {
             "colorbar": {
              "outlinewidth": 0,
              "ticks": ""
             }
            },
            "type": "scatterpolar"
           }
          ],
          "scatterpolargl": [
           {
            "marker": {
             "colorbar": {
              "outlinewidth": 0,
              "ticks": ""
             }
            },
            "type": "scatterpolargl"
           }
          ],
          "scatterternary": [
           {
            "marker": {
             "colorbar": {
              "outlinewidth": 0,
              "ticks": ""
             }
            },
            "type": "scatterternary"
           }
          ],
          "surface": [
           {
            "colorbar": {
             "outlinewidth": 0,
             "ticks": ""
            },
            "colorscale": [
             [
              0,
              "#0d0887"
             ],
             [
              0.1111111111111111,
              "#46039f"
             ],
             [
              0.2222222222222222,
              "#7201a8"
             ],
             [
              0.3333333333333333,
              "#9c179e"
             ],
             [
              0.4444444444444444,
              "#bd3786"
             ],
             [
              0.5555555555555556,
              "#d8576b"
             ],
             [
              0.6666666666666666,
              "#ed7953"
             ],
             [
              0.7777777777777778,
              "#fb9f3a"
             ],
             [
              0.8888888888888888,
              "#fdca26"
             ],
             [
              1,
              "#f0f921"
             ]
            ],
            "type": "surface"
           }
          ],
          "table": [
           {
            "cells": {
             "fill": {
              "color": "#EBF0F8"
             },
             "line": {
              "color": "white"
             }
            },
            "header": {
             "fill": {
              "color": "#C8D4E3"
             },
             "line": {
              "color": "white"
             }
            },
            "type": "table"
           }
          ]
         },
         "layout": {
          "annotationdefaults": {
           "arrowcolor": "#2a3f5f",
           "arrowhead": 0,
           "arrowwidth": 1
          },
          "autotypenumbers": "strict",
          "coloraxis": {
           "colorbar": {
            "outlinewidth": 0,
            "ticks": ""
           }
          },
          "colorscale": {
           "diverging": [
            [
             0,
             "#8e0152"
            ],
            [
             0.1,
             "#c51b7d"
            ],
            [
             0.2,
             "#de77ae"
            ],
            [
             0.3,
             "#f1b6da"
            ],
            [
             0.4,
             "#fde0ef"
            ],
            [
             0.5,
             "#f7f7f7"
            ],
            [
             0.6,
             "#e6f5d0"
            ],
            [
             0.7,
             "#b8e186"
            ],
            [
             0.8,
             "#7fbc41"
            ],
            [
             0.9,
             "#4d9221"
            ],
            [
             1,
             "#276419"
            ]
           ],
           "sequential": [
            [
             0,
             "#0d0887"
            ],
            [
             0.1111111111111111,
             "#46039f"
            ],
            [
             0.2222222222222222,
             "#7201a8"
            ],
            [
             0.3333333333333333,
             "#9c179e"
            ],
            [
             0.4444444444444444,
             "#bd3786"
            ],
            [
             0.5555555555555556,
             "#d8576b"
            ],
            [
             0.6666666666666666,
             "#ed7953"
            ],
            [
             0.7777777777777778,
             "#fb9f3a"
            ],
            [
             0.8888888888888888,
             "#fdca26"
            ],
            [
             1,
             "#f0f921"
            ]
           ],
           "sequentialminus": [
            [
             0,
             "#0d0887"
            ],
            [
             0.1111111111111111,
             "#46039f"
            ],
            [
             0.2222222222222222,
             "#7201a8"
            ],
            [
             0.3333333333333333,
             "#9c179e"
            ],
            [
             0.4444444444444444,
             "#bd3786"
            ],
            [
             0.5555555555555556,
             "#d8576b"
            ],
            [
             0.6666666666666666,
             "#ed7953"
            ],
            [
             0.7777777777777778,
             "#fb9f3a"
            ],
            [
             0.8888888888888888,
             "#fdca26"
            ],
            [
             1,
             "#f0f921"
            ]
           ]
          },
          "colorway": [
           "#636efa",
           "#EF553B",
           "#00cc96",
           "#ab63fa",
           "#FFA15A",
           "#19d3f3",
           "#FF6692",
           "#B6E880",
           "#FF97FF",
           "#FECB52"
          ],
          "font": {
           "color": "#2a3f5f"
          },
          "geo": {
           "bgcolor": "white",
           "lakecolor": "white",
           "landcolor": "#E5ECF6",
           "showlakes": true,
           "showland": true,
           "subunitcolor": "white"
          },
          "hoverlabel": {
           "align": "left"
          },
          "hovermode": "closest",
          "mapbox": {
           "style": "light"
          },
          "paper_bgcolor": "white",
          "plot_bgcolor": "#E5ECF6",
          "polar": {
           "angularaxis": {
            "gridcolor": "white",
            "linecolor": "white",
            "ticks": ""
           },
           "bgcolor": "#E5ECF6",
           "radialaxis": {
            "gridcolor": "white",
            "linecolor": "white",
            "ticks": ""
           }
          },
          "scene": {
           "xaxis": {
            "backgroundcolor": "#E5ECF6",
            "gridcolor": "white",
            "gridwidth": 2,
            "linecolor": "white",
            "showbackground": true,
            "ticks": "",
            "zerolinecolor": "white"
           },
           "yaxis": {
            "backgroundcolor": "#E5ECF6",
            "gridcolor": "white",
            "gridwidth": 2,
            "linecolor": "white",
            "showbackground": true,
            "ticks": "",
            "zerolinecolor": "white"
           },
           "zaxis": {
            "backgroundcolor": "#E5ECF6",
            "gridcolor": "white",
            "gridwidth": 2,
            "linecolor": "white",
            "showbackground": true,
            "ticks": "",
            "zerolinecolor": "white"
           }
          },
          "shapedefaults": {
           "line": {
            "color": "#2a3f5f"
           }
          },
          "ternary": {
           "aaxis": {
            "gridcolor": "white",
            "linecolor": "white",
            "ticks": ""
           },
           "baxis": {
            "gridcolor": "white",
            "linecolor": "white",
            "ticks": ""
           },
           "bgcolor": "#E5ECF6",
           "caxis": {
            "gridcolor": "white",
            "linecolor": "white",
            "ticks": ""
           }
          },
          "title": {
           "x": 0.05
          },
          "xaxis": {
           "automargin": true,
           "gridcolor": "white",
           "linecolor": "white",
           "ticks": "",
           "title": {
            "standoff": 15
           },
           "zerolinecolor": "white",
           "zerolinewidth": 2
          },
          "yaxis": {
           "automargin": true,
           "gridcolor": "white",
           "linecolor": "white",
           "ticks": "",
           "title": {
            "standoff": 15
           },
           "zerolinecolor": "white",
           "zerolinewidth": 2
          }
         }
        },
        "title": {
         "text": "Lifetime Average CPR by Year from Origination"
        },
        "xaxis": {
         "anchor": "y",
         "domain": [
          0,
          1
         ],
         "title": {
          "text": "Year from Origination"
         }
        },
        "yaxis": {
         "anchor": "x",
         "domain": [
          0,
          1
         ],
         "tickformat": "0.0%",
         "title": {
          "text": "CPR"
         }
        }
       }
      }
     },
     "metadata": {},
     "output_type": "display_data"
    }
   ],
   "source": [
    "import plotly.express as px\n",
    "\n",
    "fig = px.line(lifetime_cprs.transpose(), line_shape= 'spline', title=\"Lifetime Average CPR by Year from Origination\", markers=True)\n",
    "fig.update_layout(yaxis_title='CPR', xaxis_title= 'Year from Origination', yaxis=dict(tickformat='0.0%'))"
   ]
  },
  {
   "cell_type": "code",
   "execution_count": null,
   "metadata": {},
   "outputs": [],
   "source": []
  }
 ],
 "metadata": {
  "kernelspec": {
   "display_name": "base",
   "language": "python",
   "name": "python3"
  },
  "language_info": {
   "codemirror_mode": {
    "name": "ipython",
    "version": 3
   },
   "file_extension": ".py",
   "mimetype": "text/x-python",
   "name": "python",
   "nbconvert_exporter": "python",
   "pygments_lexer": "ipython3",
   "version": "3.9.16"
  },
  "orig_nbformat": 4
 },
 "nbformat": 4,
 "nbformat_minor": 2
}
