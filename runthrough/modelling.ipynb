{
 "cells": [
  {
   "cell_type": "code",
   "execution_count": 1,
   "metadata": {},
   "outputs": [],
   "source": [
    "# Basic imports\n",
    "import pandas as pd\n",
    "import numpy as np\n",
    "import warnings\n",
    "warnings.filterwarnings('ignore')\n",
    "\n",
    "loan_data = pd.read_csv('raw_data/loans_v2.csv')\n",
    "\n",
    "date_cols = [c for c in loan_data.columns if str(c)[-2:]=='Dt']\n",
    "for col in date_cols:\n",
    "    loan_data[col] = pd.to_datetime(loan_data[col])"
   ]
  },
  {
   "cell_type": "code",
   "execution_count": 12,
   "metadata": {},
   "outputs": [],
   "source": [
    "# Filter to loans that have information we would get from a package and format columns for preprocessing\n",
    "loan_data = loan_data[loan_data['Code'].notna()]\n",
    "loan_data = loan_data[loan_data['Code']>0]\n",
    "loan_data['Code'] = loan_data['Code'].astype(int)\n",
    "loan_data = loan_data[loan_data['Margin'].notna()]\n",
    "# Filter to all paid off loans\n",
    "df = loan_data[loan_data['PP_qty'].notna()]\n",
    "df = df[df['LoanAmt'].notna()]\n",
    "df = df[df['MatBucket'].notna()]\n",
    "df.loc[df['MarginBucket'].isna(), 'MarginBucket'] = '0'\n",
    "df = df[['LoanAmt','MaturityMthsQty','MatBucket','Code','Margin','MarginBucket','state_abbreviation','PP_qty']]"
   ]
  },
  {
   "cell_type": "code",
   "execution_count": 45,
   "metadata": {},
   "outputs": [],
   "source": [
    "\n",
    "from imblearn.ensemble import BalancedRandomForestClassifier\n",
    "from sklearn.metrics import balanced_accuracy_score\n",
    "from sklearn.ensemble import RandomForestRegressor\n",
    "# ML preprocessing imports\n",
    "import sklearn.preprocessing as skp\n",
    "# Create label encoder for buckets \n",
    "le = skp.LabelEncoder()\n",
    "# Create dictionary for float scalers\n",
    "from sklearn.model_selection import train_test_split\n",
    "from sklearn.metrics import mean_squared_error, r2_score\n",
    "\n",
    "df['Code'] = le.fit_transform(df['Code'])\n",
    "df['MarginBucket'] = le.fit_transform(df['MarginBucket'])\n",
    "df['MatBucket'] = le.fit_transform(df['MatBucket'])\n",
    "df['state_abbreviation'] = le.fit_transform(df['state_abbreviation'])\n",
    "X = df.drop(columns='PP_qty')\n",
    "y = df['PP_qty']\n",
    "\n",
    "X_train, X_test, y_train, y_test = train_test_split(X, \n",
    "                                                    y, \n",
    "                                                    random_state=1,\n",
    "                                                    train_size=0.7)\n",
    "amount_cols = ['LoanAmt', 'MaturityMthsQty']\n",
    "\n",
    "scaler_dict = {c: None for c in amount_cols}\n",
    "\n",
    "for key in scaler_dict.keys():\n",
    "    scaler_dict[key] = skp.MinMaxScaler()\n",
    "    X_train[key] = scaler_dict[key].fit_transform(X_train[key].values.reshape(-1,1))\n",
    "    X_test[key] = scaler_dict[key].transform(X_test[key].values.reshape(-1,1))\n",
    "\n",
    "# Calculated the balanced accuracy score\n",
    "rf = RandomForestRegressor(n_estimators=1000, random_state=1)\n",
    "rf.fit(X_train, y_train)\n",
    "\n",
    "y_pred = rf.predict(X_test,y_test)"
   ]
  },
  {
   "cell_type": "code",
   "execution_count": 44,
   "metadata": {},
   "outputs": [
    {
     "name": "stdout",
     "output_type": "stream",
     "text": [
      "R-squared: 0.09425878803825616\n",
      "RMSE: 32.748471322009365\n"
     ]
    }
   ],
   "source": [
    "from sklearn.metrics import mean_squared_error, r2_score\n",
    "\n",
    "r2 = r2_score(y_test,y_pred)\n",
    "print('R-squared:', r2)\n",
    "\n",
    "rmse = mean_squared_error(y_test, y_pred, squared=False)\n",
    "print('RMSE:', rmse)\n"
   ]
  },
  {
   "cell_type": "code",
   "execution_count": null,
   "metadata": {},
   "outputs": [],
   "source": [
    "from imblearn.ensemble import BalancedRandomForestClassifier\n",
    "from sklearn.metrics import balanced_accuracy_score\n",
    "from sklearn.ensemble import RandomForestRegressor\n",
    "\n",
    "# Calculated the balanced accuracy score\n",
    "rf = RandomForestRegressor(n_estimators=100, random_state=1)\n",
    "rf.fit(X_train, y_train)\n",
    "\n",
    "\n"
   ]
  },
  {
   "cell_type": "code",
   "execution_count": 18,
   "metadata": {},
   "outputs": [],
   "source": [
    "y_pred = rf.predict(X_test)"
   ]
  },
  {
   "cell_type": "code",
   "execution_count": 24,
   "metadata": {},
   "outputs": [],
   "source": [
    "pred_vs_actual = pd.DataFrame(dict(actual=y_test,predictions=y_pred)).reset_index().drop(columns='index')"
   ]
  },
  {
   "cell_type": "code",
   "execution_count": 42,
   "metadata": {},
   "outputs": [
    {
     "data": {
      "text/plain": [
       "<AxesSubplot: title={'center': 'Features Importances: Top 10'}, ylabel='1'>"
      ]
     },
     "execution_count": 42,
     "metadata": {},
     "output_type": "execute_result"
    },
    {
     "data": {
      "image/png": "[encoded data removed]",
      "text/plain": [
       "<Figure size 640x480 with 1 Axes>"
      ]
     },
     "metadata": {},
     "output_type": "display_data"
    }
   ],
   "source": [
    "\n",
    "importances_df = pd.DataFrame(sorted(zip(rf.feature_importances_, X.columns), reverse=True))\n",
    "importances_df.set_index(importances_df[1], inplace=True)\n",
    "importances_df.drop(columns=1, inplace=True)\n",
    "importances_df.rename(columns={0: 'Feature Importances'}, inplace=True)\n",
    "importances_sorted = importances_df.sort_values(by='Feature Importances', ascending=False)\n",
    "importances_sorted.head(10).plot(kind='barh', color='lightblue', title= 'Features Importances: Top 10', legend=False)"
   ]
  },
  {
   "cell_type": "code",
   "execution_count": null,
   "metadata": {},
   "outputs": [],
   "source": [
    "\n",
    "importances_df.drop(columns=1, inplace=True)\n",
    "importances_df.rename(columns={0: 'Feature Importances'}, inplace=True)\n",
    "importances_df.set_index(importances_df[1], inplace=True)\n",
    "importances_sorted = importances_df.sort_values(by='Feature Importances', ascending=False)\n",
    "importances_sorted.head(10).plot(kind='barh', color='lightblue', title= 'Features Importances: Top 10', legend=False)"
   ]
  },
  {
   "cell_type": "code",
   "execution_count": 43,
   "metadata": {},
   "outputs": [],
   "source": [
    "import graphviz"
   ]
  },
  {
   "cell_type": "code",
   "execution_count": null,
   "metadata": {},
   "outputs": [],
   "source": []
  }
 ],
 "metadata": {
  "kernelspec": {
   "display_name": "base",
   "language": "python",
   "name": "python3"
  },
  "language_info": {
   "codemirror_mode": {
    "name": "ipython",
    "version": 3
   },
   "file_extension": ".py",
   "mimetype": "text/x-python",
   "name": "python",
   "nbconvert_exporter": "python",
   "pygments_lexer": "ipython3",
   "version": "3.9.16"
  },
  "orig_nbformat": 4
 },
 "nbformat": 4,
 "nbformat_minor": 2
}
