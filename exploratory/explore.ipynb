{
 "cells": [
  {
   "cell_type": "code",
   "execution_count": 1,
   "metadata": {},
   "outputs": [],
   "source": [
    "import pandas as pd\n",
    "import sqlalchemy as sa\n",
    "import numpy as np \n",
    "import os \n",
    "from dotenv import load_dotenv\n",
    "import warnings\n",
    "warnings.filterwarnings('ignore')\n",
    "import pooler\n",
    "from pooler import pool, handler"
   ]
  },
  {
   "cell_type": "code",
   "execution_count": 2,
   "metadata": {},
   "outputs": [],
   "source": [
    "loan_data = pd.read_csv('../runthrough/raw_data/master_loan_tape.csv')"
   ]
  },
  {
   "cell_type": "code",
   "execution_count": 18,
   "metadata": {},
   "outputs": [
    {
     "data": {
      "text/plain": [
       "(0.02, 0.0325]      135109\n",
       "(0.0125, 0.02]       52013\n",
       "(-0.001, 0.0125]     48152\n",
       "(0.0325, inf]        22275\n",
       "Name: buckets, dtype: int64"
      ]
     },
     "execution_count": 18,
     "metadata": {},
     "output_type": "execute_result"
    }
   ],
   "source": [
    "data_slice = loan_data[loan_data['MatBucket']=='8-11']\n",
    "\n",
    "data_slice['buckets'] = pd.cut(data_slice['Margin'], bins=bins)\n",
    "\n",
    "data_slice['buckets'].value_counts()\n"
   ]
  },
  {
   "cell_type": "code",
   "execution_count": 21,
   "metadata": {},
   "outputs": [
    {
     "name": "stdout",
     "output_type": "stream",
     "text": [
      "{'21+': {'0.025 - 0.0275': [], '0.0275+': [], '0.0175 - 0.02': [], '0.0 - 0.01': [], '0.02 - 0.0225': [], '0.0225 - 0.025': [], '0.0125 - 0.015': [], '0.015 - 0.0175': [], '0.01 - 0.0125': []}, '8-11': {'0.025 - 0.0275': [], '0.0275+': [], '0.0175 - 0.02': [], '0.0 - 0.01': [], '0.02 - 0.0225': [], '0.0225 - 0.025': [], '0.0125 - 0.015': [], '0.015 - 0.0175': [], '0.01 - 0.0125': []}}\n"
     ]
    }
   ],
   "source": [
    "maturities = ['21+', '8-11']\n",
    "sub_selection_margin = loan_data['MarginBucket'].value_counts().index.to_list()\n",
    "workload = {}\n",
    "for m in maturities:\n",
    "    workload[m] = {s:[] for s in sub_selection_margin}\n",
    "\n",
    "print(workload)\n"
   ]
  },
  {
   "cell_type": "code",
   "execution_count": 6,
   "metadata": {},
   "outputs": [],
   "source": [
    "import time\n",
    "def debug(func):\n",
    "    def wrapper(*args, **kwargs):\n",
    "        start_time = time.time()\n",
    "        result = func(*args, **kwargs)\n",
    "        end_time = time.time()\n",
    "        print(f\"Function {func.__name__} took {end_time-start_time:.2f}s\")\n",
    "        return result\n",
    "    return wrapper\n",
    "\n",
    "@debug\n",
    "def main(df):\n",
    "    return handler.convert_dict_3d(df)"
   ]
  },
  {
   "cell_type": "code",
   "execution_count": 7,
   "metadata": {},
   "outputs": [
    {
     "name": "stdout",
     "output_type": "stream",
     "text": [
      "Function main took 11.86s\n"
     ]
    }
   ],
   "source": [
    "test = main(my_slice)"
   ]
  },
  {
   "cell_type": "code",
   "execution_count": 8,
   "metadata": {},
   "outputs": [
    {
     "data": {
      "text/html": [
       "<div>\n",
       "<style scoped>\n",
       "    .dataframe tbody tr th:only-of-type {\n",
       "        vertical-align: middle;\n",
       "    }\n",
       "\n",
       "    .dataframe tbody tr th {\n",
       "        vertical-align: top;\n",
       "    }\n",
       "\n",
       "    .dataframe thead th {\n",
       "        text-align: right;\n",
       "    }\n",
       "</style>\n",
       "<table border=\"1\" class=\"dataframe\">\n",
       "  <thead>\n",
       "    <tr style=\"text-align: right;\">\n",
       "      <th></th>\n",
       "      <th>outstanding</th>\n",
       "      <th>prepayments</th>\n",
       "      <th>defaults</th>\n",
       "    </tr>\n",
       "  </thead>\n",
       "  <tbody>\n",
       "    <tr>\n",
       "      <th>2008.04</th>\n",
       "      <td>[261.0, 261.0, 261.0, 261.0, 261.0, 261.0, 260...</td>\n",
       "      <td>[0.0, 0.0, 0.0, 0.0, 0.0, 1.0, 0.0, 0.0, 0.0, ...</td>\n",
       "      <td>[0.0, 0.0, 0.0, 0.0, 0.0, 0.0, 0.0, 0.0, 0.0, ...</td>\n",
       "    </tr>\n",
       "    <tr>\n",
       "      <th>2000.02</th>\n",
       "      <td>[329.0, 329.0, 329.0, 329.0, 329.0, 328.0, 328...</td>\n",
       "      <td>[0.0, 0.0, 0.0, 0.0, 0.0, 0.0, 1.0, 1.0, 0.0, ...</td>\n",
       "      <td>[0.0, 0.0, 0.0, 0.0, 1.0, 0.0, 0.0, 0.0, 0.0, ...</td>\n",
       "    </tr>\n",
       "    <tr>\n",
       "      <th>2000.08</th>\n",
       "      <td>[454.0, 454.0, 454.0, 454.0, 454.0, 454.0, 452...</td>\n",
       "      <td>[0.0, 0.0, 0.0, 0.0, 0.0, 2.0, 0.0, 2.0, 0.0, ...</td>\n",
       "      <td>[0.0, 0.0, 0.0, 0.0, 0.0, 0.0, 1.0, 0.0, 0.0, ...</td>\n",
       "    </tr>\n",
       "    <tr>\n",
       "      <th>2000.01</th>\n",
       "      <td>[443.0, 443.0, 443.0, 443.0, 442.0, 441.0, 441...</td>\n",
       "      <td>[0.0, 0.0, 0.0, 0.0, 1.0, 0.0, 0.0, 1.0, 0.0, ...</td>\n",
       "      <td>[0.0, 0.0, 0.0, 1.0, 0.0, 0.0, 0.0, 2.0, 0.0, ...</td>\n",
       "    </tr>\n",
       "    <tr>\n",
       "      <th>2000.03</th>\n",
       "      <td>[454.0, 454.0, 454.0, 454.0, 454.0, 452.0, 450...</td>\n",
       "      <td>[0.0, 0.0, 0.0, 0.0, 2.0, 1.0, 0.0, 2.0, 0.0, ...</td>\n",
       "      <td>[0.0, 0.0, 0.0, 0.0, 0.0, 1.0, 0.0, 0.0, 0.0, ...</td>\n",
       "    </tr>\n",
       "    <tr>\n",
       "      <th>...</th>\n",
       "      <td>...</td>\n",
       "      <td>...</td>\n",
       "      <td>...</td>\n",
       "    </tr>\n",
       "    <tr>\n",
       "      <th>2020.12</th>\n",
       "      <td>[489.0, 489.0, 488.0, 487.0, 487.0, 487.0, 487...</td>\n",
       "      <td>[0.0, 1.0, 1.0, 0.0, 0.0, 0.0, 0.0, 1.0, 0.0, ...</td>\n",
       "      <td>[0.0, 0.0, 0.0, 0.0, 0.0, 0.0, 0.0, 0.0, 0.0, ...</td>\n",
       "    </tr>\n",
       "    <tr>\n",
       "      <th>2022.09</th>\n",
       "      <td>[169.0, 169.0, 169.0, 169.0, 169.0, 169.0, 169...</td>\n",
       "      <td>[0.0, 0.0, 0.0, 0.0, 0.0, 0.0, 0.0, 0.0, 0.0, ...</td>\n",
       "      <td>[0.0, 0.0, 0.0, 0.0, 0.0, 0.0, 0.0, 0.0, 0.0, ...</td>\n",
       "    </tr>\n",
       "    <tr>\n",
       "      <th>2004.10</th>\n",
       "      <td>[402.0, 402.0, 402.0, 401.0, 401.0, 400.0, 397...</td>\n",
       "      <td>[0.0, 0.0, 1.0, 0.0, 0.0, 3.0, 0.0, 1.0, 0.0, ...</td>\n",
       "      <td>[0.0, 0.0, 0.0, 0.0, 1.0, 0.0, 0.0, 0.0, 0.0, ...</td>\n",
       "    </tr>\n",
       "    <tr>\n",
       "      <th>2022.10</th>\n",
       "      <td>[10.0, 10.0, 10.0, 10.0, 10.0, 10.0, 10.0, 10....</td>\n",
       "      <td>[0.0, 0.0, 0.0, 0.0, 0.0, 0.0, 0.0, 0.0, 0.0, ...</td>\n",
       "      <td>[0.0, 0.0, 0.0, 0.0, 0.0, 0.0, 0.0, 0.0, 0.0, ...</td>\n",
       "    </tr>\n",
       "    <tr>\n",
       "      <th>2022.12</th>\n",
       "      <td>[1.0, 1.0, 1.0, 1.0, 1.0, 1.0, 1.0, 1.0, 1.0, ...</td>\n",
       "      <td>[0.0, 0.0, 0.0, 0.0, 0.0, 0.0, 0.0, 0.0, 0.0, ...</td>\n",
       "      <td>[0.0, 0.0, 0.0, 0.0, 0.0, 0.0, 0.0, 0.0, 0.0, ...</td>\n",
       "    </tr>\n",
       "  </tbody>\n",
       "</table>\n",
       "<p>275 rows × 3 columns</p>\n",
       "</div>"
      ],
      "text/plain": [
       "                                               outstanding  \\\n",
       "2008.04  [261.0, 261.0, 261.0, 261.0, 261.0, 261.0, 260...   \n",
       "2000.02  [329.0, 329.0, 329.0, 329.0, 329.0, 328.0, 328...   \n",
       "2000.08  [454.0, 454.0, 454.0, 454.0, 454.0, 454.0, 452...   \n",
       "2000.01  [443.0, 443.0, 443.0, 443.0, 442.0, 441.0, 441...   \n",
       "2000.03  [454.0, 454.0, 454.0, 454.0, 454.0, 452.0, 450...   \n",
       "...                                                    ...   \n",
       "2020.12  [489.0, 489.0, 488.0, 487.0, 487.0, 487.0, 487...   \n",
       "2022.09  [169.0, 169.0, 169.0, 169.0, 169.0, 169.0, 169...   \n",
       "2004.10  [402.0, 402.0, 402.0, 401.0, 401.0, 400.0, 397...   \n",
       "2022.10  [10.0, 10.0, 10.0, 10.0, 10.0, 10.0, 10.0, 10....   \n",
       "2022.12  [1.0, 1.0, 1.0, 1.0, 1.0, 1.0, 1.0, 1.0, 1.0, ...   \n",
       "\n",
       "                                               prepayments  \\\n",
       "2008.04  [0.0, 0.0, 0.0, 0.0, 0.0, 1.0, 0.0, 0.0, 0.0, ...   \n",
       "2000.02  [0.0, 0.0, 0.0, 0.0, 0.0, 0.0, 1.0, 1.0, 0.0, ...   \n",
       "2000.08  [0.0, 0.0, 0.0, 0.0, 0.0, 2.0, 0.0, 2.0, 0.0, ...   \n",
       "2000.01  [0.0, 0.0, 0.0, 0.0, 1.0, 0.0, 0.0, 1.0, 0.0, ...   \n",
       "2000.03  [0.0, 0.0, 0.0, 0.0, 2.0, 1.0, 0.0, 2.0, 0.0, ...   \n",
       "...                                                    ...   \n",
       "2020.12  [0.0, 1.0, 1.0, 0.0, 0.0, 0.0, 0.0, 1.0, 0.0, ...   \n",
       "2022.09  [0.0, 0.0, 0.0, 0.0, 0.0, 0.0, 0.0, 0.0, 0.0, ...   \n",
       "2004.10  [0.0, 0.0, 1.0, 0.0, 0.0, 3.0, 0.0, 1.0, 0.0, ...   \n",
       "2022.10  [0.0, 0.0, 0.0, 0.0, 0.0, 0.0, 0.0, 0.0, 0.0, ...   \n",
       "2022.12  [0.0, 0.0, 0.0, 0.0, 0.0, 0.0, 0.0, 0.0, 0.0, ...   \n",
       "\n",
       "                                                  defaults  \n",
       "2008.04  [0.0, 0.0, 0.0, 0.0, 0.0, 0.0, 0.0, 0.0, 0.0, ...  \n",
       "2000.02  [0.0, 0.0, 0.0, 0.0, 1.0, 0.0, 0.0, 0.0, 0.0, ...  \n",
       "2000.08  [0.0, 0.0, 0.0, 0.0, 0.0, 0.0, 1.0, 0.0, 0.0, ...  \n",
       "2000.01  [0.0, 0.0, 0.0, 1.0, 0.0, 0.0, 0.0, 2.0, 0.0, ...  \n",
       "2000.03  [0.0, 0.0, 0.0, 0.0, 0.0, 1.0, 0.0, 0.0, 0.0, ...  \n",
       "...                                                    ...  \n",
       "2020.12  [0.0, 0.0, 0.0, 0.0, 0.0, 0.0, 0.0, 0.0, 0.0, ...  \n",
       "2022.09  [0.0, 0.0, 0.0, 0.0, 0.0, 0.0, 0.0, 0.0, 0.0, ...  \n",
       "2004.10  [0.0, 0.0, 0.0, 0.0, 1.0, 0.0, 0.0, 0.0, 0.0, ...  \n",
       "2022.10  [0.0, 0.0, 0.0, 0.0, 0.0, 0.0, 0.0, 0.0, 0.0, ...  \n",
       "2022.12  [0.0, 0.0, 0.0, 0.0, 0.0, 0.0, 0.0, 0.0, 0.0, ...  \n",
       "\n",
       "[275 rows x 3 columns]"
      ]
     },
     "execution_count": 8,
     "metadata": {},
     "output_type": "execute_result"
    }
   ],
   "source": [
    "test"
   ]
  },
  {
   "cell_type": "code",
   "execution_count": null,
   "metadata": {},
   "outputs": [],
   "source": []
  }
 ],
 "metadata": {
  "kernelspec": {
   "display_name": "runthrough",
   "language": "python",
   "name": "python3"
  },
  "language_info": {
   "codemirror_mode": {
    "name": "ipython",
    "version": 3
   },
   "file_extension": ".py",
   "mimetype": "text/x-python",
   "name": "python",
   "nbconvert_exporter": "python",
   "pygments_lexer": "ipython3",
   "version": "3.9.16"
  },
  "orig_nbformat": 4
 },
 "nbformat": 4,
 "nbformat_minor": 2
}
