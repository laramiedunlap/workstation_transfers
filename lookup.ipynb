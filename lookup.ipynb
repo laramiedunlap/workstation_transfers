{
 "cells": [
  {
   "cell_type": "code",
   "execution_count": 128,
   "metadata": {},
   "outputs": [],
   "source": [
    "from csv import reader\n",
    "import os\n",
    "import regex as re\n",
    "import pandas as pd\n"
   ]
  },
  {
   "cell_type": "code",
   "execution_count": 129,
   "metadata": {},
   "outputs": [],
   "source": [
    "\n",
    "search_in = os.listdir('C:/Users/Laramie/Desktop/data_REVL/elips_code_csvs')[:-1]\n",
    "\n",
    "to_test = re.compile(r'^.+revolving.+$', re.IGNORECASE, re.BESTMATCH)\n",
    "captured = {}\n",
    "for f in search_in:\n",
    "    with open(f, 'r') as file:\n",
    "        for line in file:\n",
    "            found = to_test.search(line)\n",
    "            if not found:\n",
    "                pass\n",
    "            else:\n",
    "                if file.name not in captured.keys():\n",
    "                    captured[file.name] = list(line)\n",
    "                else:\n",
    "                    captured[file.name].append(line)\n",
    "\n",
    "                    \n"
   ]
  },
  {
   "cell_type": "code",
   "execution_count": 130,
   "metadata": {},
   "outputs": [],
   "source": [
    "search_in = os.listdir('C:/Users/Laramie/Desktop/data_REVL/elips_code_csvs')[:-1]\n",
    "\n",
    "to_test = re.compile(r'^.+revolving.+$', re.IGNORECASE, re.BESTMATCH)\n",
    "captured = {}\n",
    "for f in search_in:\n",
    "    df = pd.read_csv(f)\n",
    "    "
   ]
  },
  {
   "cell_type": "code",
   "execution_count": 131,
   "metadata": {},
   "outputs": [],
   "source": [
    "to_test = re.compile(r'^.+revolving.+$', re.IGNORECASE, re.BESTMATCH)"
   ]
  },
  {
   "cell_type": "code",
   "execution_count": 141,
   "metadata": {},
   "outputs": [
    {
     "data": {
      "text/html": [
       "<div>\n",
       "<style scoped>\n",
       "    .dataframe tbody tr th:only-of-type {\n",
       "        vertical-align: middle;\n",
       "    }\n",
       "\n",
       "    .dataframe tbody tr th {\n",
       "        vertical-align: top;\n",
       "    }\n",
       "\n",
       "    .dataframe thead th {\n",
       "        text-align: right;\n",
       "    }\n",
       "</style>\n",
       "<table border=\"1\" class=\"dataframe\">\n",
       "  <thead>\n",
       "    <tr style=\"text-align: right;\">\n",
       "      <th></th>\n",
       "      <th>DESCRIPTION</th>\n",
       "    </tr>\n",
       "    <tr>\n",
       "      <th>SUBPROGRAMCD</th>\n",
       "      <th></th>\n",
       "    </tr>\n",
       "  </thead>\n",
       "  <tbody>\n",
       "    <tr>\n",
       "      <th>1005</th>\n",
       "      <td>line of credit guaranty</td>\n",
       "    </tr>\n",
       "    <tr>\n",
       "      <th>1007</th>\n",
       "      <td>seasonal line of credit</td>\n",
       "    </tr>\n",
       "    <tr>\n",
       "      <th>1013</th>\n",
       "      <td>revolving line of credit exports - sec. 7(a) (14)</td>\n",
       "    </tr>\n",
       "    <tr>\n",
       "      <th>1021</th>\n",
       "      <td>domestic revolving line of credit - current as...</td>\n",
       "    </tr>\n",
       "    <tr>\n",
       "      <th>1022</th>\n",
       "      <td>domestic revolving line of credit - fixed assets</td>\n",
       "    </tr>\n",
       "    <tr>\n",
       "      <th>1023</th>\n",
       "      <td>greenline - revolving l. of cred. - current as...</td>\n",
       "    </tr>\n",
       "    <tr>\n",
       "      <th>1024</th>\n",
       "      <td>greenline - revolving l. of cred. - fixed assets</td>\n",
       "    </tr>\n",
       "    <tr>\n",
       "      <th>3005</th>\n",
       "      <td>line of credit guaranty</td>\n",
       "    </tr>\n",
       "    <tr>\n",
       "      <th>3007</th>\n",
       "      <td>seasonal line of credit</td>\n",
       "    </tr>\n",
       "    <tr>\n",
       "      <th>3009</th>\n",
       "      <td>pilot revolving line of credit exports</td>\n",
       "    </tr>\n",
       "  </tbody>\n",
       "</table>\n",
       "</div>"
      ],
      "text/plain": [
       "                                                    DESCRIPTION\n",
       "SUBPROGRAMCD                                                   \n",
       "1005                                    line of credit guaranty\n",
       "1007                                    seasonal line of credit\n",
       "1013          revolving line of credit exports - sec. 7(a) (14)\n",
       "1021          domestic revolving line of credit - current as...\n",
       "1022           domestic revolving line of credit - fixed assets\n",
       "1023          greenline - revolving l. of cred. - current as...\n",
       "1024           greenline - revolving l. of cred. - fixed assets\n",
       "3005                                    line of credit guaranty\n",
       "3007                                    seasonal line of credit\n",
       "3009                     pilot revolving line of credit exports"
      ]
     },
     "execution_count": 141,
     "metadata": {},
     "output_type": "execute_result"
    }
   ],
   "source": [
    "df = pd.read_csv('ELIPSLOOKUP_SUBPGMCDTBL.csv')\n",
    "df = df[df.columns[:2]]\n",
    "df['DESCRIPTION']=df['DESCRIPTION'].str.lower()\n",
    "df[(df['DESCRIPTION'].str.contains('rev'))|(df['DESCRIPTION'].str.contains('line'))].set_index('SUBPROGRAMCD')"
   ]
  },
  {
   "cell_type": "code",
   "execution_count": 142,
   "metadata": {},
   "outputs": [
    {
     "data": {
      "text/html": [
       "<div>\n",
       "<style scoped>\n",
       "    .dataframe tbody tr th:only-of-type {\n",
       "        vertical-align: middle;\n",
       "    }\n",
       "\n",
       "    .dataframe tbody tr th {\n",
       "        vertical-align: top;\n",
       "    }\n",
       "\n",
       "    .dataframe thead th {\n",
       "        text-align: right;\n",
       "    }\n",
       "</style>\n",
       "<table border=\"1\" class=\"dataframe\">\n",
       "  <thead>\n",
       "    <tr style=\"text-align: right;\">\n",
       "      <th></th>\n",
       "      <th>SUBPROGRAMCD</th>\n",
       "      <th>DESCRIPTION</th>\n",
       "    </tr>\n",
       "  </thead>\n",
       "  <tbody>\n",
       "    <tr>\n",
       "      <th>22</th>\n",
       "      <td>1026</td>\n",
       "      <td>standard asset based</td>\n",
       "    </tr>\n",
       "  </tbody>\n",
       "</table>\n",
       "</div>"
      ],
      "text/plain": [
       "    SUBPROGRAMCD           DESCRIPTION\n",
       "22          1026  standard asset based"
      ]
     },
     "execution_count": 142,
     "metadata": {},
     "output_type": "execute_result"
    }
   ],
   "source": [
    "df[df['SUBPROGRAMCD']==1026]"
   ]
  },
  {
   "cell_type": "code",
   "execution_count": 134,
   "metadata": {},
   "outputs": [
    {
     "data": {
      "text/html": [
       "<div>\n",
       "<style scoped>\n",
       "    .dataframe tbody tr th:only-of-type {\n",
       "        vertical-align: middle;\n",
       "    }\n",
       "\n",
       "    .dataframe tbody tr th {\n",
       "        vertical-align: top;\n",
       "    }\n",
       "\n",
       "    .dataframe thead th {\n",
       "        text-align: right;\n",
       "    }\n",
       "</style>\n",
       "<table border=\"1\" class=\"dataframe\">\n",
       "  <thead>\n",
       "    <tr style=\"text-align: right;\">\n",
       "      <th></th>\n",
       "      <th>DESCRIPTION</th>\n",
       "    </tr>\n",
       "    <tr>\n",
       "      <th>GENERALLEDGERCD</th>\n",
       "      <th></th>\n",
       "    </tr>\n",
       "  </thead>\n",
       "  <tbody>\n",
       "    <tr>\n",
       "      <th>3011</th>\n",
       "      <td>net assets fm sba revolv fund</td>\n",
       "    </tr>\n",
       "    <tr>\n",
       "      <th>3018</th>\n",
       "      <td>repayments fm revolving funds</td>\n",
       "    </tr>\n",
       "  </tbody>\n",
       "</table>\n",
       "</div>"
      ],
      "text/plain": [
       "                                   DESCRIPTION\n",
       "GENERALLEDGERCD                               \n",
       "3011             net assets fm sba revolv fund\n",
       "3018             repayments fm revolving funds"
      ]
     },
     "execution_count": 134,
     "metadata": {},
     "output_type": "execute_result"
    }
   ],
   "source": [
    "df = pd.read_csv('ELIPSLOOKUP_GENLDGCDTBL.csv')\n",
    "df = df[df.columns[:2]]\n",
    "df['DESCRIPTION']=df['DESCRIPTION'].str.lower()\n",
    "df[df['DESCRIPTION'].str.contains('rev')].set_index('GENERALLEDGERCD')"
   ]
  },
  {
   "cell_type": "code",
   "execution_count": 139,
   "metadata": {},
   "outputs": [
    {
     "data": {
      "text/html": [
       "<div>\n",
       "<style scoped>\n",
       "    .dataframe tbody tr th:only-of-type {\n",
       "        vertical-align: middle;\n",
       "    }\n",
       "\n",
       "    .dataframe tbody tr th {\n",
       "        vertical-align: top;\n",
       "    }\n",
       "\n",
       "    .dataframe thead th {\n",
       "        text-align: right;\n",
       "    }\n",
       "</style>\n",
       "<table border=\"1\" class=\"dataframe\">\n",
       "  <thead>\n",
       "    <tr style=\"text-align: right;\">\n",
       "      <th></th>\n",
       "      <th>DESCRIPTION</th>\n",
       "    </tr>\n",
       "    <tr>\n",
       "      <th>TRANSACTIONCD</th>\n",
       "      <th></th>\n",
       "    </tr>\n",
       "  </thead>\n",
       "  <tbody>\n",
       "    <tr>\n",
       "      <th>361</th>\n",
       "      <td>line-of-credit guarantee fees collection</td>\n",
       "    </tr>\n",
       "    <tr>\n",
       "      <th>171</th>\n",
       "      <td>sbic drawdown credit</td>\n",
       "    </tr>\n",
       "    <tr>\n",
       "      <th>143</th>\n",
       "      <td>loan approval reinstatement - pre credit reform</td>\n",
       "    </tr>\n",
       "    <tr>\n",
       "      <th>399</th>\n",
       "      <td>increase of treasury borrowing - credit reform</td>\n",
       "    </tr>\n",
       "    <tr>\n",
       "      <th>420</th>\n",
       "      <td>hurricane betsy disaster relief credit</td>\n",
       "    </tr>\n",
       "    <tr>\n",
       "      <th>438</th>\n",
       "      <td>application of forgiveness credit, act of 1972</td>\n",
       "    </tr>\n",
       "    <tr>\n",
       "      <th>449</th>\n",
       "      <td>application (conversion) of forgiveness credit...</td>\n",
       "    </tr>\n",
       "    <tr>\n",
       "      <th>512</th>\n",
       "      <td>establishment of credit report obligation</td>\n",
       "    </tr>\n",
       "    <tr>\n",
       "      <th>551</th>\n",
       "      <td>increase credit report obligation</td>\n",
       "    </tr>\n",
       "    <tr>\n",
       "      <th>552</th>\n",
       "      <td>decrease credit report obligation</td>\n",
       "    </tr>\n",
       "    <tr>\n",
       "      <th>243</th>\n",
       "      <td>credit report expense</td>\n",
       "    </tr>\n",
       "  </tbody>\n",
       "</table>\n",
       "</div>"
      ],
      "text/plain": [
       "                                                     DESCRIPTION\n",
       "TRANSACTIONCD                                                   \n",
       "361                     line-of-credit guarantee fees collection\n",
       "171                                         sbic drawdown credit\n",
       "143              loan approval reinstatement - pre credit reform\n",
       "399               increase of treasury borrowing - credit reform\n",
       "420                       hurricane betsy disaster relief credit\n",
       "438               application of forgiveness credit, act of 1972\n",
       "449            application (conversion) of forgiveness credit...\n",
       "512                    establishment of credit report obligation\n",
       "551                            increase credit report obligation\n",
       "552                            decrease credit report obligation\n",
       "243                                        credit report expense"
      ]
     },
     "execution_count": 139,
     "metadata": {},
     "output_type": "execute_result"
    }
   ],
   "source": [
    "df = pd.read_csv('ELIPSLOOKUP_TRANCDTBL.csv')\n",
    "df = df[df.columns[0:2]]\n",
    "df['DESCRIPTION']=df['DESCRIPTION'].str.lower()\n",
    "df[df['DESCRIPTION'].str.contains('credit')].set_index('TRANSACTIONCD')"
   ]
  },
  {
   "cell_type": "code",
   "execution_count": 73,
   "metadata": {},
   "outputs": [
    {
     "data": {
      "text/plain": [
       "Index(['SUBPROGRAMCD', 'DESCRIPTION'], dtype='object')"
      ]
     },
     "execution_count": 73,
     "metadata": {},
     "output_type": "execute_result"
    }
   ],
   "source": [
    "subpgm.columns"
   ]
  },
  {
   "cell_type": "code",
   "execution_count": null,
   "metadata": {},
   "outputs": [],
   "source": []
  }
 ],
 "metadata": {
  "kernelspec": {
   "display_name": "base",
   "language": "python",
   "name": "python3"
  },
  "language_info": {
   "codemirror_mode": {
    "name": "ipython",
    "version": 3
   },
   "file_extension": ".py",
   "mimetype": "text/x-python",
   "name": "python",
   "nbconvert_exporter": "python",
   "pygments_lexer": "ipython3",
   "version": "3.7.11 (default, Jul 27 2021, 09:42:29) [MSC v.1916 64 bit (AMD64)]"
  },
  "orig_nbformat": 4,
  "vscode": {
   "interpreter": {
    "hash": "83e1771ce1f9df5de1670795847cb857ef6bf5f13021e3cce81b976772d7099f"
   }
  }
 },
 "nbformat": 4,
 "nbformat_minor": 2
}
